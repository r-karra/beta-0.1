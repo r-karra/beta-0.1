{
 "cells": [
  {
   "cell_type": "raw",
   "id": "411c91d8-c0bc-432c-ba8a-d0736af1f2e0",
   "metadata": {},
   "source": [
    "---\n",
    "title: \"Introduction To Statistical Testing\"\n",
    "author: \"Isaac Flath\"\n",
    "date: \"2022-09-30\"\n",
    "description: \"An introduction to Statistical Testing applied to Stock Trading\"\n",
    "categories: [Time Series, Testing]\n",
    "image: \"../_TopicImages/TimeSeries.jpg\"\n",
    "---"
   ]
  },
  {
   "cell_type": "markdown",
   "id": "b78482bf",
   "metadata": {},
   "source": [
    "# Introduction to Testing"
   ]
  },
  {
   "cell_type": "code",
   "execution_count": null,
   "id": "54d6eb11",
   "metadata": {},
   "outputs": [],
   "source": [
    "from fastcore.all import *\n",
    "from IPython.display import clear_output\n",
    "import pandas as pd\n",
    "import numpy as np\n",
    "import matplotlib.pyplot as plt\n",
    "from polygon import RESTClient\n",
    "from utils import view_source_code, get_dollars\n",
    "from datetime import datetime, timedelta, date\n",
    "import math, time"
   ]
  },
  {
   "cell_type": "code",
   "execution_count": null,
   "id": "8354ae65",
   "metadata": {},
   "outputs": [],
   "source": [
    "path = Path('../data')"
   ]
  },
  {
   "cell_type": "markdown",
   "id": "30d48c10",
   "metadata": {},
   "source": [
    "## Background\n",
    "\n",
    "In [a previous post](../TimeSeries/SimpleTimeSeries.ipynb) we created models and created actions we want to take for multiple approaches for stock trading.  The question now is, how do we know if they are profitable?  How should we measure them?  How do we know if we simply got lucky, or if they are reliable?\n",
    "\n",
    "Testing is the most important part of the process.  If done well you have a good way to determine what strategies should be implemented, and if done poorly you run the risk of implementing non-profitable strategies.  I believe you should strive to never sacrifice testing principles because effective testing is your **only** objective indication to whether you are doing something useful or not.  Without effective testing you are \"flying blind\".\n",
    "\n",
    "This post will lay the groundwork and cover the basics of testing.  The goal of this post is to introduce concept and the three core things that need to be carefully considered for effective testing.\n",
    "\n",
    "1. What data should you use for testing?\n",
    "1. What metric should you use for testing?\n",
    "1. What test should you use?\n",
    "\n",
    "We are going to walk through the concepts to see each step and understand the importance."
   ]
  },
  {
   "cell_type": "markdown",
   "id": "a813dd5a",
   "metadata": {},
   "source": [
    "## What data should you use for testing?"
   ]
  },
  {
   "cell_type": "markdown",
   "id": "077f4b8a",
   "metadata": {},
   "source": [
    "The first question we have to ask is what data to we use for testing?  Ideally we have 3 subsets of our data (training, validation, and test).  Let's go through what they are used for and why they are important."
   ]
  },
  {
   "cell_type": "markdown",
   "id": "39b062db",
   "metadata": {},
   "source": [
    "### Training Set"
   ]
  },
  {
   "cell_type": "markdown",
   "id": "957a18b2",
   "metadata": {},
   "source": [
    "The training set is unique because it has no restrictions on what we can do with it.  We can look at any piece of data in it.  We can normalize data using values in the training set.  We can train machine learning models on the training set.  This is often the largest subset of our data.\n",
    "\n",
    "This training set is pretty explanatory - we use this for understanding our data and developing our model.  \n",
    "\n",
    "We can load it in using the same method as we did in [the previous post](../TimeSeries/SimpleTimeSeries.ipynb)"
   ]
  },
  {
   "cell_type": "code",
   "execution_count": null,
   "id": "81377a44",
   "metadata": {},
   "outputs": [],
   "source": [
    "raw = pd.read_csv(path/'eod-quotemedia.csv',parse_dates=['date'])\n",
    "df = raw.pivot(index='date', columns='ticker',values='adj_close')\n",
    "train = df.loc[:pd.Timestamp('2017-1-1')]"
   ]
  },
  {
   "cell_type": "markdown",
   "id": "1d6a1355",
   "metadata": {},
   "source": [
    "### Validation Set"
   ]
  },
  {
   "cell_type": "markdown",
   "id": "d100eb23",
   "metadata": {},
   "source": [
    "The goal of creating a trading strategy is to have it perform well on data that it was not developed using.  We may use data from 2015 - 2020 to create a trading strategy, but the goal is to apply it to 2021 and 2022 to make a profit.\n",
    "\n",
    "Because we want our model to perform on *unseen* data, we create some restriction to how we use the validation set.  We do not train any models on it, and we do not use statistics or data from the validation set when creating our model.  It's data our model has never seen.  The validation set is something we can only use to see how well our strategy or model performs.  \n",
    "\n",
    "The entire purpose of the validation set is to give us unseen data to evaluate our approaches on.  By having this separate validation set we can more accurately determine what works and what doesn't.\n",
    "\n",
    "We can get our validation set using the same method as we did in the [previous post](../TimeSeries/SimpleTimeSeries.ipynb)"
   ]
  },
  {
   "cell_type": "code",
   "execution_count": null,
   "id": "e03373cb",
   "metadata": {},
   "outputs": [],
   "source": [
    "valid = df.loc[pd.Timestamp('2017-1-1'):]"
   ]
  },
  {
   "cell_type": "markdown",
   "id": "d8d18010",
   "metadata": {},
   "source": [
    "### Test Set\n"
   ]
  },
  {
   "cell_type": "markdown",
   "id": "a992f84c",
   "metadata": {},
   "source": [
    "The Test set is very similar to the validation set, but it takes things a step further.  It has further restrictions in that is is the final model step before deployment.  The main difference is how often you can use it.  For the validation set, you can test anything on the validation set as many times as you want.  For the test set you only get to look at the test set once for your particular approach.\n",
    "\n",
    "For example, you may try 300 different approaches and parameter changes to your strategy to see what works best.  You can check the profitability on each of them using the validation set.  Then once you have chosen a strategy, you do a final check to ensure it also performs on the test set.  Once you have done that you need a new test set or your project is over.\n",
    "\n",
    "The reason this is important is that you want to ensure that you didn't get lucky and find a configuration out of your 300 attempts that just happens to work on the validation set but doesn't work elsewhere.  If you try enough combinations eventually you will find something that works, but the test set gives you confidence that your model works because it's a good strategy and not that you just tried enough things to find something that works on coincidence.\n",
    "\n",
    "\n",
    ":::{note} Many people re-use or have more lax rules on the test set.  Many people do not use one at all.  In this text I am laying out the ideal state I believe we should strive for.  If you choose to loosen these restrictions on the test set or do without one, I would strongly encourage you to think hard about it.\n"
   ]
  },
  {
   "cell_type": "markdown",
   "id": "cc2d1980",
   "metadata": {},
   "source": [
    "To get our test set, we could have split our initial data into 3.  Because we are a bit concerned about survivorship bias, let's pull a new test set that uses recent data to and test how these strategies would perform over the last year and a half."
   ]
  },
  {
   "cell_type": "markdown",
   "id": "c10d5755",
   "metadata": {},
   "source": [
    "We need to get adjusted close price.  There are a variety of services that have APIs to pull from, I have picked polgygon to use here because it's free for what we need."
   ]
  },
  {
   "cell_type": "code",
   "execution_count": null,
   "id": "656d894d",
   "metadata": {},
   "outputs": [],
   "source": [
    "client = RESTClient(polygon_free_api_key)"
   ]
  },
  {
   "cell_type": "code",
   "execution_count": null,
   "id": "bbeedcba",
   "metadata": {},
   "outputs": [],
   "source": [
    "if not (path/'polytest_eod-quotemedia.csv').exists():\n",
    "    dfs = L()\n",
    "    errors = L()\n",
    "    for ticker in valid:\n",
    "        try:\n",
    "            aggs = client.get_aggs(ticker, 1, \"day\", \"2021-01-01\", \"2022-05-31\",adjusted=True)\n",
    "            close = {ticker:[o.close for o in aggs]}\n",
    "            \n",
    "            # Convert millisecond time stamp to date\n",
    "            date = L(o.timestamp/1e3 for o in aggs).map(datetime.fromtimestamp)\n",
    "            dfs.append(pd.DataFrame(close,index=date))\n",
    "        except:\n",
    "            errors.append(aggs)\n",
    "            print(f\"FAILURE: {ticker}\")\n",
    "        \n",
    "        # Free api gives 5 API calls / minute - so we need to pace our api calls!\n",
    "        time.sleep(60/5)\n",
    "    df_test = pd.concat(dfs,axis=1)\n",
    "    df_test.to_csv(path/'polytest_eod-quotemedia.csv')\n",
    "\n",
    "df_test = pd.read_csv(path/'polytest_eod-quotemedia.csv',index_col=0,parse_dates=True)\n",
    "df_test.index.name='date'\n",
    "df_test.columns.name='ticker'"
   ]
  },
  {
   "cell_type": "code",
   "execution_count": null,
   "id": "ab7f0d89",
   "metadata": {},
   "outputs": [
    {
     "data": {
      "text/html": [
       "<div>\n",
       "<style scoped>\n",
       "    .dataframe tbody tr th:only-of-type {\n",
       "        vertical-align: middle;\n",
       "    }\n",
       "\n",
       "    .dataframe tbody tr th {\n",
       "        vertical-align: top;\n",
       "    }\n",
       "\n",
       "    .dataframe thead th {\n",
       "        text-align: right;\n",
       "    }\n",
       "</style>\n",
       "<table border=\"1\" class=\"dataframe\">\n",
       "  <thead>\n",
       "    <tr style=\"text-align: right;\">\n",
       "      <th>ticker</th>\n",
       "      <th>A</th>\n",
       "      <th>AAL</th>\n",
       "      <th>AAP</th>\n",
       "      <th>AAPL</th>\n",
       "      <th>ABBV</th>\n",
       "    </tr>\n",
       "    <tr>\n",
       "      <th>date</th>\n",
       "      <th></th>\n",
       "      <th></th>\n",
       "      <th></th>\n",
       "      <th></th>\n",
       "      <th></th>\n",
       "    </tr>\n",
       "  </thead>\n",
       "  <tbody>\n",
       "    <tr>\n",
       "      <th>2021-01-04</th>\n",
       "      <td>118.64</td>\n",
       "      <td>15.13</td>\n",
       "      <td>157.34</td>\n",
       "      <td>129.41</td>\n",
       "      <td>105.41</td>\n",
       "    </tr>\n",
       "    <tr>\n",
       "      <th>2021-01-05</th>\n",
       "      <td>119.61</td>\n",
       "      <td>15.43</td>\n",
       "      <td>157.17</td>\n",
       "      <td>131.01</td>\n",
       "      <td>106.50</td>\n",
       "    </tr>\n",
       "    <tr>\n",
       "      <th>2021-01-06</th>\n",
       "      <td>122.89</td>\n",
       "      <td>15.52</td>\n",
       "      <td>166.25</td>\n",
       "      <td>126.60</td>\n",
       "      <td>105.58</td>\n",
       "    </tr>\n",
       "    <tr>\n",
       "      <th>2021-01-07</th>\n",
       "      <td>126.16</td>\n",
       "      <td>15.38</td>\n",
       "      <td>167.67</td>\n",
       "      <td>130.92</td>\n",
       "      <td>106.71</td>\n",
       "    </tr>\n",
       "    <tr>\n",
       "      <th>2021-01-08</th>\n",
       "      <td>127.06</td>\n",
       "      <td>15.13</td>\n",
       "      <td>170.06</td>\n",
       "      <td>132.05</td>\n",
       "      <td>107.27</td>\n",
       "    </tr>\n",
       "  </tbody>\n",
       "</table>\n",
       "</div>"
      ],
      "text/plain": [
       "ticker           A    AAL     AAP    AAPL    ABBV\n",
       "date                                             \n",
       "2021-01-04  118.64  15.13  157.34  129.41  105.41\n",
       "2021-01-05  119.61  15.43  157.17  131.01  106.50\n",
       "2021-01-06  122.89  15.52  166.25  126.60  105.58\n",
       "2021-01-07  126.16  15.38  167.67  130.92  106.71\n",
       "2021-01-08  127.06  15.13  170.06  132.05  107.27"
      ]
     },
     "execution_count": null,
     "metadata": {},
     "output_type": "execute_result"
    }
   ],
   "source": [
    "df_test.iloc[:5,:5]"
   ]
  },
  {
   "cell_type": "markdown",
   "id": "a14bc8d4",
   "metadata": {},
   "source": [
    "## What metric should you use for testing?\n",
    "\n",
    "Now that we understand what data we will use for testing, let's start figuring out how well our first model from the [previous post performs](../TimeSeries/SimpleTimeSeries.ipynb)\n",
    "\n",
    "The next step is to figure out an appropriate metric.  There are a variety of ways to measure this and we will walk through a few first steps in this section"
   ]
  },
  {
   "cell_type": "markdown",
   "id": "dfc3f38d",
   "metadata": {},
   "source": [
    "### Dollars"
   ]
  },
  {
   "cell_type": "markdown",
   "id": "d63b8202",
   "metadata": {},
   "source": [
    "Let's take our first model from [the previous post](../TimeSeries/SimpleTimeSeries.ipynb) and measure how well it does in terms of dollars.  After all dollars is what we want to make, so it seems like a reasonable starting point."
   ]
  },
  {
   "cell_type": "code",
   "execution_count": null,
   "id": "93e3c15e",
   "metadata": {},
   "outputs": [],
   "source": [
    "from SimpleTimeSeries import get_momentum_actions"
   ]
  },
  {
   "cell_type": "code",
   "execution_count": null,
   "id": "011300ec",
   "metadata": {},
   "outputs": [],
   "source": [
    "valid_mom = get_momentum_actions(valid,28,0.08).reset_index()"
   ]
  },
  {
   "cell_type": "code",
   "execution_count": null,
   "id": "6675aea3",
   "metadata": {},
   "outputs": [],
   "source": [
    "transactions = pd.melt(valid_mom,id_vars='date',value_name='action')\n",
    "transactions = transactions.loc[transactions.action != '']\n",
    "transactions.columns = ['open_date'] + L(*transactions.columns[1:])"
   ]
  },
  {
   "cell_type": "code",
   "execution_count": null,
   "id": "f7dbe4a5",
   "metadata": {},
   "outputs": [
    {
     "data": {
      "text/html": [
       "<div>\n",
       "<style scoped>\n",
       "    .dataframe tbody tr th:only-of-type {\n",
       "        vertical-align: middle;\n",
       "    }\n",
       "\n",
       "    .dataframe tbody tr th {\n",
       "        vertical-align: top;\n",
       "    }\n",
       "\n",
       "    .dataframe thead th {\n",
       "        text-align: right;\n",
       "    }\n",
       "</style>\n",
       "<table border=\"1\" class=\"dataframe\">\n",
       "  <thead>\n",
       "    <tr style=\"text-align: right;\">\n",
       "      <th></th>\n",
       "      <th>open_date</th>\n",
       "      <th>ticker</th>\n",
       "      <th>action</th>\n",
       "    </tr>\n",
       "  </thead>\n",
       "  <tbody>\n",
       "    <tr>\n",
       "      <th>0</th>\n",
       "      <td>2017-02-14</td>\n",
       "      <td>A</td>\n",
       "      <td>Buy</td>\n",
       "    </tr>\n",
       "    <tr>\n",
       "      <th>2</th>\n",
       "      <td>2017-02-16</td>\n",
       "      <td>A</td>\n",
       "      <td>Buy</td>\n",
       "    </tr>\n",
       "    <tr>\n",
       "      <th>11</th>\n",
       "      <td>2017-03-02</td>\n",
       "      <td>A</td>\n",
       "      <td>Buy</td>\n",
       "    </tr>\n",
       "    <tr>\n",
       "      <th>13</th>\n",
       "      <td>2017-03-04</td>\n",
       "      <td>A</td>\n",
       "      <td>Buy</td>\n",
       "    </tr>\n",
       "    <tr>\n",
       "      <th>14</th>\n",
       "      <td>2017-03-07</td>\n",
       "      <td>A</td>\n",
       "      <td>Buy</td>\n",
       "    </tr>\n",
       "  </tbody>\n",
       "</table>\n",
       "</div>"
      ],
      "text/plain": [
       "    open_date ticker action\n",
       "0  2017-02-14      A    Buy\n",
       "2  2017-02-16      A    Buy\n",
       "11 2017-03-02      A    Buy\n",
       "13 2017-03-04      A    Buy\n",
       "14 2017-03-07      A    Buy"
      ]
     },
     "execution_count": null,
     "metadata": {},
     "output_type": "execute_result"
    }
   ],
   "source": [
    "transactions.head()"
   ]
  },
  {
   "cell_type": "markdown",
   "id": "f7eb51e3",
   "metadata": {},
   "source": [
    "Now we have a dataframe with all the positions we are going to take and when to take them.  But we are missing one crucial piece!  When should we close those positions.  We cannot make money by simplying buying a stock (ignoring dividends for now) - the profit comes when we actually close the position and sell the stock.  Let's close the position 28 days after opening."
   ]
  },
  {
   "cell_type": "code",
   "execution_count": null,
   "id": "19588cdf",
   "metadata": {},
   "outputs": [],
   "source": [
    "transactions['close_date'] = transactions.open_date + timedelta(28)\n",
    "transactions = transactions.loc[transactions.open_date < (transactions.open_date.max() - timedelta(28))]"
   ]
  },
  {
   "cell_type": "code",
   "execution_count": null,
   "id": "d5f46ab9",
   "metadata": {},
   "outputs": [
    {
     "data": {
      "text/html": [
       "<div>\n",
       "<style scoped>\n",
       "    .dataframe tbody tr th:only-of-type {\n",
       "        vertical-align: middle;\n",
       "    }\n",
       "\n",
       "    .dataframe tbody tr th {\n",
       "        vertical-align: top;\n",
       "    }\n",
       "\n",
       "    .dataframe thead th {\n",
       "        text-align: right;\n",
       "    }\n",
       "</style>\n",
       "<table border=\"1\" class=\"dataframe\">\n",
       "  <thead>\n",
       "    <tr style=\"text-align: right;\">\n",
       "      <th></th>\n",
       "      <th>open_date</th>\n",
       "      <th>ticker</th>\n",
       "      <th>action</th>\n",
       "      <th>close_date</th>\n",
       "    </tr>\n",
       "  </thead>\n",
       "  <tbody>\n",
       "    <tr>\n",
       "      <th>0</th>\n",
       "      <td>2017-02-14</td>\n",
       "      <td>A</td>\n",
       "      <td>Buy</td>\n",
       "      <td>2017-03-14</td>\n",
       "    </tr>\n",
       "    <tr>\n",
       "      <th>2</th>\n",
       "      <td>2017-02-16</td>\n",
       "      <td>A</td>\n",
       "      <td>Buy</td>\n",
       "      <td>2017-03-16</td>\n",
       "    </tr>\n",
       "    <tr>\n",
       "      <th>11</th>\n",
       "      <td>2017-03-02</td>\n",
       "      <td>A</td>\n",
       "      <td>Buy</td>\n",
       "      <td>2017-03-30</td>\n",
       "    </tr>\n",
       "    <tr>\n",
       "      <th>13</th>\n",
       "      <td>2017-03-04</td>\n",
       "      <td>A</td>\n",
       "      <td>Buy</td>\n",
       "      <td>2017-04-01</td>\n",
       "    </tr>\n",
       "    <tr>\n",
       "      <th>14</th>\n",
       "      <td>2017-03-07</td>\n",
       "      <td>A</td>\n",
       "      <td>Buy</td>\n",
       "      <td>2017-04-04</td>\n",
       "    </tr>\n",
       "  </tbody>\n",
       "</table>\n",
       "</div>"
      ],
      "text/plain": [
       "    open_date ticker action close_date\n",
       "0  2017-02-14      A    Buy 2017-03-14\n",
       "2  2017-02-16      A    Buy 2017-03-16\n",
       "11 2017-03-02      A    Buy 2017-03-30\n",
       "13 2017-03-04      A    Buy 2017-04-01\n",
       "14 2017-03-07      A    Buy 2017-04-04"
      ]
     },
     "execution_count": null,
     "metadata": {},
     "output_type": "execute_result"
    }
   ],
   "source": [
    "transactions.head()"
   ]
  },
  {
   "cell_type": "markdown",
   "id": "7172309c",
   "metadata": {},
   "source": [
    "Next we need to get the stock price on the date of our initial action when we open to position, as well as when we close our position.  Let's start with the price on the day we open."
   ]
  },
  {
   "cell_type": "code",
   "execution_count": null,
   "id": "446930bf",
   "metadata": {},
   "outputs": [],
   "source": [
    "df_valid_long = valid.melt(var_name='ticker',value_name='adj_close',ignore_index=False).reset_index()\n",
    "df_valid_long.columns = ['dte','ticker','adj_close']"
   ]
  },
  {
   "cell_type": "code",
   "execution_count": null,
   "id": "4f6a916c",
   "metadata": {},
   "outputs": [
    {
     "data": {
      "text/html": [
       "<div>\n",
       "<style scoped>\n",
       "    .dataframe tbody tr th:only-of-type {\n",
       "        vertical-align: middle;\n",
       "    }\n",
       "\n",
       "    .dataframe tbody tr th {\n",
       "        vertical-align: top;\n",
       "    }\n",
       "\n",
       "    .dataframe thead th {\n",
       "        text-align: right;\n",
       "    }\n",
       "</style>\n",
       "<table border=\"1\" class=\"dataframe\">\n",
       "  <thead>\n",
       "    <tr style=\"text-align: right;\">\n",
       "      <th></th>\n",
       "      <th>open_date</th>\n",
       "      <th>ticker</th>\n",
       "      <th>action</th>\n",
       "      <th>close_date</th>\n",
       "      <th>dte</th>\n",
       "      <th>adj_close</th>\n",
       "    </tr>\n",
       "  </thead>\n",
       "  <tbody>\n",
       "    <tr>\n",
       "      <th>0</th>\n",
       "      <td>2017-02-14</td>\n",
       "      <td>A</td>\n",
       "      <td>Buy</td>\n",
       "      <td>2017-03-14</td>\n",
       "      <td>2017-02-14</td>\n",
       "      <td>49.703267</td>\n",
       "    </tr>\n",
       "    <tr>\n",
       "      <th>1</th>\n",
       "      <td>2017-02-16</td>\n",
       "      <td>A</td>\n",
       "      <td>Buy</td>\n",
       "      <td>2017-03-16</td>\n",
       "      <td>2017-02-16</td>\n",
       "      <td>50.147135</td>\n",
       "    </tr>\n",
       "    <tr>\n",
       "      <th>2</th>\n",
       "      <td>2017-03-02</td>\n",
       "      <td>A</td>\n",
       "      <td>Buy</td>\n",
       "      <td>2017-03-30</td>\n",
       "      <td>2017-03-02</td>\n",
       "      <td>50.679775</td>\n",
       "    </tr>\n",
       "    <tr>\n",
       "      <th>3</th>\n",
       "      <td>2017-03-04</td>\n",
       "      <td>A</td>\n",
       "      <td>Buy</td>\n",
       "      <td>2017-04-01</td>\n",
       "      <td>NaT</td>\n",
       "      <td>NaN</td>\n",
       "    </tr>\n",
       "    <tr>\n",
       "      <th>4</th>\n",
       "      <td>2017-03-07</td>\n",
       "      <td>A</td>\n",
       "      <td>Buy</td>\n",
       "      <td>2017-04-04</td>\n",
       "      <td>2017-03-07</td>\n",
       "      <td>50.512092</td>\n",
       "    </tr>\n",
       "    <tr>\n",
       "      <th>5</th>\n",
       "      <td>2017-03-11</td>\n",
       "      <td>A</td>\n",
       "      <td>Buy</td>\n",
       "      <td>2017-04-08</td>\n",
       "      <td>NaT</td>\n",
       "      <td>NaN</td>\n",
       "    </tr>\n",
       "    <tr>\n",
       "      <th>6</th>\n",
       "      <td>2017-03-16</td>\n",
       "      <td>A</td>\n",
       "      <td>Buy</td>\n",
       "      <td>2017-04-13</td>\n",
       "      <td>2017-03-16</td>\n",
       "      <td>52.327016</td>\n",
       "    </tr>\n",
       "    <tr>\n",
       "      <th>7</th>\n",
       "      <td>2017-03-18</td>\n",
       "      <td>A</td>\n",
       "      <td>Buy</td>\n",
       "      <td>2017-04-15</td>\n",
       "      <td>NaT</td>\n",
       "      <td>NaN</td>\n",
       "    </tr>\n",
       "    <tr>\n",
       "      <th>8</th>\n",
       "      <td>2017-05-24</td>\n",
       "      <td>A</td>\n",
       "      <td>Buy</td>\n",
       "      <td>2017-06-21</td>\n",
       "      <td>2017-05-24</td>\n",
       "      <td>58.568656</td>\n",
       "    </tr>\n",
       "    <tr>\n",
       "      <th>9</th>\n",
       "      <td>2017-05-25</td>\n",
       "      <td>A</td>\n",
       "      <td>Buy</td>\n",
       "      <td>2017-06-22</td>\n",
       "      <td>2017-05-25</td>\n",
       "      <td>58.637875</td>\n",
       "    </tr>\n",
       "  </tbody>\n",
       "</table>\n",
       "</div>"
      ],
      "text/plain": [
       "   open_date ticker action close_date        dte  adj_close\n",
       "0 2017-02-14      A    Buy 2017-03-14 2017-02-14  49.703267\n",
       "1 2017-02-16      A    Buy 2017-03-16 2017-02-16  50.147135\n",
       "2 2017-03-02      A    Buy 2017-03-30 2017-03-02  50.679775\n",
       "3 2017-03-04      A    Buy 2017-04-01        NaT        NaN\n",
       "4 2017-03-07      A    Buy 2017-04-04 2017-03-07  50.512092\n",
       "5 2017-03-11      A    Buy 2017-04-08        NaT        NaN\n",
       "6 2017-03-16      A    Buy 2017-04-13 2017-03-16  52.327016\n",
       "7 2017-03-18      A    Buy 2017-04-15        NaT        NaN\n",
       "8 2017-05-24      A    Buy 2017-06-21 2017-05-24  58.568656\n",
       "9 2017-05-25      A    Buy 2017-06-22 2017-05-25  58.637875"
      ]
     },
     "execution_count": null,
     "metadata": {},
     "output_type": "execute_result"
    }
   ],
   "source": [
    "transactions['open_date'] = pd.to_datetime(transactions.open_date)\n",
    "df_valid_long['dte']      = pd.to_datetime(df_valid_long.dte)\n",
    "pd.merge(left=transactions,left_on=['open_date','ticker'],\n",
    "         right=df_valid_long,right_on=['dte','ticker'],\n",
    "         how='left').head(10)"
   ]
  },
  {
   "cell_type": "markdown",
   "id": "cea0ea42",
   "metadata": {},
   "source": [
    "Uh oh - We have a join that isn't working correctly and get `NaT` and `NaN`!  We created our model assuming that we could make transactions any day we want, but the stock market is not open every day.  There are limitations to when we can trade openly in the stock market we need to start accounting for.  \n",
    "\n",
    "When we trade using the adjusted close price we added a day because we wouldn't be able to actually place the trade until the following day.  If that day ended up being a Saturday in reality we would have to wait until Monday to place that trade (assuming that monday isn't a holiday).  \n",
    "\n",
    "Let's fix that by getting the next available trading day for each date.  Because we know this same thing applies to our `close_date`, we will fix it there as well."
   ]
  },
  {
   "cell_type": "code",
   "execution_count": null,
   "id": "14a4b0d3",
   "metadata": {},
   "outputs": [],
   "source": [
    "def get_next_trading_day(dte,unique_dates):\n",
    "    _dates_dict = unique_dates.val2idx()\n",
    "    for i in range(10):\n",
    "        out = _dates_dict.get(dte.date()+timedelta(i),False) \n",
    "        if out != False: return unique_dates[out]\n",
    "    raise Exception"
   ]
  },
  {
   "cell_type": "code",
   "execution_count": null,
   "id": "c6db36bc",
   "metadata": {},
   "outputs": [],
   "source": [
    "f = bind(get_next_trading_day,unique_dates=L(*valid.index.date))\n",
    "\n",
    "transactions['open_date'] = transactions.open_date.apply(f)\n",
    "transactions['close_date'] = transactions.close_date.apply(f)"
   ]
  },
  {
   "cell_type": "code",
   "execution_count": null,
   "id": "490f21c9",
   "metadata": {},
   "outputs": [],
   "source": [
    "transactions['open_date'] = pd.to_datetime(transactions.open_date)\n",
    "transactions['close_date'] = pd.to_datetime(transactions.close_date)\n"
   ]
  },
  {
   "cell_type": "markdown",
   "id": "396321ed",
   "metadata": {},
   "source": [
    "Now we can merge in the price correctly!"
   ]
  },
  {
   "cell_type": "code",
   "execution_count": null,
   "id": "f70a6faf",
   "metadata": {},
   "outputs": [],
   "source": [
    "transactions = pd.merge(left=transactions,left_on=['open_date','ticker'],\n",
    "                         right=df_valid_long,right_on=['dte','ticker'],\n",
    "                          how='left')\n",
    "transactions = pd.merge(left=transactions,left_on=['close_date','ticker'],\n",
    "                         right=df_valid_long,right_on=['dte','ticker'],\n",
    "                          how='left',\n",
    "                          suffixes=('_atOpen','_atClose'))"
   ]
  },
  {
   "cell_type": "code",
   "execution_count": null,
   "id": "afdb5109",
   "metadata": {},
   "outputs": [
    {
     "data": {
      "text/html": [
       "<div>\n",
       "<style scoped>\n",
       "    .dataframe tbody tr th:only-of-type {\n",
       "        vertical-align: middle;\n",
       "    }\n",
       "\n",
       "    .dataframe tbody tr th {\n",
       "        vertical-align: top;\n",
       "    }\n",
       "\n",
       "    .dataframe thead th {\n",
       "        text-align: right;\n",
       "    }\n",
       "</style>\n",
       "<table border=\"1\" class=\"dataframe\">\n",
       "  <thead>\n",
       "    <tr style=\"text-align: right;\">\n",
       "      <th></th>\n",
       "      <th>ticker</th>\n",
       "      <th>action</th>\n",
       "      <th>dte_atOpen</th>\n",
       "      <th>adj_close_atOpen</th>\n",
       "      <th>dte_atClose</th>\n",
       "      <th>adj_close_atClose</th>\n",
       "    </tr>\n",
       "  </thead>\n",
       "  <tbody>\n",
       "    <tr>\n",
       "      <th>0</th>\n",
       "      <td>A</td>\n",
       "      <td>Buy</td>\n",
       "      <td>2017-02-14</td>\n",
       "      <td>49.703267</td>\n",
       "      <td>2017-03-14</td>\n",
       "      <td>51.498464</td>\n",
       "    </tr>\n",
       "    <tr>\n",
       "      <th>1</th>\n",
       "      <td>A</td>\n",
       "      <td>Buy</td>\n",
       "      <td>2017-02-16</td>\n",
       "      <td>50.147135</td>\n",
       "      <td>2017-03-16</td>\n",
       "      <td>52.327016</td>\n",
       "    </tr>\n",
       "    <tr>\n",
       "      <th>2</th>\n",
       "      <td>A</td>\n",
       "      <td>Buy</td>\n",
       "      <td>2017-03-02</td>\n",
       "      <td>50.679775</td>\n",
       "      <td>2017-03-30</td>\n",
       "      <td>52.593336</td>\n",
       "    </tr>\n",
       "  </tbody>\n",
       "</table>\n",
       "</div>"
      ],
      "text/plain": [
       "  ticker action dte_atOpen  adj_close_atOpen dte_atClose  adj_close_atClose\n",
       "0      A    Buy 2017-02-14         49.703267  2017-03-14          51.498464\n",
       "1      A    Buy 2017-02-16         50.147135  2017-03-16          52.327016\n",
       "2      A    Buy 2017-03-02         50.679775  2017-03-30          52.593336"
      ]
     },
     "execution_count": null,
     "metadata": {},
     "output_type": "execute_result"
    }
   ],
   "source": [
    "transactions[['ticker','action',\n",
    "             'dte_atOpen','adj_close_atOpen',\n",
    "             'dte_atClose','adj_close_atClose']].head(3)"
   ]
  },
  {
   "cell_type": "raw",
   "id": "2e788d02",
   "metadata": {},
   "source": [
    "Ok - now let's figure out out profit.  I am going to create various columns"
   ]
  },
  {
   "cell_type": "code",
   "execution_count": null,
   "id": "0da1e2a9",
   "metadata": {},
   "outputs": [],
   "source": [
    "def f_committed(x):\n",
    "    if x.action in ('Buy','Short'): return x.adj_close_atOpen  \n",
    "    else: return 0\n",
    "transactions['committed'] = transactions.apply(f_committed,axis=1)\n",
    "\n",
    "def f_revenue(x):\n",
    "    if x.action==\"Buy\": return x.adj_close_atClose\n",
    "    else:               return x.adj_close_atOpen\n",
    "transactions['revenue'] = transactions.apply(f_revenue,axis=1)\n",
    "\n",
    "def f_cost(x):\n",
    "    if x.action == 'Buy': return x.adj_close_atOpen  \n",
    "    else:                 return x.adj_close_atClose\n",
    "transactions['cost'] = transactions.apply(f_cost,axis=1)\n",
    "\n",
    "transactions['profit'] = transactions.revenue - transactions.cost\n"
   ]
  },
  {
   "cell_type": "code",
   "execution_count": null,
   "id": "33a40545",
   "metadata": {},
   "outputs": [],
   "source": [
    "transactions['committed'] = transactions.apply(f_committed,axis=1)\n",
    "transactions['revenue'] = transactions.apply(f_revenue,axis=1)\n",
    "transactions['cost'] = transactions.apply(f_cost,axis=1)\n",
    "transactions['profit'] = transactions.revenue - transactions.cost\n"
   ]
  },
  {
   "cell_type": "code",
   "execution_count": null,
   "id": "21d3b487",
   "metadata": {},
   "outputs": [
    {
     "data": {
      "text/plain": [
       "('$7457.36', '$190.98', '$7648.35')"
      ]
     },
     "execution_count": null,
     "metadata": {},
     "output_type": "execute_result"
    }
   ],
   "source": [
    "get_dollars(transactions[transactions.action=='Buy'].profit.sum()), \\\n",
    "get_dollars(transactions[transactions.action=='Short'].profit.sum()), \\\n",
    "get_dollars(transactions.profit.sum())"
   ]
  },
  {
   "cell_type": "markdown",
   "id": "2ce4e9f8",
   "metadata": {},
   "source": [
    "Great!  So according to our validation set we made a good chunk of profit (pre-tax).  We could buy/short in higher volumes (ie Buy = 10x buys, Short = 10x shorts) to make this profit larger.\n",
    "\n",
    "However, this really isn't enough information to determine whether that is a good idea of feasible.  I would love to loan someone 100 dollars if they would give me one-thousand dollars back a week later.  I would hate to loan someone 1,000,000 dollars on the promise that they would pay me 1,000,900 dollars back in 20 years.  The reward just wouldn't be worth the risk, and I can use that money better in a 20-year span than that.\n",
    "\n",
    "Let's see if we can come up with a better metric that accounts for this."
   ]
  },
  {
   "cell_type": "markdown",
   "id": "c7b6661f",
   "metadata": {},
   "source": [
    "### Percent Return"
   ]
  },
  {
   "cell_type": "markdown",
   "id": "12e210c9",
   "metadata": {},
   "source": [
    "Instead of measuring raw dollars, lets consider how much money (capital) we needed in order to make that 90 dollars profit.  To do this we need to keep track of our money more carefully than just looking at how much we made at the end.  Let's track out financials by day instead of by transaction o calculate this.\n",
    "\n",
    ":::{.callout-note} \n",
    "I am using \"committed\" to be the amount we have invested + the amount leveraged.  For now, let's assume that we won't take out debt and borrow stocks (shorting) if we do not have the capital to cover the initial price we borrowed at\n",
    ":::"
   ]
  },
  {
   "cell_type": "code",
   "execution_count": null,
   "id": "12a8adb3",
   "metadata": {},
   "outputs": [
    {
     "data": {
      "text/html": [
       "<div>\n",
       "<style scoped>\n",
       "    .dataframe tbody tr th:only-of-type {\n",
       "        vertical-align: middle;\n",
       "    }\n",
       "\n",
       "    .dataframe tbody tr th {\n",
       "        vertical-align: top;\n",
       "    }\n",
       "\n",
       "    .dataframe thead th {\n",
       "        text-align: right;\n",
       "    }\n",
       "</style>\n",
       "<table border=\"1\" class=\"dataframe\">\n",
       "  <thead>\n",
       "    <tr style=\"text-align: right;\">\n",
       "      <th></th>\n",
       "      <th>committed</th>\n",
       "      <th>profit</th>\n",
       "      <th>revenue</th>\n",
       "      <th>cost</th>\n",
       "    </tr>\n",
       "  </thead>\n",
       "  <tbody>\n",
       "    <tr>\n",
       "      <th>2017-03-08</th>\n",
       "      <td>10584.689356</td>\n",
       "      <td>0.000000</td>\n",
       "      <td>0.000000</td>\n",
       "      <td>10583.600318</td>\n",
       "    </tr>\n",
       "    <tr>\n",
       "      <th>2017-03-29</th>\n",
       "      <td>5225.468769</td>\n",
       "      <td>-93.792090</td>\n",
       "      <td>11510.549118</td>\n",
       "      <td>5250.575701</td>\n",
       "    </tr>\n",
       "    <tr>\n",
       "      <th>2017-02-16</th>\n",
       "      <td>13205.019794</td>\n",
       "      <td>0.000000</td>\n",
       "      <td>0.000000</td>\n",
       "      <td>13187.821518</td>\n",
       "    </tr>\n",
       "    <tr>\n",
       "      <th>2017-05-04</th>\n",
       "      <td>12577.980970</td>\n",
       "      <td>-17.387456</td>\n",
       "      <td>3561.027174</td>\n",
       "      <td>12536.763156</td>\n",
       "    </tr>\n",
       "    <tr>\n",
       "      <th>2017-03-30</th>\n",
       "      <td>3812.650344</td>\n",
       "      <td>-42.581923</td>\n",
       "      <td>16811.036857</td>\n",
       "      <td>3830.179057</td>\n",
       "    </tr>\n",
       "    <tr>\n",
       "      <th>2017-05-16</th>\n",
       "      <td>13842.232885</td>\n",
       "      <td>114.058575</td>\n",
       "      <td>4165.332503</td>\n",
       "      <td>13868.190505</td>\n",
       "    </tr>\n",
       "    <tr>\n",
       "      <th>2017-05-01</th>\n",
       "      <td>6789.531992</td>\n",
       "      <td>154.664868</td>\n",
       "      <td>5354.190170</td>\n",
       "      <td>6754.560876</td>\n",
       "    </tr>\n",
       "    <tr>\n",
       "      <th>2017-06-15</th>\n",
       "      <td>0.000000</td>\n",
       "      <td>203.997769</td>\n",
       "      <td>10639.412827</td>\n",
       "      <td>0.000000</td>\n",
       "    </tr>\n",
       "  </tbody>\n",
       "</table>\n",
       "</div>"
      ],
      "text/plain": [
       "               committed      profit       revenue          cost\n",
       "2017-03-08  10584.689356    0.000000      0.000000  10583.600318\n",
       "2017-03-29   5225.468769  -93.792090  11510.549118   5250.575701\n",
       "2017-02-16  13205.019794    0.000000      0.000000  13187.821518\n",
       "2017-05-04  12577.980970  -17.387456   3561.027174  12536.763156\n",
       "2017-03-30   3812.650344  -42.581923  16811.036857   3830.179057\n",
       "2017-05-16  13842.232885  114.058575   4165.332503  13868.190505\n",
       "2017-05-01   6789.531992  154.664868   5354.190170   6754.560876\n",
       "2017-06-15      0.000000  203.997769  10639.412827      0.000000"
      ]
     },
     "execution_count": null,
     "metadata": {},
     "output_type": "execute_result"
    }
   ],
   "source": [
    "df = pd.DataFrame()\n",
    "for cols in [['open_date','committed'],\n",
    "             ['close_date','profit'],\n",
    "             ['close_date','revenue'],\n",
    "             ['open_date','cost']]:\n",
    "    _tmp = transactions[cols].groupby(cols[0]).sum()\n",
    "    df = pd.merge(df,_tmp,how='outer',left_index=True,right_index=True)\n",
    "df.fillna(0,inplace=True)\n",
    "df.sort_index(inplace=True)\n",
    "df.sample(8)"
   ]
  },
  {
   "cell_type": "markdown",
   "id": "bc1d8bd5",
   "metadata": {},
   "source": [
    "Now we can easily look at when we had the most committed.  We are subtracting revenue because once we get money back we can reinvest rather than using new money."
   ]
  },
  {
   "cell_type": "code",
   "execution_count": null,
   "id": "e78dc78d",
   "metadata": {},
   "outputs": [
    {
     "data": {
      "text/plain": [
       "'$274744.63'"
      ]
     },
     "execution_count": null,
     "metadata": {},
     "output_type": "execute_result"
    }
   ],
   "source": [
    "capital_needed = (df.committed.cumsum()-df.revenue.cumsum()).max()\n",
    "get_dollars(capital_needed)"
   ]
  },
  {
   "cell_type": "markdown",
   "id": "61e4f554",
   "metadata": {},
   "source": [
    "And of course our profit is still the same as we had before because we are just aggregating the data differently.\n",
    "\n",
    ":::{.callout-tip} \n",
    "This is the first time we are using the [fastcore's testing framework](https://fastcore.fast.ai/test.html).  It has several handy and easy to use testing functions, such as testing if 2 numbers are arbitrarily close (useful for floats).\n",
    ":::"
   ]
  },
  {
   "cell_type": "code",
   "execution_count": null,
   "id": "4321488a",
   "metadata": {},
   "outputs": [
    {
     "data": {
      "text/plain": [
       "'$7648.35'"
      ]
     },
     "execution_count": null,
     "metadata": {},
     "output_type": "execute_result"
    }
   ],
   "source": [
    "test_close(transactions.profit.sum(),df.profit.sum())\n",
    "get_dollars(df.profit.sum())"
   ]
  },
  {
   "cell_type": "markdown",
   "id": "2ca29b1f",
   "metadata": {},
   "source": [
    "Now that we see our capital needed and our profit, let's calculate a percent return"
   ]
  },
  {
   "cell_type": "code",
   "execution_count": null,
   "id": "3881d4db",
   "metadata": {},
   "outputs": [
    {
     "data": {
      "text/plain": [
       "'Percent Return: 2.78%'"
      ]
     },
     "execution_count": null,
     "metadata": {},
     "output_type": "execute_result"
    }
   ],
   "source": [
    "f\"Percent Return: {(df.profit.sum() / capital_needed) * 100:.2f}%\""
   ]
  },
  {
   "cell_type": "markdown",
   "id": "6add0704",
   "metadata": {},
   "source": [
    "### Log Return"
   ]
  },
  {
   "cell_type": "markdown",
   "id": "243bf281",
   "metadata": {},
   "source": [
    "More commonly rather than using the percent return we want to use the log return.  There are a lot of reasons they are advantageous to use, but for now we will cover one that is immediately useful to us.\n",
    "\n",
    "**Symmetry / Additive**\n",
    "\n",
    "+ Percent Return\n",
    "    - Invest 100 dollars\n",
    "    - Get 50% Return on investment 1 and reinvest\n",
    "    - Get -50% Return on investment 2\n",
    "    - End with **75** dollars\n",
    "+ Log Return\n",
    "    - Invest 100 dollars\n",
    "    - Get 50% Return on investment 1 and reinvest\n",
    "    - Get -50% Return on investment 2\n",
    "    - End with **100** dollars\n",
    "\n",
    "This property where a positive return + an equal-sized negative return = no return makes it much easier to look at returns and figure out if you are winning or losing.  Just add up all your log returns to get your overall log return.  You have to be much more careful with percent returns.\n"
   ]
  },
  {
   "cell_type": "code",
   "execution_count": null,
   "id": "ca5a26d9",
   "metadata": {},
   "outputs": [
    {
     "data": {
      "text/plain": [
       "'2.75%'"
      ]
     },
     "execution_count": null,
     "metadata": {},
     "output_type": "execute_result"
    }
   ],
   "source": [
    "pt = capital_needed + df.profit.sum()\n",
    "pt_1 = capital_needed\n",
    "log_return = math.log(pt/pt_1)\n",
    "f\"{math.log(pt/pt_1)*100:.2f}%\""
   ]
  },
  {
   "cell_type": "markdown",
   "id": "fc9beae0",
   "metadata": {},
   "source": [
    "As we calculate the log return we see we get a very similar value to our percent return, but it's not exactly the same.  The advantage of using the log return however is we can accurate get an estimated annualized return.\n",
    "\n",
    "This is great because we can easily have everything thought of as an annualized return so that we have a common time frame to compare investment strategies more easily."
   ]
  },
  {
   "cell_type": "code",
   "execution_count": null,
   "id": "38cc2cbf",
   "metadata": {},
   "outputs": [],
   "source": [
    "time_period = (df.index.max().date() - df.index.min().date()).days"
   ]
  },
  {
   "cell_type": "code",
   "execution_count": null,
   "id": "ca06348b",
   "metadata": {},
   "outputs": [
    {
     "data": {
      "text/plain": [
       "'7.37%'"
      ]
     },
     "execution_count": null,
     "metadata": {},
     "output_type": "execute_result"
    }
   ],
   "source": [
    "f\"{(log_return/time_period * 365)*100:.2f}%\""
   ]
  },
  {
   "cell_type": "markdown",
   "id": "c8f1ad57",
   "metadata": {},
   "source": [
    "Now we can just convert to normal return to compare very simply to S&P 500 annual return"
   ]
  },
  {
   "cell_type": "code",
   "execution_count": null,
   "id": "3141cd0f",
   "metadata": {},
   "outputs": [
    {
     "data": {
      "text/plain": [
       "'7.65%'"
      ]
     },
     "execution_count": null,
     "metadata": {},
     "output_type": "execute_result"
    }
   ],
   "source": [
    "f\"{(np.exp(log_return/time_period * 365)-1)*100:.2f}%\""
   ]
  },
  {
   "cell_type": "markdown",
   "id": "3a7add65",
   "metadata": {},
   "source": [
    "Go ahead an look up S&P 500 annual returns for each year online and compare.  How does this fare?"
   ]
  },
  {
   "cell_type": "markdown",
   "id": "468fb835",
   "metadata": {},
   "source": [
    "## Statistical Tests"
   ]
  },
  {
   "cell_type": "markdown",
   "id": "ba251f4c",
   "metadata": {},
   "source": [
    "### Motivation"
   ]
  },
  {
   "cell_type": "markdown",
   "id": "6a538871",
   "metadata": {},
   "source": [
    "If you bought fifty 1.50 dollar lottery tickets and won 10 million dollars in the lottery, what could you say about your chances to win?  Well let's calculate our rate of return.\n",
    "\n",
    "$$\\frac{10,000,000 - 75}{75} = 133,332.33$$\n",
    "\n",
    "So based on our calculations, the rate of return for playing the lottery is fantastic.  But we know that this doesn't really reflect reality or mean that it's a good safe investment strategy.  We know that you would've just gotten lucky.\n",
    "\n",
    "So how do we determine if our trading strategy is a good strategy, or we just got lucky this time?  This is where statistical testing comes in.\n",
    "\n",
    "I will cover the basics that I think are key, but if you'd like more detail and practice I reading [Statistics: Unlocking the Power of Data](https://www.lock5stat.com/).  Unlike most statistics books it is extremely applied and focused on data, with lots of real world examples."
   ]
  },
  {
   "cell_type": "markdown",
   "id": "cc1b7c2f",
   "metadata": {},
   "source": [
    "### Bootstrapping"
   ]
  },
  {
   "cell_type": "markdown",
   "id": "a3369658",
   "metadata": {},
   "source": [
    "#### Background"
   ]
  },
  {
   "cell_type": "markdown",
   "id": "34144e32",
   "metadata": {},
   "source": [
    "Statistical testing can be done be done using 2 general approaches.  The first is the classical approach with is the most widely known.  The second is through bootstrapping.  This post will focus on bootstrapping because in my opinion it is the first that should be learned. \n",
    "\n",
    "Bootstrapping is less commonly accepted but is the more powerful and flexible of the two.  In bootstrapping you create a sampling distribution by by taking many samples and performing an experiment.  In traditional testing you use clever algebra to approximate a sampling distribution.  With todays computer you can almost always use bootstrapping and I believe it it the more powerful and flexible approach.\n",
    "\n",
    "With Bootstrapping you start with just the data and make no other assumptions about the data.  With classical methods you start with the data and some assumptions about the data in order to arrive at an answer.  If you make incorrect assumptions then you get an incorrect answer - and determining which assumptions are safe to make is not always trivial.\n",
    "\n",
    "The idea of bootstrapping and the power of it has also been spoken of by many of the statistical greats for almost 100 years, much longer than it was feasible to do, [as pointed out in this article](https://www.lock5stat.com/Lock5Overview.pdf).\n",
    "\n",
    "For example, that article points out that in 1936 Sir R.A. Fisher spoke about using this bootstrapping approach:\n",
    "\n",
    "> Actually, the statistician does not carry out this very simple and very tedious process, but his conclusions have no justification beyond the fact that they agree with those which could have been arrived at by this elementary method.\n",
    "\n",
    "However while these methods were tedious in 1936, they are trivial thanks to modern computers.  We no longer have to do clever algebraic tricks to approximate a sampling distribution - we can just create a sampling distribution.\n",
    "\n",
    "That said, I do believe it's good and useful to have the ability to use both approaches.  Luckily, traditional testing is just algebraic tricks to approximate what we will do here and so it will not be too hard to pick that up on top of bootstrapping.  In this section we will focus on Bootstrapping because in my opinion it is the one that should be learned first."
   ]
  },
  {
   "cell_type": "markdown",
   "id": "04dc727e",
   "metadata": {},
   "source": [
    "#### Bootstrap Test"
   ]
  },
  {
   "cell_type": "markdown",
   "id": "3f150998",
   "metadata": {},
   "source": [
    "With any type of testing we need to understand what we are testing.  We are going to have 2 competing hypothesis.  The first in the **null hypothesis**.  The null hypothesis is what we assume to be true, until we have evidence otherwise.  \n",
    "\n",
    "In the context of trading strategies we might make the hypothesis that our strategy will yield returns equal to that of randomly picking stocks.  If we randomly pick stocks we know that it will roughly match the market so that seems like a reasonable thing to want to beat.  The null hypothesis is important because our goal of testing is to determine whether we have sufficient evident to reject that null hypothesis.\n",
    "\n",
    "The alternate hypothesis is what we are testing for.  For example, if the null hypothesis is that our strategy will yield returns equal that that of investing in random stocks the alternate hypothesis could be that our strategy will yield returns greater than if we were to invest in random stocks."
   ]
  },
  {
   "cell_type": "markdown",
   "id": "d7abe96a",
   "metadata": {},
   "source": [
    "First we need a few functions:\n",
    "\n",
    "+ A function to run our null hypothesis model (random)\n",
    "+ A function to run the model we created and have been exploring throughout the post\n",
    "+ A function to measure the statistic of each run (log return of the models)"
   ]
  },
  {
   "cell_type": "markdown",
   "id": "c62c8a26",
   "metadata": {},
   "source": [
    "##### Null Hypothesis Model\n",
    "\n",
    "Let's design a Null Hypothesis.  There are many Null Hypothesis' you can choose, and one of the beauty of bootstrapping is that you can think about it very intuitively and design the experiment exactly how you want easier."
   ]
  },
  {
   "cell_type": "code",
   "execution_count": null,
   "id": "a57e0e20",
   "metadata": {},
   "outputs": [],
   "source": [
    "def run_random(input_df,buy_chance,short_chance,hold_time):\n",
    "    input_df_l = input_df.melt(var_name='ticker',value_name='adj_close',\n",
    "                                  ignore_index=False).reset_index()\n",
    "    \n",
    "    # Buy/Short stocks using random chance, probabilities to be passed as arguements\n",
    "    buys = input_df_l.loc[np.random.rand(input_df_l.shape[0])<buy_chance].copy()\n",
    "    shorts = input_df_l.loc[np.random.rand(input_df_l.shape[0])<short_chance].copy()\n",
    "\n",
    "    # Concatenate into 1 dataframe\n",
    "    buys['action'] = 'Buy'\n",
    "    shorts['action'] = 'Short'\n",
    "    trans = pd.concat([buys[['date','ticker','action']],\n",
    "                     shorts[['date','ticker','action']]])\n",
    "    \n",
    "    # Close the positions\n",
    "    trans['close_date'] = trans.date + timedelta(hold_time)\n",
    "    trans = trans.loc[trans.date < (trans.date.max() - timedelta(hold_time))]\n",
    "    \n",
    "    # Adjust dates for when market is open\n",
    "    f = bind(get_next_trading_day,unique_dates=L(*input_df.index.date))\n",
    "    \n",
    "    trans['date'] = pd.to_datetime(trans.date.apply(f))\n",
    "    trans['close_date'] = pd.to_datetime(trans.close_date.apply(f))\n",
    "    return trans"
   ]
  },
  {
   "cell_type": "markdown",
   "id": "123968fc",
   "metadata": {},
   "source": [
    "##### Alternate Hypothesis Model\n",
    "\n",
    "We also need a model that we are hoping performs well that we are trying to evaluate whether it is better than our random null hypothesis or not.  For this, we will just use the model we have been working on throughout the post."
   ]
  },
  {
   "cell_type": "code",
   "execution_count": null,
   "id": "2dbcfe06",
   "metadata": {},
   "outputs": [],
   "source": [
    "def run_model(input_df,n_periods,threshold,hold_time):\n",
    "    valid_mom = get_momentum_actions(input_df,n_periods,threshold).reset_index()\n",
    "    trans = pd.melt(valid_mom,id_vars='date',value_name='action')\n",
    "    trans = trans.loc[trans.action != '']\n",
    "    trans['close_date'] = trans.date + timedelta(hold_time)\n",
    "    trans = trans.loc[trans.date < (trans.date.max() - timedelta(hold_time))]\n",
    "\n",
    "    f = bind(get_next_trading_day,unique_dates=L(*input_df.index.date))\n",
    "    trans['date'] = pd.to_datetime(trans.date.apply(f))\n",
    "    trans['close_date'] = pd.to_datetime(trans.close_date.apply(f))\n",
    "    return trans"
   ]
  },
  {
   "cell_type": "markdown",
   "id": "32554c4a",
   "metadata": {},
   "source": [
    "##### Calculate Returns\n",
    "\n",
    "Next, we need a function that can take our 2 different model outputs (for null and alternate hypothesis) and calculate the statistic we care about (log return).  We do this by drawing on our work earlier in the post."
   ]
  },
  {
   "cell_type": "code",
   "execution_count": null,
   "id": "c9e7ae23",
   "metadata": {},
   "outputs": [
    {
     "data": {
      "text/plain": [
       "(0.01999690938292933, 0.018885915383428743)"
      ]
     },
     "execution_count": null,
     "metadata": {},
     "output_type": "execute_result"
    }
   ],
   "source": [
    "def calculate_returns(trans,input_df):\n",
    "    input_df_l = input_df.melt(var_name='ticker',value_name='adj_close',\n",
    "                                  ignore_index=False).reset_index()\n",
    "    # Merge in stock prices\n",
    "    trans = pd.merge(left=trans,left_on=['date','ticker'],\n",
    "                             right=input_df_l,right_on=['date','ticker'],\n",
    "                              how='left')\n",
    "\n",
    "    trans = pd.merge(left=trans,left_on=['close_date','ticker'],\n",
    "                             right=input_df_l,right_on=['date','ticker'],\n",
    "                              how='left',\n",
    "                              suffixes=('_atOpen','_atClose'))\n",
    "    trans = trans[['ticker','action',\n",
    "                   'date_atOpen' ,'adj_close_atOpen',\n",
    "                   'date_atClose','adj_close_atClose']]\n",
    "\n",
    "    # Calculate profit for each transaction\n",
    "    trans['committed'] = trans.apply(f_committed,axis=1)\n",
    "    trans['revenue'] = trans.apply(f_revenue,axis=1)\n",
    "    trans['cost'] = trans.apply(f_cost,axis=1)\n",
    "    trans['profit'] = trans.revenue - trans.cost\n",
    "\n",
    "    # Create Daily dataframe\n",
    "    df_daily = pd.DataFrame()\n",
    "    for cols in [['date_atOpen','committed'],['date_atClose','profit'],\n",
    "                 ['date_atClose','revenue'],['date_atOpen','cost']]:\n",
    "        _tmp = trans[cols].groupby(cols[0]).sum()\n",
    "        df_daily = pd.merge(df_daily,_tmp,how='outer',\n",
    "                            left_index=True,right_index=True)\n",
    "    df_daily.fillna(0,inplace=True)\n",
    "    df_daily.sort_index(inplace=True)\n",
    "    \n",
    "    # Calculate Log Return\n",
    "    pt_1 = (df_daily.committed.cumsum()-df_daily.revenue.cumsum()).max()\n",
    "    pt = pt_1 + df_daily.profit.sum()\n",
    "    return math.log(pt/pt_1)\n",
    "\n",
    "calculate_returns(run_model(valid.iloc[:,:5],28,0.08,28),valid.iloc[:,:5]),\\\n",
    "calculate_returns(run_random(valid.iloc[:,:5],.1,0.05,28),valid.iloc[:,:5]),\n"
   ]
  },
  {
   "cell_type": "markdown",
   "id": "664c0216",
   "metadata": {},
   "source": [
    "##### Statistical Test\n",
    "\n",
    "Now that we have the setup let's start our test.  First for our random model we need to give it a buy and short chance probability.  Let's assume roughly even volume of trades to keep things simple and get the probabilities from our model.  In this way our random model trades at the same volume and frequency, just using random selection instead of momentum selection."
   ]
  },
  {
   "cell_type": "code",
   "execution_count": null,
   "id": "07707ac4",
   "metadata": {},
   "outputs": [
    {
     "name": "stdout",
     "output_type": "stream",
     "text": [
      "Model buy percentage=0.08691717171717171\n",
      "Model buy percentage=0.04311919191919192\n"
     ]
    }
   ],
   "source": [
    "df_long = valid.melt(var_name='ticker',value_name='adj_close',\n",
    "                     ignore_index=False).reset_index()\n",
    "t = run_model(valid,28,0.08,28)\n",
    "buy_chance = sum(t.action=='Buy')/len(df_long)\n",
    "short_chance = sum(t.action=='Short')/len(df_long)\n",
    "print(f\"Model buy percentage={buy_chance}\")\n",
    "print(f\"Model buy percentage={short_chance}\")"
   ]
  },
  {
   "cell_type": "markdown",
   "id": "bee0ca04",
   "metadata": {},
   "source": [
    "Great - Let's bind these to a function.  This is a functional programming principle that is extremely common in functional languages in the form of currying.  Python isn't quite as convenient so we use [fastcore's bind](https://fastcore.fast.ai/basics.html#bind) for this (which is like the more common [functool partial](https://docs.python.org/3/library/functools.html#functools.partial), with a few added conveniences).\n",
    "\n",
    "This allows us to pass our model functions as parameters which will be convenient when we want to try different parameters.  We could also just have all the parameters for either function as arguments in the main `run_bootstrap_test` function, but that can get rather clunky and confusing."
   ]
  },
  {
   "cell_type": "code",
   "execution_count": null,
   "id": "de71bd18",
   "metadata": {},
   "outputs": [],
   "source": [
    "model_h0 = bind(run_random,\n",
    "                buy_chance=buy_chance,\n",
    "                short_chance=short_chance,\n",
    "                hold_time=28)"
   ]
  },
  {
   "cell_type": "markdown",
   "id": "89d40b11",
   "metadata": {},
   "source": [
    "Now we get to the meat of bootstrapping.  Really all we are doing is tacking different samples and running both models many times on different samples.  In classical statistics the normal distribution or some other distribution is assumed so that we can approximate a sampling distribution.  In bootstrapping we just create the sampling distribution directly."
   ]
  },
  {
   "cell_type": "code",
   "execution_count": null,
   "id": "4f041cbe",
   "metadata": {},
   "outputs": [],
   "source": [
    "def run_bootstrap_test(input_df,model_h0,runs,sample_size):\n",
    "    r_h0 = L()\n",
    "    for i in range(runs):\n",
    "        ticker_sample = np.random.choice(input_df.columns,sample_size) \n",
    "        valid_sample = input_df[ticker_sample]\n",
    "        r_h0.append(calculate_returns(model_h0(valid_sample),input_df))\n",
    "    return r_h0"
   ]
  },
  {
   "cell_type": "markdown",
   "id": "644d6d68",
   "metadata": {},
   "source": [
    "##### Plot Experiment\n",
    "\n",
    "It's always helpful to visualize whatever you can.  Visualizing the data will help you build intuition, generate additional ideas, spot outliers, and identify possible errors in your code.  Let's start with plotting our initial parameters we are using."
   ]
  },
  {
   "cell_type": "code",
   "execution_count": null,
   "id": "f5f9f279",
   "metadata": {},
   "outputs": [
    {
     "data": {
      "image/png": "[encoded data removed]",
      "text/plain": [
       "<Figure size 432x432 with 1 Axes>"
      ]
     },
     "metadata": {
      "needs_background": "light"
     },
     "output_type": "display_data"
    }
   ],
   "source": [
    "fig,ax = plt.subplots(figsize=(6,6))\n",
    "\n",
    "model_h0 = bind(run_random,\n",
    "                buy_chance=buy_chance,short_chance=short_chance,hold_time=28)\n",
    "\n",
    "model_h1 = bind(run_model,\n",
    "                n_periods=28,threshold=0.08,hold_time=28)\n",
    "    \n",
    "runs, ss = 200,100\n",
    "h0 = run_bootstrap_test(valid,model_h0,runs=runs,sample_size=ss)\n",
    "ax.set_xlim(-.15,.15)\n",
    "\n",
    "ax.hist(h0,alpha=0.5,bins=60,label = 'h0',range=(-.15,.15))\n",
    "x = calculate_returns(model_h1(valid),valid)\n",
    "ax.scatter(x=x,y=0,marker=\"P\",color='red',s=300)\n",
    "\n",
    "title_r1 = f\"h0 mean={np.array(h0).mean():.4f}\\n\"\n",
    "title_r2 = f\"h1 value={x:.4f}\"\n",
    "\n",
    "ax.set_title(title_r1 + title_r2)\n",
    "ax.legend(loc ='upper left') \n",
    "plt.show()"
   ]
  },
  {
   "cell_type": "markdown",
   "id": "8dec21e4",
   "metadata": {},
   "source": [
    "The blue histogram is the distribution of our random sampling.  The Red is our models return.  Visually the red point seems perfectly in line with the random distribution, but let's be a bit more scientific about it.  Let's calculate the p-value, and talk about what that means."
   ]
  },
  {
   "cell_type": "code",
   "execution_count": null,
   "id": "c5a9deda",
   "metadata": {},
   "outputs": [
    {
     "name": "stdout",
     "output_type": "stream",
     "text": [
      "0.425\n"
     ]
    }
   ],
   "source": [
    "p_value = (np.array(h0)>x).sum()/runs\n",
    "print(p_value)"
   ]
  },
  {
   "cell_type": "markdown",
   "id": "02c51c39",
   "metadata": {},
   "source": [
    "The p-value tells us the percentage of samples from our randomized null hypothesis trials that are more extreme than our model's return.  Roughly 40% of the time we get a more unusual result just using our random selection - which tells us that from this look our model is pretty indistinguishable from our random model.\n",
    "\n",
    "Said in statistical jargon, we failed to reject the null hypothesis."
   ]
  },
  {
   "cell_type": "markdown",
   "id": "963ae4f8",
   "metadata": {},
   "source": [
    "Let's try something else"
   ]
  },
  {
   "cell_type": "markdown",
   "id": "38aaabc3",
   "metadata": {},
   "source": [
    "##### What if we hold for less time?"
   ]
  },
  {
   "cell_type": "code",
   "execution_count": null,
   "id": "c3770ec9",
   "metadata": {},
   "outputs": [
    {
     "data": {
      "image/png": "[encoded data removed]",
      "text/plain": [
       "<Figure size 432x432 with 1 Axes>"
      ]
     },
     "metadata": {
      "needs_background": "light"
     },
     "output_type": "display_data"
    }
   ],
   "source": [
    "fig,ax = plt.subplots(figsize=(6,6))\n",
    "\n",
    "model_h0 = bind(run_random,\n",
    "                buy_chance=buy_chance,short_chance=short_chance,hold_time=14)\n",
    "model_h1 = bind(run_model,\n",
    "                n_periods=28,threshold=0.08,hold_time=14)\n",
    "    \n",
    "runs, ss = 200,100\n",
    "h0 = run_bootstrap_test(valid,model_h0,runs=runs,sample_size=ss)\n",
    "ax.set_xlim(-.15,.15)\n",
    "\n",
    "ax.hist(h0,alpha=0.5,bins=60,label = 'h0',range=(-.15,.15))\n",
    "x = calculate_returns(model_h1(valid),valid)\n",
    "ax.scatter(x=x,y=0,marker=\"P\",color='red',s=300)\n",
    "\n",
    "title_r1 = f\"h0 mean={np.array(h0).mean():.4f}\\n\"\n",
    "title_r2 = f\"h1 value={x:.4f}\"\n",
    "\n",
    "ax.set_title(title_r1 + title_r2)\n",
    "ax.legend(loc ='upper left') \n",
    "plt.show()"
   ]
  },
  {
   "cell_type": "code",
   "execution_count": null,
   "id": "baed1565",
   "metadata": {},
   "outputs": [
    {
     "name": "stdout",
     "output_type": "stream",
     "text": [
      "0.33\n"
     ]
    }
   ],
   "source": [
    "p_value = (np.array(h0)>x).sum()/runs\n",
    "print(p_value)"
   ]
  },
  {
   "cell_type": "markdown",
   "id": "b10487f1",
   "metadata": {},
   "source": [
    "This isn't any better.  But that's ok, because that's how the process works.  Most of your experiments will fail, and this was only our first model.  Let's try one more idea."
   ]
  },
  {
   "cell_type": "markdown",
   "id": "d3e16e25",
   "metadata": {},
   "source": [
    "##### What if we use a larger period size for momentum?"
   ]
  },
  {
   "cell_type": "code",
   "execution_count": null,
   "id": "d551cced",
   "metadata": {},
   "outputs": [
    {
     "data": {
      "image/png": "[encoded data removed]",
      "text/plain": [
       "<Figure size 432x432 with 1 Axes>"
      ]
     },
     "metadata": {
      "needs_background": "light"
     },
     "output_type": "display_data"
    }
   ],
   "source": [
    "fig,ax = plt.subplots(figsize=(6,6))\n",
    "\n",
    "model_h0 = bind(run_random,\n",
    "                buy_chance=buy_chance,short_chance=short_chance,hold_time=28)\n",
    "model_h1 = bind(run_model,\n",
    "                n_periods=56,threshold=0.08,hold_time=28)\n",
    "    \n",
    "runs, ss = 200,100\n",
    "h0 = run_bootstrap_test(valid,model_h0,runs=runs,sample_size=ss)\n",
    "ax.set_xlim(-.15,.15)\n",
    "\n",
    "ax.hist(h0,alpha=0.5,bins=60,label = 'h0',range=(-.15,.15))\n",
    "x = calculate_returns(model_h1(valid),valid)\n",
    "ax.scatter(x=x,y=0,marker=\"P\",color='red',s=300)\n",
    "\n",
    "title_r1 = f\"h0 mean={np.array(h0).mean():.4f}\\n\"\n",
    "title_r2 = f\"h1 value={x:.4f}\"\n",
    "\n",
    "ax.set_title(title_r1 + title_r2)\n",
    "ax.legend(loc ='upper left') \n",
    "plt.show()"
   ]
  },
  {
   "cell_type": "code",
   "execution_count": null,
   "id": "7a71d88e",
   "metadata": {},
   "outputs": [
    {
     "name": "stdout",
     "output_type": "stream",
     "text": [
      "0.015\n"
     ]
    }
   ],
   "source": [
    "p_value = (np.array(h0)>x).sum()/runs\n",
    "print(p_value)"
   ]
  },
  {
   "cell_type": "markdown",
   "id": "c0662662",
   "metadata": {},
   "source": [
    "Now we're talking!  A very small percentage of the values from our random model are more extreme than the one we got with our model.\n",
    "\n",
    "But now this invites a new question - how small does the p-value need to be to reject the null hypothesis?  0.05 is the most common and many people use this by default, but **what your p-value threshold is is a design choice and trede-off that has real implications on your testing**.  This is something to carefully consider.  Remember, testing is our only objective signal for whether we are doing something right or not so it deserves the most care and consideration.\n",
    "\n",
    "Let's consider the extremes so that we can easily thing about the trade-off."
   ]
  },
  {
   "cell_type": "markdown",
   "id": "2914e944",
   "metadata": {},
   "source": [
    "**What if the p-value threshold we pick is large (ie 0.5)?***\n",
    "\n",
    "With a p-value threshold of 0.5, we accept anything where less than 50% of the values from the randomized null hypothesis tests are more extreme.  The risk of this means that we will have a lot of false positives.  Said another way, LOTS of stuff will pass our test many of them just because of luck.  \n",
    "\n",
    "Said simply, we will think a lot of bad ideas are good ideas.  "
   ]
  },
  {
   "cell_type": "markdown",
   "id": "51b6af4e",
   "metadata": {},
   "source": [
    "**What if the p-value threshold we pick is small (ie 0.000001)?***\n",
    "\n",
    "With a p-value this small almost nothing will pass the test, but if it does we can be pretty confident in it!  The problem with this is many good ideas will fail the test just because of bad luck.\n",
    "\n",
    "Said simply, we will have a lot of good ideas that we won't realize are good ideas.  These are missed opportunities."
   ]
  },
  {
   "cell_type": "markdown",
   "id": "b0c8af66",
   "metadata": {},
   "source": [
    "**The Tradeoff**\n",
    "\n",
    "So really the P value is a trade-off.  A lower P value is more cautious and safe but you will miss out on some opportunities.  A high P value is riskier and more of your approaches will turn out to fail.\n",
    "\n",
    "It is important to understand that this is a tradeoff.  For a more detailed guide to testing read the hypothesis testing material in [Statistics: Unlocking the Power of Data](https://www.lock5stat.com/)"
   ]
  },
  {
   "cell_type": "markdown",
   "id": "15713b7d",
   "metadata": {},
   "source": [
    "## The Test Set\n",
    "\n",
    "Now that we have our best model, we will test it on the test set.  This is the only time we can look at it - so while we got to try lots of things out on our validation set we only get 1 shot at our test set.  Let's see how it performs"
   ]
  },
  {
   "cell_type": "code",
   "execution_count": null,
   "id": "02a944b5",
   "metadata": {},
   "outputs": [
    {
     "data": {
      "image/png": "[encoded data removed]",
      "text/plain": [
       "<Figure size 432x432 with 1 Axes>"
      ]
     },
     "metadata": {
      "needs_background": "light"
     },
     "output_type": "display_data"
    }
   ],
   "source": [
    "fig,ax = plt.subplots(figsize=(6,6))\n",
    "\n",
    "df_test_small = df_test[df_test.index < '2021-05-31']\n",
    "\n",
    "model_h0 = bind(run_random,\n",
    "                buy_chance=buy_chance,short_chance=short_chance,hold_time=28)\n",
    "model_h1 = bind(run_model,\n",
    "                n_periods=56,threshold=0.08,hold_time=28)\n",
    "    \n",
    "runs, ss = 200,100\n",
    "h0 = run_bootstrap_test(df_test_small,model_h0,runs=runs,sample_size=ss)\n",
    "ax.set_xlim(-.15,.15)\n",
    "\n",
    "ax.hist(h0,alpha=0.5,bins=60,label = 'h0',range=(-.15,.15))\n",
    "x = calculate_returns(model_h1(df_test_small),df_test_small)\n",
    "ax.scatter(x=x,y=0,marker=\"P\",color='red',s=300)\n",
    "\n",
    "title_r1 = f\"h0 mean={np.array(h0).mean():.4f}\\n\"\n",
    "title_r2 = f\"h1 value={x:.4f}\"\n",
    "\n",
    "ax.set_title(title_r1 + title_r2)\n",
    "ax.legend(loc ='upper left') \n",
    "plt.show()"
   ]
  },
  {
   "cell_type": "code",
   "execution_count": null,
   "id": "35cff325",
   "metadata": {},
   "outputs": [
    {
     "name": "stdout",
     "output_type": "stream",
     "text": [
      "0.685\n"
     ]
    }
   ],
   "source": [
    "p_value = (np.array(h0)>x).sum()/runs\n",
    "print(p_value)"
   ]
  },
  {
   "cell_type": "markdown",
   "id": "db6ec0c5",
   "metadata": {},
   "source": [
    "Oh man, suddenly our model failed the test on the test set after it passed on the validation set.  I think it's helpful to keep in mind this is not a \"bad\" result.  Testing is designed to catch errors and it did - it prevented us from deploying a bad model into production and betting real dollars on it.\n",
    "\n",
    "If a test never caught errors, there'd be no point in performing the test.  We do this step BECAUSE it catches things like this."
   ]
  },
  {
   "cell_type": "markdown",
   "id": "fd36a802",
   "metadata": {},
   "source": [
    "## Homework for Further Learning\n",
    "\n",
    "Entry-Level:\n",
    "\n",
    "1. Test different parameters of the model in the post.  What is your best model on the validation set?  Ho does it perform on our test set?\n",
    "1. Modify model to only place \"Buy\" order and not \"Short\" orders.  How does this effect return?\n",
    "\n",
    "Mid-Level:\n",
    "\n",
    "1. Test the other models in post 1 and create a blog post or write up of your findings\n",
    "1. Find something that could have been done differently with one of the models.  Change and test it and create a blog post of your findings.\n",
    "1. Create an ensemble of multiple momentum models and measure the performance.  Create a blog post with findings.\n",
    "\n",
    "Senior-Level:\n",
    "\n",
    "1. Find another type of data that momentum can be applied to, and create a model to use that as a signal.  For example, maybe momentum of job postings listed by the company could be a signal of stock performance.  You should:\n",
    "    + Create train/valid/test split\n",
    "    + Verify data cleanliness and highlight any potential concerns for incorrectness or biases\n",
    "    + Explain why you are choosing the model you did and why you think it's a good thing to test\n",
    "    + Create the model and test various configurations on the validation set\n",
    "    + Test the best one on the test set\n",
    "    + Write a blog post on what you did, why, choices you made along the way, future research that could be done on this data, and whether you think this could be a productive area for a trading firm to look at more.\n"
   ]
  },
  {
   "cell_type": "code",
   "execution_count": null,
   "id": "afc02946",
   "metadata": {},
   "outputs": [],
   "source": []
  },
  {
   "cell_type": "code",
   "execution_count": null,
   "id": "f1c671b5",
   "metadata": {},
   "outputs": [],
   "source": []
  },
  {
   "cell_type": "code",
   "execution_count": null,
   "id": "374aa38d",
   "metadata": {},
   "outputs": [],
   "source": []
  }
 ],
 "metadata": {
  "kernelspec": {
   "display_name": "Python 3 (ipykernel)",
   "language": "python",
   "name": "python3"
  }
 },
 "nbformat": 4,
 "nbformat_minor": 5
}
