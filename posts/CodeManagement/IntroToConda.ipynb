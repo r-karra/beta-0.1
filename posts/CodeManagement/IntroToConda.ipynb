{
 "cells": [
  {
   "attachments": {},
   "cell_type": "markdown",
   "metadata": {},
   "source": [
    "---\n",
    "title: \"Introduction to Conda\"\n",
    "author: \"Isaac Flath\"\n",
    "date: \"2023-02-11\"\n",
    "description: \"An introduction to what conda is and basic usage\"\n",
    "categories: [programming, python]\n",
    "image: \"../_TopicImages/container.jpeg\"\n",
    "draft: true\n",
    "---"
   ]
  },
  {
   "attachments": {},
   "cell_type": "markdown",
   "metadata": {},
   "source": [
    "Conda is a package manager and environment manager that is is often used in scientific computing and data science, but can be used for any type of software development.  This tutorial will help you learn the basic commands to create, manage and use conda environments."
   ]
  },
  {
   "attachments": {},
   "cell_type": "markdown",
   "metadata": {},
   "source": [
    "## Why Conda?\n",
    "\n",
    "### Handling dependencies\n",
    "\n",
    "Packages in `conda` have explicit dependencies.  That means that when you install a package `conda` will automatically install its dependencies. This can save you a lot of time and headaches when working on complex projects with many dependencies. For example, installing `PyTorch` with `conda` will automatically install all the necessary dependencies, without the need to install them separately.\n",
    "\n",
    "### Handling non-Python packages\n",
    "\n",
    "`pip` is a very common tool similar to `conda` used in python, but `pip` is more limited.  `pip` is python only and can only handle python dependencies and if there are non python dependencies it cannot manage those for you. `conda` on the other hand can handle dependencies of any language.  For example, `pytorch` has non-python dependencies for cuda that cannot be handled by `pip` but `conda` can.  This makes installation and maintaining the installation much simpler with `conda`.\n",
    "\n",
    "### Isolation of Environments\n",
    "\n",
    "`conda` gives you the the ability to create isolated environments. This allows you to have different versions of packages and dependencies for different projects without them interfering with each other."
   ]
  },
  {
   "attachments": {},
   "cell_type": "markdown",
   "metadata": {},
   "source": [
    "## Installing Conda\n",
    "To get started with conda, you will first need to install it on your system. You can download the appropriate installer for your operating system from the Miniconda website (https://docs.conda.io/en/latest/miniconda.html).\n",
    "\n",
    ":::{note}\n",
    "Miniconda is a lightweight version of the Anaconda distribution, which includes only the conda package manager. Miniconda is what I recommend using and what this guide will cover, though many install the larger Anaconda that include conda as a part of it.\n",
    ":::\n",
    "\n",
    "## Managing Environments\n",
    "\n",
    "Conda allows you to create and manage multiple environments, and switch between them as needed. This can be useful when working on different projects, or when different projects require different versions of the same package.  In conda you are always working within an environment so let's start with the basic commands to manage environments.\n"
   ]
  },
  {
   "attachments": {},
   "cell_type": "markdown",
   "metadata": {},
   "source": [
    "\n",
    "### Creating a new environment\n",
    "\n",
    "The first thing you will want to do is create a new environment.  To create a new environment, use the command:\n",
    "\n",
    "```bash\n",
    "conda create --name myenv\n",
    "```\n",
    "\n",
    "This will create a new environment named \"myenv\" that is completely isolated from any other environments you may have.\n"
   ]
  },
  {
   "attachments": {},
   "cell_type": "markdown",
   "metadata": {},
   "source": [
    "\n",
    "### Activating an environment\n",
    "\n",
    "Now that you created an environment and it exists, you need to activate it.  To do that, use the command:\n",
    "\n",
    "```bash\n",
    "conda activate myenv\n",
    "```\n",
    "\n",
    "This will change the current environment to \"myenv\".\n"
   ]
  },
  {
   "attachments": {},
   "cell_type": "markdown",
   "metadata": {},
   "source": [
    "### Listing all environments\n",
    "\n",
    "To see all the environments you have created:\n",
    "\n",
    "```bash\n",
    "conda env list\n",
    "```"
   ]
  },
  {
   "attachments": {},
   "cell_type": "markdown",
   "metadata": {},
   "source": [
    "### Deleting an environment\n",
    "\n",
    "To delete an environment, use the command:\n",
    "\n",
    "```bash\n",
    "conda remove --name myenv\n",
    "```\n",
    "\n",
    "This will delete the \"myenv\" environment and all packages installed in it."
   ]
  },
  {
   "attachments": {},
   "cell_type": "markdown",
   "metadata": {},
   "source": [
    "\n",
    "## Managing Packages\n",
    "\n",
    "### Installing packages in an environment\n",
    "\n",
    "To install packages in an environment, use the command:\n",
    "\n",
    "```bash\n",
    "conda install -c channel -n myenv package_name\n",
    "```\n",
    "\n",
    "This will install the package \"package_name\" hosted on \"channel\" in the \"myenv\" environment.\n",
    "\n",
    ":::{.tip}\n",
    "I recommend looking at the installation instructions for whatever package you want to install first.  You can also search for packages using `conda search`.  You can also search for a package on [the anaconda website](https://anaconda.org/) to find the install command for that package.\n",
    ":::\n",
    "\n",
    "Other useful options include:\n",
    "\n",
    "```bash\n",
    "# Multiple package installs\n",
    "conda install -c channel -n myenv package_name1 package_name2 \n",
    "\n",
    "# Specify version of package to install\n",
    "conda install -c channel -n myenv package_name=0.15.0\n",
    "```"
   ]
  },
  {
   "attachments": {},
   "cell_type": "markdown",
   "metadata": {},
   "source": [
    "\n",
    "### Uninstalling packages in an environment\n",
    "\n",
    "To uninstall packages in an environment, use the command:\n",
    "\n",
    "```bash\n",
    "# Remove a package from environment\n",
    "conda remove package_name\n",
    "\n",
    "# Remove multiple packages from environment\n",
    "conda remove package_name1 package_name2\n",
    "```"
   ]
  },
  {
   "attachments": {},
   "cell_type": "markdown",
   "metadata": {},
   "source": [
    "\n",
    "#### Updating packages\n",
    "\n",
    "```bash\n",
    "# Updates all packages in the environment\n",
    "conda update\n",
    "\n",
    "# Updates specific package(s)\n",
    "conda update mylib\n",
    "\n",
    "# Updates conda\n",
    "conda update conda\n",
    "```"
   ]
  },
  {
   "attachments": {},
   "cell_type": "markdown",
   "metadata": {},
   "source": [
    "### Listing packages in an environment\n",
    "\n",
    "To list the packages in an environment, use the command:\n",
    "\n",
    "```bash\n",
    "conda list -n myenv\n",
    "```"
   ]
  },
  {
   "cell_type": "markdown",
   "metadata": {},
   "source": []
  }
 ],
 "metadata": {
  "kernelspec": {
   "display_name": "Python 3",
   "language": "python",
   "name": "python3"
  },
  "language_info": {
   "name": "python",
   "version": "3.10.8 (main, Oct 13 2022, 09:48:40) [Clang 14.0.0 (clang-1400.0.29.102)]"
  },
  "orig_nbformat": 4,
  "vscode": {
   "interpreter": {
    "hash": "b0fa6594d8f4cbf19f97940f81e996739fb7646882a419484c72d19e05852a7e"
   }
  }
 },
 "nbformat": 4,
 "nbformat_minor": 2
}
