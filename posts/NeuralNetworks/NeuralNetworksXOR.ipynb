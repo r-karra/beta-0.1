{
 "cells": [
  {
   "cell_type": "raw",
   "metadata": {},
   "source": [
    "---\n",
    "title: \"Neural Networks and XOR\"\n",
    "author: \"Isaac Flath\"\n",
    "date: \"2021-01-09\"\n",
    "description: \"How does a neural network transform non-linear data to solve complex problems.  Fitting a neural Network to the XOR function.\"\n",
    "categories: [Neural Networks]\n",
    "image: \"../_TopicImages/NeuralNetwork.jpg\"\n",
    "---"
   ]
  },
  {
   "cell_type": "markdown",
   "metadata": {},
   "source": [
    "This post dives into why Neural Networks are so powerful from a foundational level.  The goal is to show an example of a problem that a Neural Network can solve easily that strictly linear models cannot solve.  We will do this in the simplest example, the XOR.\n",
    "\n",
    "I will cover what an XOR is in this article, so there aren't any prerequisites for reading this article.  Though if this is your first time hearing of the XOR, you may not understand the implications or the importance of solving the XOR."
   ]
  },
  {
   "cell_type": "markdown",
   "metadata": {},
   "source": [
    "# Credit\n",
    "\n",
    "I got the idea to write a post on this from reading the deep learning book.  The information covered in this post is also in that book, though the book covers more information and goes into more detail.  The primary benefit of this post over the book is that this post is in 'python pytorch' notation where the book covers this material in 'math' notation.  If this post is interesting to you, I would recommend checking out the book.\n",
    "\n",
    "\n",
    "\n",
    ":::{.callout-note}\n",
    "\n",
    "## Book Information\n",
    "\n",
    "+ Title: Deep Learning\n",
    "+ Author: Ian Goodfellow and Yoshua Bengio and Aaron Courville\n",
    "+ Publisher: MIT Press\n",
    "+ URL: http://www.deeplearningbook.org,\n",
    "+ Year: 2016\n",
    "\n",
    ":::"
   ]
  },
  {
   "cell_type": "markdown",
   "metadata": {},
   "source": [
    "# The Problem\n",
    "\n",
    "In the graph below we see the XOR operator outputs.  XOR is similar to OR.  If either one of the bits is positive, then the result is positive.  The difference is that if both are positive, then the result is negative. \n",
    "\n",
    "We can see the 2 classes as red and blue dots on the visualization.  Try to draw a single line that divides the red dots from the blue dots and you will find that it cannot be done.  A linear model simply cannot classify these points accurately"
   ]
  },
  {
   "cell_type": "code",
   "execution_count": 1,
   "metadata": {},
   "outputs": [],
   "source": [
    "#collapse-hide\n",
    "from torch import Tensor\n",
    "import torch\n",
    "import pandas as pd\n",
    "import matplotlib.pyplot as plt\n",
    "plt.style.use('dark_background')"
   ]
  },
  {
   "cell_type": "code",
   "execution_count": 2,
   "metadata": {},
   "outputs": [
    {
     "data": {
      "image/png": "[encoded data removed]",
      "text/plain": [
       "<Figure size 400x400 with 1 Axes>"
      ]
     },
     "metadata": {},
     "output_type": "display_data"
    }
   ],
   "source": [
    "#collapse-hide\n",
    "x = Tensor([[0,0],[0,1],[1,0],[1,1]])\n",
    "y = [0,1,1,0]\n",
    "out = pd.DataFrame(x,columns = ['x1','x2']); out['XOR'] = y\n",
    "\n",
    "class1 = out[out.XOR==0].iloc[:,:2]; class2 = out[out.XOR==1].iloc[:,:2]\n",
    "fig, ax = plt.subplots(figsize=(4,4))\n",
    "ax.scatter(class1.x1,class1.x2,c='red'); ax.scatter(class2.x1,class2.x2,c='blue')\n",
    "ax.set_xlabel('Input1'); ax.set_ylabel('Input2')\n",
    "ax.set_title('Input Data')\n",
    "plt.show()"
   ]
  },
  {
   "cell_type": "markdown",
   "metadata": {},
   "source": [
    "# Neural Network Feature Space\n",
    "\n",
    "Now that we see a linear model cannot solve the problem, or said another way it's not linearly seperable, let's see how a Neural Network would help.\n",
    "\n",
    "We start by defining the tensors that we need:\n",
    "\n",
    "+ `x`: This shows all the points and are the inputs we are using to predict with.  You can verify the points on the graph above.\n",
    "+ `w`: This is the weight matrix.  A linear layer is xw + b.  \n",
    "+ `b`: This is the bias.  A linear layer is xw + b\n",
    "+ `y`: This is the dependent variable we are trying to predict (whether the dot is blue or red, or XOR operator output)\n",
    "\n",
    "\n",
    ":::{.callout-note}\n",
    "\n",
    "The text and some libraries do transposes to have wx + b, but it's the same thing. \n",
    ":::"
   ]
  },
  {
   "cell_type": "code",
   "execution_count": 3,
   "metadata": {},
   "outputs": [],
   "source": [
    "x = Tensor([[0,0],[0,1],[1,0],[1,1]])\n",
    "y = [0,1,1,0]\n",
    "w = torch.ones(2,2); \n",
    "b = Tensor([0,-1])"
   ]
  },
  {
   "cell_type": "markdown",
   "metadata": {},
   "source": [
    "Now we do out linear layer with activation function and store that in h.\n",
    "\n",
    "+ x@w + b : This is the linear function\n",
    "+ torch.clip : This is replacing any negative values with 0.  The fancy term for this is a ReLU or Rectified Linear Unit"
   ]
  },
  {
   "cell_type": "code",
   "execution_count": 4,
   "metadata": {},
   "outputs": [],
   "source": [
    "h = torch.clip(x@w + b,0)"
   ]
  },
  {
   "cell_type": "markdown",
   "metadata": {},
   "source": [
    "Instead of plotting our inputs like we did above (when we saw this problem couldn't be solved linearly), let's plot the outputs of layer we just calculated.\n",
    "\n",
    "As you can see when we plot the output of the first layer it's trivial to separate the blue and red points with a line.  We have created a representation of the data that makes it very easy to classify the points to solve the XOR problem!"
   ]
  },
  {
   "cell_type": "code",
   "execution_count": 5,
   "metadata": {},
   "outputs": [
    {
     "data": {
      "image/png": "[encoded data removed]",
      "text/plain": [
       "<Figure size 400x400 with 1 Axes>"
      ]
     },
     "metadata": {},
     "output_type": "display_data"
    }
   ],
   "source": [
    "#collapse-hide\n",
    "out = pd.DataFrame(h,columns = ['x1','x2']); out['XOR'] = y\n",
    "class1 = out[out.XOR==0].iloc[:,:2]; class2 = out[out.XOR==1].iloc[:,:2]\n",
    "fig, ax = plt.subplots(figsize=(4,4))\n",
    "ax.scatter(class1.x1,class1.x2,c='red'); ax.scatter(class2.x1,class2.x2,c='blue')\n",
    "ax.set_xlabel('Feature1'); ax.set_ylabel('Feature2')\n",
    "ax.set_title('Hidden Features')\n",
    "plt.show()"
   ]
  },
  {
   "cell_type": "markdown",
   "metadata": {},
   "source": [
    "# Model Predictions\n",
    "\n",
    "Now that it's linearly separable, we can easily add an output layer to form out predictions.  All we do for this is multiply my another Tensor so that we get the correct number of outputs.  In this case we have 4 points we want to classify, so we have 4 outputs (1 per point).\n",
    "\n",
    "We see that the model was able to solve the XOR problem"
   ]
  },
  {
   "cell_type": "code",
   "execution_count": 6,
   "metadata": {},
   "outputs": [
    {
     "data": {
      "text/html": [
       "<div>\n",
       "<style scoped>\n",
       "    .dataframe tbody tr th:only-of-type {\n",
       "        vertical-align: middle;\n",
       "    }\n",
       "\n",
       "    .dataframe tbody tr th {\n",
       "        vertical-align: top;\n",
       "    }\n",
       "\n",
       "    .dataframe thead th {\n",
       "        text-align: right;\n",
       "    }\n",
       "</style>\n",
       "<table border=\"1\" class=\"dataframe\">\n",
       "  <thead>\n",
       "    <tr style=\"text-align: right;\">\n",
       "      <th></th>\n",
       "      <th>x1</th>\n",
       "      <th>x2</th>\n",
       "      <th>preds</th>\n",
       "      <th>targets</th>\n",
       "    </tr>\n",
       "  </thead>\n",
       "  <tbody>\n",
       "    <tr>\n",
       "      <th>0</th>\n",
       "      <td>0</td>\n",
       "      <td>0</td>\n",
       "      <td>0</td>\n",
       "      <td>0</td>\n",
       "    </tr>\n",
       "    <tr>\n",
       "      <th>1</th>\n",
       "      <td>0</td>\n",
       "      <td>1</td>\n",
       "      <td>1</td>\n",
       "      <td>1</td>\n",
       "    </tr>\n",
       "    <tr>\n",
       "      <th>2</th>\n",
       "      <td>1</td>\n",
       "      <td>0</td>\n",
       "      <td>1</td>\n",
       "      <td>1</td>\n",
       "    </tr>\n",
       "    <tr>\n",
       "      <th>3</th>\n",
       "      <td>1</td>\n",
       "      <td>1</td>\n",
       "      <td>0</td>\n",
       "      <td>0</td>\n",
       "    </tr>\n",
       "  </tbody>\n",
       "</table>\n",
       "</div>"
      ],
      "text/plain": [
       "   x1  x2  preds  targets\n",
       "0   0   0      0        0\n",
       "1   0   1      1        1\n",
       "2   1   0      1        1\n",
       "3   1   1      0        0"
      ]
     },
     "execution_count": 6,
     "metadata": {},
     "output_type": "execute_result"
    }
   ],
   "source": [
    "h = torch.clip(x@w + b,0) @ Tensor([1,-2])\n",
    "res = pd.DataFrame(x.int().numpy(),columns=['x1','x2']); res['preds']=h.int(); res['targets']=y\n",
    "res"
   ]
  }
 ],
 "metadata": {
  "kernelspec": {
   "display_name": "Python 3 (ipykernel)",
   "language": "python",
   "name": "python3"
  },
  "language_info": {
   "codemirror_mode": {
    "name": "ipython",
    "version": 3
   },
   "file_extension": ".py",
   "mimetype": "text/x-python",
   "name": "python",
   "nbconvert_exporter": "python",
   "pygments_lexer": "ipython3",
   "version": "3.12.1"
  }
 },
 "nbformat": 4,
 "nbformat_minor": 4
}
