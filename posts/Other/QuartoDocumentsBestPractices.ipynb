{
 "cells": [
  {
   "cell_type": "raw",
   "id": "abaf5832-9ff2-4a9d-b27a-6525cc6b1fe5",
   "metadata": {},
   "source": [
    "---\n",
    "title: \"Quarto Document Best Practices\"\n",
    "author: \"Isaac Flath\"\n",
    "date: \"2022-11-11\"\n",
    "description: \"\"\n",
    "categories: [Quarto]\n",
    "image: \"../_TopicImages/Quarto.jpg\"\n",
    "---"
   ]
  },
  {
   "cell_type": "markdown",
   "id": "d774d2d3",
   "metadata": {},
   "source": [
    "# Why Quarto\n",
    "\n",
    "I use quarto documents **every day**.  It is used when I am developing, I use it for my website, and I use it for client presentations.\n",
    "\n",
    ":::{.callout-tip}\n",
    "\n",
    "## Quarto Benefits\n",
    "+ Version control is very nice for presentations\n",
    "+ Text, docs, code ouputs, plots, code, tests all in one place.\n",
    "+ Easy to make really good looking outputs\n",
    "+ Learn one tool for lots of formats - documents, presentations, websites, development\n",
    "+ Rendering to html is a option for sharing.  It's more powerful than pdf and everyone can open it in their browser.\n",
    ":::\n",
    "\n",
    "I have some starter Quarto templates [here](https://github.com/Isaac-Flath/QuartoTemplates) that will be useful in conjunction with this post."
   ]
  },
  {
   "cell_type": "markdown",
   "id": "692dcb2f",
   "metadata": {},
   "source": [
    "# Text Formatting\n",
    "\n",
    "::: {.panel-tabset group=\"setup\"}\n",
    "\n",
    "## Markdown\n",
    "\n",
    "It's important to get comfortable with [markdown](https://quarto.org//docs/authoring/markdown-basics.html).  I see people use markdown for text.  But you need to mix in other features liberally such as:\n",
    "\n",
    "+ Bulleted or numbered lists\n",
    "+ Making accent words **bold** or *italized*\n",
    "+ Use single ticks to reference object and `function` names\n",
    "+ Use headings liberally\n",
    "+ Use hyperlinks to things you are referencing in [quarto](https://quarto.org/)\n",
    "\n",
    "> Blockquotes are also useful\n",
    "\n",
    "## Panel Tabsets\n",
    "\n",
    "[Panel tabsets](https://quarto.org/docs/interactive/layout.html#tabset-panel) creates the tabs you click through in the `Formatting Tips` section.  This is useful for limiting what's shows on the screen and gives a really high quality feel above and beyond a pdf document.  Use it to organize and make your document clearer and less static.\n",
    "\n",
    "## Callout Blocks\n",
    "\n",
    "[Callout blocks](https://quarto.org/docs/authoring/markdown-basics.html#callout-blocks) can be used extremely liberally in documents.  In a given document or presentation I use them to organize content in color coded sections based on what I think makes most sense in the context.\n",
    "\n",
    ":::{.callout-note}\n",
    "### Example Document Usage\n",
    "\n",
    "+ Recommended actions in a blue `note` callout blocks \n",
    "+ Definitions or clarification points in green `tip` callout blocks\n",
    "+ Discussion points or questions in gold `warning` callout blocks\n",
    "+ Problems or issues in red `important` callout blocsk\n",
    ":::\n",
    ":::"
   ]
  },
  {
   "cell_type": "markdown",
   "id": "bdf28fbe",
   "metadata": {},
   "source": [
    "# Code Formatting"
   ]
  },
  {
   "cell_type": "markdown",
   "id": "114de07e",
   "metadata": {},
   "source": [
    "The most important items for code cell formatting are controlling what's included and what is hidden.  Here are the top ones I use for that.\n",
    "\n",
    "+ Code\n",
    "  + `code-fold` - Fold code with option to expand?\n",
    "  + `echo` - Include code in your document?\n",
    "  + `include` - Include code and outputs?\n",
    "+ Outputs\n",
    "  + `output` - Include code outputs?\n",
    "  + `include` - Include code and outputs?\n",
    "\n",
    ":::{.callout-tip}\n",
    "\n",
    "To use a one of these `directives` start a code cell with `#|`.\n",
    "\n",
    "For example `#| echo: false` will exclude that code cell from the document.\n",
    ":::"
   ]
  },
  {
   "cell_type": "markdown",
   "id": "e6ae40e4",
   "metadata": {},
   "source": [
    "# Document Setup"
   ]
  },
  {
   "cell_type": "markdown",
   "id": "fea89ae0",
   "metadata": {},
   "source": [
    "## Front Matter"
   ]
  },
  {
   "cell_type": "markdown",
   "id": "52a3059d",
   "metadata": {},
   "source": [
    "For documents here's my default front matter.  A few things that are important:\n",
    "\n",
    "```\n",
    "---\n",
    "title: \"My Title\"\n",
    "author: \"Isaac Flath\"\n",
    "date: \"9/20/2022\"\n",
    "format:\n",
    "  html:\n",
    "    css: 'styles.css'\n",
    "    number-sections: true\n",
    "    toc: true\n",
    "    theme: cosmo\n",
    "    highlight-style: tango\n",
    "    code-fold: true\n",
    "    self-contained: true\n",
    "---\n",
    "```\n",
    "\n",
    ":::{.callout-tip}\n",
    "+ `number-sections` makes the sections stand out more organization wise\n",
    "+ `toc` (table of contents) is clickable to jump to sections and I review it as my agenda at the start of meetings\n",
    "+ `code-fold` I often like to have all code folded by default and unhide what's needed.\n",
    "+ `self-contained` is critical.  This allows you to share the document for anyone to open in their browser with no hassle.\n",
    ":::\n"
   ]
  },
  {
   "cell_type": "markdown",
   "id": "7b333097",
   "metadata": {},
   "source": [
    "## CSS"
   ]
  },
  {
   "cell_type": "markdown",
   "id": "799c503c",
   "metadata": {},
   "source": [
    "There were two things that bothered me about quarto:\n",
    "\n",
    "+ Table of contents was too light\n",
    "+ Major sections didn't stand out enough\n",
    "\n",
    "These are fixed with a short bit of css.  I sometimes add an h2 gradient from `lightblue` to `white` as well.\n",
    "\n",
    "```css\n",
    "\n",
    ".title.toc-ignore {\n",
    "  font-weight: 1000;\n",
    "}\n",
    "h1:not(.title){\n",
    "  background-image: linear-gradient(120deg, lightblue, blue);\n",
    "}\n",
    "```\n",
    "\n",
    ":::{.callout-tip}\n",
    "In the `frontmatter` section it references a `styles.css` where this is stored.\n",
    ":::"
   ]
  },
  {
   "cell_type": "code",
   "execution_count": null,
   "id": "2d385794-8a79-4dc7-aba7-0d1075f9b169",
   "metadata": {},
   "outputs": [],
   "source": []
  }
 ],
 "metadata": {
  "kernelspec": {
   "display_name": "Python 3 (ipykernel)",
   "language": "python",
   "name": "python3"
  }
 },
 "nbformat": 4,
 "nbformat_minor": 5
}
