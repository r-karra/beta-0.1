{
 "cells": [
  {
   "cell_type": "raw",
   "metadata": {
    "vscode": {
     "languageId": "raw"
    }
   },
   "source": [
    "---\n",
    "title: \"Applied LLMs Topic Overview\"\n",
    "author: \"Isaac Flath\"\n",
    "date: \"2020-06-10\"\n",
    "description: \"A brief summary of the different topics that go into developing a good LLM based solution\"\n",
    "categories: [LLMs]\n",
    "image: \"../_TopicImages/LLMs.jpg\"\n",
    "draft: true\n",
    "---"
   ]
  },
  {
   "cell_type": "markdown",
   "metadata": {
    "vscode": {
     "languageId": "raw"
    }
   },
   "source": [
    "In this post I will be discussing the applied side of LLMs and an overview of different techniques.  You can think of this as a more detailed table of contents that will be the foundation of future posts.  Each of these steps will be covered in future blog posts in more detail."
   ]
  },
  {
   "cell_type": "markdown",
   "metadata": {},
   "source": [
    "## Play with your problem\n",
    "\n",
    "The first step is to play with your problem.  This is where you start to build some intuition, and it's the one step you don't have to think super deeply about what you're doing.\n",
    "\n",
    "Start with chatGPT or another chat interface and see how it does.  Don't spend tons of time on prompt engineering, but follow things that make sense.  See if things look promising and what kinds of things seem easy or hard for the model.  Try to give it hard examples to break it. c\n",
    "\n",
    "You don't have any evaluations yet, so all of this is very subjective and feeling based.  Spend a couple hours on this step, but don't get too bogged down.\n"
   ]
  },
  {
   "cell_type": "markdown",
   "metadata": {},
   "source": [
    "\n",
    "## Evals\n",
    "\n",
    "Now that you've got some idea of what OOTB chat interface does, it's time to start building evaluations to be able to quantify how good a solution is (and by extension compare different solutions).\n",
    "\n",
    ":::{.callout-note}\n",
    "\n",
    "#### Vocab\n",
    "\n",
    "**Eval**: A general term for something that gives info on how good a solution is at a particular task. \n",
    "\n",
    "**Test**: An assertion like you may write in pytest or another testing framework.  A test is a specific type of an eval.\n",
    "\n",
    "**Metric:** A Metric is an aggregated meaasure of performance.  It could be the percentage of times a test or eval passes, or a traditional metric such as precision or recall.\n",
    "\n",
    ":::\n"
   ]
  },
  {
   "cell_type": "markdown",
   "metadata": {},
   "source": [
    "### Eval Levels\n",
    "\n",
    "There are three levels of evals you should build.  (See [this article by Hamel Husain](https://hamel.dev/blog/posts/evals/#the-types-of-evaluation) for more details):\n",
    "\n",
    "1. **Objective Test**:  These are assertions, such as code to check if the output is valid JSON.\n",
    "1. **Subjective Eval**:  These are opinions of a person or model, such as asking a model to say if a response is good or bad.\n",
    "1. **Production Eval**:  These are business value oriented evals that cannot be calculated without deploying to production.\n"
   ]
  },
  {
   "cell_type": "markdown",
   "metadata": {},
   "source": [
    "### Eval/Test Sets\n",
    "\n",
    "It is critically important to have a test set that is separate from your training set.  The test set needs to be as close to production data as the model will see, which means it cannot be data it was trained on..  This is normal best-practice in all of statistics and data science."
   ]
  },
  {
   "cell_type": "markdown",
   "metadata": {},
   "source": [
    "### Eval Framework\n",
    "\n",
    "Evaluating the model to determine how it is behaving and whether it's improved is the most important thing.  To do that effectively you need to look at the data, a lot.  So you need this to be as frictionless as possible.  There are many eval frameworks out there.  If I were to pick one to use I would choose [inspect_ai](https://ukgovernmentbeis.github.io/inspect_ai/).  \n",
    "\n",
    "However, I recommend using [Shiny for Python](https://shiny.posit.co/py/) to build a custom web app to build your own custom eval UI.  I believe evals to be the most important part of the process and it is always very specific to the use-case and so I believe the flexibility here is worth it.  You cannot just use generic evals that are applied to every problem and be successfull.  Shiny for python lets me create exactly what I need and bring in any relevant data, context, test results, etc. in the exact format I need.  I highly recommend the core version and not the express version.\n"
   ]
  },
  {
   "cell_type": "markdown",
   "metadata": {},
   "source": [
    "## Synthetic Data\n",
    "\n",
    "To create your dataset for training or for testing, you can often create synthetic data with LLMs.  This is helpful in several situations:\n",
    "\n",
    "- When you don't have any data and you want to prove out a concept quickly\n",
    "- When you have a little data and you want to augment it.  For example changing out function names, facts, dates, in the prompt and response in a programatic way.\n",
    "- When you have a better model available.  You can use llama3 70b to create training data to fine tune llama3 8b."
   ]
  },
  {
   "cell_type": "markdown",
   "metadata": {},
   "source": [
    "## Prompt Engineering\n",
    "\n",
    "You need to get good at prompt engineering, because in some cases prompt engineering is sufficient.  It can drastically change the quality of your outputs and can really make or break a project.  Tech loves fancy sounding names, but they're pretty simple concepts.  A few techniques:\n",
    "\n",
    "+ **Chain of Thought (CoT):** Ask the model to think through and explan a problem before answering the question.\n",
    "+ **Few Shot:**  Add examples to your prompt.  Especially ones the model gets wrong.\n",
    "+ **Give reference material:** Manually add context to your prompt to help the model.  Doing this in an automated way is called RAG.\n",
    "+ **Write clearly:** Spend time explaining what you want it to do in an organized and concise way. Structure it with markdown section and bullets as needed.  Give steps needed to solve the problem.\n",
    "\n"
   ]
  },
  {
   "cell_type": "markdown",
   "metadata": {},
   "source": [
    "## RAG\n",
    "\n",
    "Retrieval Augmented Generation (RAG) is about adding reference material to the prompt in an automated way.  Reference material can be a lot of things, such as:\n",
    "\n",
    "+ **Text**:  Texts that are relevant to the ask, such as a paragraph or a page from a reference article.\n",
    "+ **Code**:  Code or functions that are relevant to the ask\n",
    "+ **Data**:  A table of data that contains the source data related to the question\n",
    "+ **Schema**:  Table schema's that are relevant or the user has access to.\n",
    "+ **Examples**:  The most similar K examples to the input to curate the best few-shot examples\n",
    "+ **Metadata**:  Metadata about file names, paths, modified people/times, etc. that is needed to answer a question\n",
    "\n",
    "The idea is to fill in information that may not be in the original training data, but is needed to answer the question.  This is often done in an automated way, but sometimes you need to do it manually.\n",
    "\n",
    "\n",
    ":::{.callout-important}\n",
    "\n",
    "It is important to understand what an embedding is to know what the limitations are for retrieving context.  An embedding of a document will never help you answer what the last file user X modified or other time based questions\n",
    "\n",
    ":::\n",
    "\n"
   ]
  },
  {
   "cell_type": "markdown",
   "metadata": {},
   "source": [
    "## Agents/Self Healing\n",
    "\n",
    "All an agent means is that the LLM you prompt triggers another action (either calls a function or calls another model).\n",
    "\n",
    "A simple agent could be produce an output, then call an eval on the output.  If that eval fails, then reprompt the model to try to get a better response.  This is a form of self-correction or self-healing."
   ]
  },
  {
   "cell_type": "markdown",
   "metadata": {},
   "source": [
    "## Fine Tuning\n",
    "\n",
    "Once everything else is done you can think about fine-tuning.  Fine tuning will add consistency and improve performance.  But it generally offers a much smaller boost than RAG.  Furthermore you should fine-tune AND use RAG, not just one or the other.  So you need RAG in place to effectively fine-tune.\n",
    "\n",
    "Fine-Tuning can be used for a few reasons:\n",
    "\n",
    "+ **Most Common:** Improve perfomance on smaller model so you can use a cheaper faster model for your use-case\n",
    "+ **Most Common:** Learn a domain where there is too much information to put in a prompt effectively (ie writing niche DSL code)\n",
    "+ **Common:** Improve output format consistency.\n",
    "+ **Rarely Needed:** Improve model perfomance by a few percent on your existing use case\n",
    "\n",
    "\n",
    "There are many things to know about fine-tuning from Quantization, Lora, DPO, and more."
   ]
  },
  {
   "cell_type": "markdown",
   "metadata": {},
   "source": [
    "## Deployment\n",
    "\n",
    "I believe that deployment is a software engineering function not a data science function.  However, many data scientists want to deploy and share their own models (including me).  This is challenging because it's a different discipline, but it is doable with the right tools. \n",
    "\n",
    "For most data scientists that don't have full-stack development background here's what I recommend.\n",
    "\n",
    "+ Proof of Concept Application: [Python for Shiny](https://posit-dev.github.io/py-shiny/)\n",
    "+ Model Deployment: [Modal](https://modal.com/) or [Replicate](https://replicate.com/)\n",
    "+ Web Application Development: [fasthtml](https://github.com/fastai/fasthtml)\n",
    "+ Web application deployment: [railway](https://railway.app/)\n",
    "\n",
    "If you learn both front-end and back-end development you will be able to be more creative applications.  Most data scientists will get by just fine with the above, but if you want to be more versatile learning those other domains to some degree is very helpful.  I recommend [boot.dev](boot.dev) to learn backend development.  To learn front-end development, I don't have a specific course recommendation but you'll need to learn HTML, css, and javascript.\n",
    "\n"
   ]
  },
  {
   "cell_type": "markdown",
   "metadata": {},
   "source": []
  }
 ],
 "metadata": {
  "kernelspec": {
   "display_name": ".venv",
   "language": "python",
   "name": "python3"
  },
  "language_info": {
   "codemirror_mode": {
    "name": "ipython",
    "version": 3
   },
   "file_extension": ".py",
   "mimetype": "text/x-python",
   "name": "python",
   "nbconvert_exporter": "python",
   "pygments_lexer": "ipython3",
   "version": "3.9.6"
  }
 },
 "nbformat": 4,
 "nbformat_minor": 2
}
