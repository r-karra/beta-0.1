{
 "cells": [
  {
   "cell_type": "raw",
   "id": "ead01793-9a59-4070-8f0b-2f40c4d40f3d",
   "metadata": {},
   "source": [
    "---\n",
    "title: \"GAN Introduction\"\n",
    "author: \"Isaac Flath\"\n",
    "date: \"2021-02-20\"\n",
    "description: \"Summarizing the foundational concepts relating to GANs\"\n",
    "categories: [Neural Networks, Image Generation]\n",
    "image: \"../_TopicImages/NeuralNetwork.jpg\"\n",
    "---"
   ]
  },
  {
   "cell_type": "markdown",
   "id": "bd84d77a",
   "metadata": {},
   "source": [
    "# Purpose\n",
    "\n",
    "This blog is targeted to people wanting a general intuition about GANs.  We will talk about the most basic high level concepts to understand, not going to cover how to code one or build one\n",
    "\n",
    "You do not need to understand GANs prior to reading this post.  I do assume that you generally are familiar with modeling."
   ]
  },
  {
   "cell_type": "markdown",
   "id": "0acdc868",
   "metadata": {},
   "source": [
    "# What is a GAN and what can it do?\n",
    "\n",
    "A GAN is a Generative Adversarial Network.  They excel in creating data.  Let's take a look at a few examples:"
   ]
  },
  {
   "cell_type": "markdown",
   "id": "7dd1a710",
   "metadata": {},
   "source": [
    "## A GAN can enhance images\n",
    "\n",
    "Google Brain did research to show how GANs can be used to enhance images.  The left super blurry unrecognizable pictures were given to a GAN.  The Middle column is what the GAN made when enhancing the image.  The right column is what the image should look like if the GAN was perfect.\n",
    "\n",
    "![Image Enhancement](../_my_icons/SuperEnhancement.jpg)"
   ]
  },
  {
   "cell_type": "markdown",
   "id": "dac30a26",
   "metadata": {},
   "source": [
    "## A GAN can change image style\n",
    "\n",
    "We can also transfer images from one style to another.  Whether that's changing video of a horse to a zerbra or combining photos with art, [this medium aricle](https://medium.com/@purnasaigudikandula/artistic-neural-style-transfer-with-pytorch-1543e08cc38f) shows a cool example!\n",
    "\n",
    "![Dog Style Transfer](../_my_icons/DogStyleTransfer.jpeg)\n"
   ]
  },
  {
   "cell_type": "markdown",
   "id": "0656cdd3",
   "metadata": {},
   "source": [
    "## A GAN can create new images\n",
    "\n",
    "In the paper [Progressive Growing of GANs for Improved Quality, Stability, and Variation](https://arxiv.org/pdf/1710.10196.pdf), NVIDIA showed the capability of GANs to create realistic super resolution photos of people that do not exist.  These are fictional people made up by the GAN.\n",
    "\n",
    "![Super Resolution Images](../_my_icons/SuperResolution.png)\n"
   ]
  },
  {
   "cell_type": "markdown",
   "id": "aacbb88c",
   "metadata": {},
   "source": [
    "## A GAN can help you draw\n",
    "\n",
    "NVIDIA again shows a really cool video of how basic sketches can be turned into realistic photos.  I can imagine how this could help people create art, visualize designs, and more!\n",
    "\n",
    "{{< video https://www.youtube.com/embed/p5U4NgVGAwg >}}"
   ]
  },
  {
   "cell_type": "markdown",
   "id": "0d66a3f6",
   "metadata": {},
   "source": [
    "## A GAN can compose music\n",
    "\n",
    "Another example is this song that was composed by AI.  The lyrics is a person, but the instrumentation is AI - a great example of Machine-Human collaboration.  You can see the GAN understood basic musical phrasing, hits, understood it can build to hits and go quiet for a couple beats before a large hit to add impact.  If I didn't know, I wouldn't have realized is was using AI\n",
    "\n",
    "{{< video https://www.youtube.com/embed/XUs6CznN8pw >}}"
   ]
  },
  {
   "cell_type": "markdown",
   "id": "32ce4be0",
   "metadata": {},
   "source": [
    "# How Does it Work?\n",
    "\n",
    "This is more complex than your average Neural Network because it is relying on 2 (or more) Neural Networks training in conjunction.  You have 2 models with different roles:\n",
    "\n",
    "The Critic is the quality gauge on the Generator while the generator is what's actually producing the data.  Let's look at a summary of each of those.\n",
    "\n",
    "![Critic Generator Summary](../_my_icons/CriticGenerator.png)"
   ]
  },
  {
   "cell_type": "markdown",
   "id": "94405090",
   "metadata": {},
   "source": [
    "## How they train together\n",
    "\n",
    "There is a big loop where they pass information back and forth an dlearn.  Here's generally how it works\n",
    "\n",
    "![GAN Training Loop](../_my_icons/GANTrainingLoop.png)"
   ]
  },
  {
   "cell_type": "markdown",
   "id": "4fdc90d2",
   "metadata": {},
   "source": [
    "# First Challenges\n",
    "\n"
   ]
  },
  {
   "cell_type": "markdown",
   "id": "834b30a1",
   "metadata": {},
   "source": [
    "## Co-learning\n",
    "\n",
    "As these models learn together they need to be evenly match in terms of skill.  This can be especially challenging because the critic has a much easier job.  Think about it.  You paint a fake Monet and I will determine whether it's a real Monet or a fake.  Who do you think will be more competent at their task?  Clearly painting the Monet is the much harder job.\n",
    "\n",
    "So what can we do about it?  The simplest 2 approaches are:\n",
    "\n",
    "1. Set how many times the generator gets updated vs the critic.\n",
    "1. Set the learning rates different for the generator vs the critic\n",
    "\n"
   ]
  },
  {
   "cell_type": "markdown",
   "id": "dbbd9efd",
   "metadata": {},
   "source": [
    "## Mode Collapse\n",
    "\n",
    "Mode collapse happens when the generator finds a weakness in the critic and exploits it.  For example, the generator might do really well with golden retrievers - so rather than making all types of dogs is just learns to make lots of golden retrievers.\n"
   ]
  },
  {
   "cell_type": "markdown",
   "id": "8e2bd6c5",
   "metadata": {},
   "source": [
    "# Improvements & Tweaks\n",
    "\n",
    "What I have covered above is simple data generation in an unsupervised manner.  There's several modification that can be made to let these GANs do fancier things - and Ill briefly touch on two of those here.\n",
    "\n",
    "## Conditional GANs\n",
    "\n",
    "A conditional GAN is where you can tell it what kind of image you want.  For example if you are generating different dog breeds, you tell the GAN you want a specific breed (ie Golden Retriever).  The way this works:\n",
    "\n",
    "1. The Generator is given a specific class to generate data for.\n",
    "1. The Critic determines whether is is real or fake data for that class.  For example rather than \"Predict if this is a real dog or not\" it's \"Predict if this is a real golden retriever or not\".  In order to fool the critic, the generator now has to not just create a dog - but the right species of dog.  The generator could predict a perfect image of a pitbull, but it would be easy for the critic to determine that it's a not a real golden retriever as pitbulls look completely different!\n",
    "\n",
    "## Controllable GANs\n",
    "\n",
    "A Controllable GAN allows you to control different aspects of the image.  For example, I want to be able to take an image and tell it to generate the same image but add a beard.  Or generate the same image but make the person look older.  \n",
    "\n",
    "A bit of background and how it's accomplished:  A generator creates data from random noise vectors.  These random noise vectors can be thought of as random seeds in a sense.  If I give the generator the exact same vector of random numbers, it will generate the exact same data.  So those random number translate to output features in the data, so you can figure out how they map and then tweak away! \n",
    "\n",
    "Here's an example of what Photoshop is working on when it comes to controllable GANs.\n",
    "\n",
    "{{< video https://www.youtube.com/embed/iJs_nqu8P08 >}}"
   ]
  }
 ],
 "metadata": {
  "kernelspec": {
   "display_name": "Python 3 (ipykernel)",
   "language": "python",
   "name": "python3"
  }
 },
 "nbformat": 4,
 "nbformat_minor": 5
}
