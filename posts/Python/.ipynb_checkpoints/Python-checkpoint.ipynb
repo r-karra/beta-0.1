{
 "cells": [
  {
   "cell_type": "raw",
   "id": "ef51c65e-e376-471f-8e29-625c929abf82",
   "metadata": {},
   "source": [
    "---\n",
    "title: \"Python Programming Tips\"\n",
    "author: \"Isaac Flath\"\n",
    "date: \"2022-11-06\"\n",
    "description: \"A list of handy tips and tricks when programming in python\"\n",
    "categories: [Python, Programming]\n",
    "image: \"../_TopicImages/python.jpg\"\n",
    "\n",
    "---"
   ]
  },
  {
   "cell_type": "markdown",
   "id": "9786cdfd-4110-4a31-95e6-ce70d1481c5f",
   "metadata": {},
   "source": [
    "# Setup"
   ]
  },
  {
   "cell_type": "code",
   "execution_count": null,
   "id": "1cb7ab0b-6390-429f-8c0c-d37ba9284246",
   "metadata": {},
   "outputs": [],
   "source": [
    "#| code-fold: true\n",
    "\n",
    "from functools import partial\n",
    "from datetime import datetime\n",
    "import logging, string, pandas as pd, sqlparse\n",
    "from fastcore.all import *\n",
    "from fastcore.docments import *\n",
    "from IPython.display import Markdown,display, HTML\n",
    "import pandas as pd\n",
    "\n",
    "from pygments import highlight\n",
    "from pygments.lexers import PythonLexer\n",
    "from pygments.formatters import HtmlFormatter\n",
    "\n",
    "def print_function_source(fn):\n",
    "    fn = print_decorator\n",
    "    formatter = HtmlFormatter()\n",
    "    display(HTML('<style type=\"text/css\">{}</style>{}'.format(\n",
    "        formatter.get_style_defs('.highlight'),\n",
    "        highlight(inspect.getsource(fn), PythonLexer(), formatter))))"
   ]
  },
  {
   "cell_type": "markdown",
   "id": "8b13e765-fd6c-400e-b035-5e602a034e14",
   "metadata": {},
   "source": [
    "# Purpose\n",
    "\n",
    "The purpose of this is to introduce concepts I believe data scientists could benefit from knowing.\n",
    "\n",
    "I am assuming that the reader knows the basics of programming.  I will cover concepts I frequently see that I think are not used enough or appropriately, regardless of how basic or advanced they may be."
   ]
  },
  {
   "cell_type": "markdown",
   "id": "55976f09-89e2-4796-823d-887b5502ab49",
   "metadata": {},
   "source": [
    "# Comprehensions"
   ]
  },
  {
   "cell_type": "markdown",
   "id": "5ce1c327-220f-4eaa-91ec-95cb9ba99279",
   "metadata": {},
   "source": [
    "Comprehensions in python should be used when possible.  They are faster than forloops and require less code when they fit"
   ]
  },
  {
   "cell_type": "code",
   "execution_count": null,
   "id": "13cc31e8-b952-413b-a025-f54309a2c337",
   "metadata": {},
   "outputs": [],
   "source": [
    "x = [2,3,4,5]"
   ]
  },
  {
   "cell_type": "code",
   "execution_count": null,
   "id": "0af15228-0b09-446b-8bb9-3d6e6a0a7c05",
   "metadata": {},
   "outputs": [
    {
     "name": "stdout",
     "output_type": "stream",
     "text": [
      "87.2 ms ± 647 µs per loop (mean ± std. dev. of 7 runs, 10 loops each)\n"
     ]
    }
   ],
   "source": [
    "out=[]\n",
    "%timeit for i in range(1000000): out.append(i+1)"
   ]
  },
  {
   "cell_type": "code",
   "execution_count": null,
   "id": "36051273-833e-4393-b5b4-7d35e80da55d",
   "metadata": {},
   "outputs": [
    {
     "name": "stdout",
     "output_type": "stream",
     "text": [
      "56.8 ms ± 584 µs per loop (mean ± std. dev. of 7 runs, 10 loops each)\n"
     ]
    }
   ],
   "source": [
    "%timeit [i+1 for i in range(1000000)]"
   ]
  },
  {
   "cell_type": "markdown",
   "id": "6db34e3c-8f16-4247-9e19-6b4fba2dc41d",
   "metadata": {},
   "source": [
    "This is basically special syntax for a forloop, and are useful in a subset of forloops.  Basically any time you see the pattern where you initialize something, then modify or build it in the forloop you can likely use a comprehension"
   ]
  },
  {
   "cell_type": "code",
   "execution_count": null,
   "id": "ccf4b836-548a-45fe-be18-75c479765d6e",
   "metadata": {},
   "outputs": [
    {
     "data": {
      "text/plain": [
       "[1, 1, 4, 27, 256]"
      ]
     },
     "execution_count": null,
     "metadata": {},
     "output_type": "execute_result"
    }
   ],
   "source": [
    "out = []\n",
    "for o in range(5): out.append(o**o)\n",
    "out"
   ]
  },
  {
   "cell_type": "code",
   "execution_count": null,
   "id": "54da223e-072d-44d3-aa7f-05ecc6ce66a2",
   "metadata": {},
   "outputs": [
    {
     "data": {
      "text/plain": [
       "[1, 1, 4, 27, 256]"
      ]
     },
     "execution_count": null,
     "metadata": {},
     "output_type": "execute_result"
    }
   ],
   "source": [
    "[o**o for o in range(5)]"
   ]
  },
  {
   "cell_type": "markdown",
   "id": "d07fab17-1bb3-4f57-848a-e7333e46f55c",
   "metadata": {},
   "source": [
    "List comprehensions are most common but you can also do tuple comprehension, set comprehension, dict comprehension, or other data types."
   ]
  },
  {
   "cell_type": "code",
   "execution_count": null,
   "id": "72e08b13-1d06-4217-a706-c33773ecd4e0",
   "metadata": {},
   "outputs": [
    {
     "data": {
      "text/plain": [
       "{1, 4, 27, 256}"
      ]
     },
     "execution_count": null,
     "metadata": {},
     "output_type": "execute_result"
    }
   ],
   "source": [
    "set(o**o for o in range(5))"
   ]
  },
  {
   "cell_type": "code",
   "execution_count": null,
   "id": "feb37ec0-8958-4df0-a8f8-2fec2874eb0f",
   "metadata": {},
   "outputs": [
    {
     "data": {
      "text/plain": [
       "{'0': 1, '1': 1, '2': 4, '3': 27, '4': 256}"
      ]
     },
     "execution_count": null,
     "metadata": {},
     "output_type": "execute_result"
    }
   ],
   "source": [
    "{str(o):o**o for o in range(5)}"
   ]
  },
  {
   "cell_type": "markdown",
   "id": "3e91b2c0-1875-4fea-86dd-d8147b75879d",
   "metadata": {},
   "source": [
    "A few handy patterns are:\n",
    "\n",
    "+ Reversing a dictionary\n",
    "+ Combining lists\n",
    "+ All unique combos from multiple lists (nested comprehension)"
   ]
  },
  {
   "cell_type": "code",
   "execution_count": null,
   "id": "1b8c30e1-d31e-4971-9d45-aba2e1648ea7",
   "metadata": {},
   "outputs": [
    {
     "data": {
      "text/plain": [
       "{1: 'a', 2: 'b'}"
      ]
     },
     "execution_count": null,
     "metadata": {},
     "output_type": "execute_result"
    }
   ],
   "source": [
    "adict = {\"a\":1,\"b\":2}\n",
    "{v:k for k,v in adict.items()}"
   ]
  },
  {
   "cell_type": "code",
   "execution_count": null,
   "id": "12b6f82b-b949-4b4e-a254-21d8fe38d53d",
   "metadata": {},
   "outputs": [],
   "source": [
    "x = [1,2,3,4]\n",
    "y = [5,6,7,8]"
   ]
  },
  {
   "cell_type": "code",
   "execution_count": null,
   "id": "7dfb483f-9adf-499f-865a-0b012391f9bd",
   "metadata": {},
   "outputs": [
    {
     "data": {
      "text/plain": [
       "[6, 8, 10, 12]"
      ]
     },
     "execution_count": null,
     "metadata": {},
     "output_type": "execute_result"
    }
   ],
   "source": [
    "[a+b for a,b in zip(x,y)]"
   ]
  },
  {
   "cell_type": "code",
   "execution_count": null,
   "id": "dcbb6272-9ad2-443d-8ef0-6098e458459c",
   "metadata": {},
   "outputs": [
    {
     "data": {
      "text/plain": [
       "(#16) [(1, 5),(1, 6),(1, 7),(1, 8),(2, 5),(2, 6),(2, 7),(2, 8),(3, 5),(3, 6)...]"
      ]
     },
     "execution_count": null,
     "metadata": {},
     "output_type": "execute_result"
    }
   ],
   "source": [
    "unique_combos = L((a,b) for a in x for b in y)\n",
    "unique_combos"
   ]
  },
  {
   "cell_type": "markdown",
   "id": "b0b5c863-7278-47a7-81d1-62adfb56191b",
   "metadata": {},
   "source": [
    "# Destructuring"
   ]
  },
  {
   "cell_type": "markdown",
   "id": "7afa79b7-1040-4e6b-ba1e-844d67de6a8b",
   "metadata": {},
   "source": [
    "Destructured assignments mean to can break up iterables when you assign.  This is handy to reduce pointless lines of code."
   ]
  },
  {
   "cell_type": "code",
   "execution_count": null,
   "id": "f3ee1ad4-45ac-4810-a9c7-77ef7835481c",
   "metadata": {},
   "outputs": [],
   "source": [
    "a,b = 5,6\n",
    "a,b,c = [],[],{}"
   ]
  },
  {
   "cell_type": "markdown",
   "id": "585fa9df-ca59-48bd-aa37-c1feae8e03d7",
   "metadata": {},
   "source": [
    "Another use is to break up lists to create lists where we take all the first elements out into it's own list, and the second elements out into their own lists.\n",
    "\n",
    "I often see this done with multiple list comprehension, doing `[o[0] for o in [x,y,z]]` to get the first element, then repeating for other elements.  \n",
    "\n",
    "However, we can do this easier with the help of zip and destructured assignments"
   ]
  },
  {
   "cell_type": "code",
   "execution_count": null,
   "id": "6667ec23-81b0-4b5c-864e-3a37c259cd8e",
   "metadata": {},
   "outputs": [
    {
     "data": {
      "text/plain": [
       "[[1, 2, 3], [4, 5, 6], [7, 8, 9]]"
      ]
     },
     "execution_count": null,
     "metadata": {},
     "output_type": "execute_result"
    }
   ],
   "source": [
    "nested_list = [[1,2,3],[4,5,6],[7,8,9]]\n",
    "nested_list"
   ]
  },
  {
   "cell_type": "code",
   "execution_count": null,
   "id": "5cdc9ea3-60a3-448c-bc91-174e5380217c",
   "metadata": {},
   "outputs": [],
   "source": [
    "first_elements, second_elements, third_elements = list(zip(*nested_list))"
   ]
  },
  {
   "cell_type": "code",
   "execution_count": null,
   "id": "5ccf1abd-118f-4716-af2b-7f07c28795af",
   "metadata": {},
   "outputs": [
    {
     "name": "stdout",
     "output_type": "stream",
     "text": [
      "first_elements=(1, 4, 7)\n",
      "second_elements=(2, 5, 8)\n",
      "third_elements=(3, 6, 9)\n"
     ]
    }
   ],
   "source": [
    "print(f\"{first_elements=}\")\n",
    "print(f\"{second_elements=}\")\n",
    "print(f\"{third_elements=}\")"
   ]
  },
  {
   "cell_type": "markdown",
   "id": "709b31be-36d0-4ed5-a546-1bf309aea4e1",
   "metadata": {},
   "source": [
    "# Fastcore\n",
    "\n",
    "Fastcore is a great library to know.  It's got a lot of useful features and extensions to the python standard library and it's designed to be used in live environments like jupyter notebooks."
   ]
  },
  {
   "cell_type": "markdown",
   "id": "8427b310-f167-49ce-b844-98ae9e2c2b6f",
   "metadata": {},
   "source": [
    "## Parallel Processing\n",
    "\n",
    "See [this blog post](PythonConcurrency.ipynb)"
   ]
  },
  {
   "cell_type": "markdown",
   "id": "2f1376c6-3497-440c-ba21-f59cbf4d26d0",
   "metadata": {},
   "source": [
    "### Docments\n",
    "\n",
    "Nice way of documenting code concisely and being able to access info from code.  It's concise, easy to manipulate to display how you want, and easy to read.  I much prefer it over the large numpy style docstrings that are big string blocks"
   ]
  },
  {
   "cell_type": "code",
   "execution_count": null,
   "id": "f1b49c8e-5c90-4c35-8a08-16b725a9a257",
   "metadata": {},
   "outputs": [],
   "source": [
    "from fastcore.docments import *\n",
    "\n",
    "def distance(pointa:tuple,  # tuple representing the coordinates of the first point (x,y)\n",
    "             pointb:tuple=(0,0) # tuple representing the coordinates of the first point (x,y)\n",
    "            )->float: # float representing distance between pointa and pointb\n",
    "    '''Calculates the distance between pointa and pointb'''\n",
    "    edges = np.abs(np.subtract(pointa,pointa))\n",
    "    distance = np.sqrt((edges**2).sum())\n",
    "    return distance"
   ]
  },
  {
   "cell_type": "code",
   "execution_count": null,
   "id": "5b4a4f25-175d-4c65-8b6a-424e77a2dacd",
   "metadata": {},
   "outputs": [
    {
     "data": {
      "text/plain": [
       "'Calculates the distance between pointa and pointb'"
      ]
     },
     "execution_count": null,
     "metadata": {},
     "output_type": "execute_result"
    }
   ],
   "source": [
    "docstring(distance)"
   ]
  },
  {
   "cell_type": "code",
   "execution_count": null,
   "id": "7d022ad3-fffc-4fc1-ab49-219fcbc74cdd",
   "metadata": {},
   "outputs": [
    {
     "data": {
      "text/markdown": [
       "```json\n",
       "{ 'pointa': 'tuple representing the coordinates of the first point (x,y)',\n",
       "  'pointb': 'tuple representing the coordinates of the first point (x,y)',\n",
       "  'return': 'float representing distance between pointa and pointb'}\n",
       "```"
      ],
      "text/plain": [
       "{'pointa': 'tuple representing the coordinates of the first point (x,y)',\n",
       " 'pointb': 'tuple representing the coordinates of the first point (x,y)',\n",
       " 'return': 'float representing distance between pointa and pointb'}"
      ]
     },
     "execution_count": null,
     "metadata": {},
     "output_type": "execute_result"
    }
   ],
   "source": [
    "docments(distance)"
   ]
  },
  {
   "cell_type": "code",
   "execution_count": null,
   "id": "3b67cd28-7f0e-40ec-9888-f5451bba58bd",
   "metadata": {},
   "outputs": [
    {
     "data": {
      "text/markdown": [
       "```json\n",
       "{ 'pointa': { 'anno': <class 'tuple'>,\n",
       "              'default': <class 'inspect._empty'>,\n",
       "              'docment': 'tuple representing the coordinates of the first '\n",
       "                         'point (x,y)'},\n",
       "  'pointb': { 'anno': <class 'tuple'>,\n",
       "              'default': (0, 0),\n",
       "              'docment': 'tuple representing the coordinates of the first '\n",
       "                         'point (x,y)'},\n",
       "  'return': { 'anno': <class 'float'>,\n",
       "              'default': <class 'inspect._empty'>,\n",
       "              'docment': 'float representing distance between pointa and '\n",
       "                         'pointb'}}\n",
       "```"
      ],
      "text/plain": [
       "{'pointa': {'docment': 'tuple representing the coordinates of the first point (x,y)',\n",
       "  'anno': tuple,\n",
       "  'default': inspect._empty},\n",
       " 'pointb': {'docment': 'tuple representing the coordinates of the first point (x,y)',\n",
       "  'anno': tuple,\n",
       "  'default': (0, 0)},\n",
       " 'return': {'docment': 'float representing distance between pointa and pointb',\n",
       "  'anno': float,\n",
       "  'default': inspect._empty}}"
      ]
     },
     "execution_count": null,
     "metadata": {},
     "output_type": "execute_result"
    }
   ],
   "source": [
    "docments(distance,full=True)"
   ]
  },
  {
   "cell_type": "markdown",
   "id": "252bb48e-de22-442d-b8e1-d83594854bbe",
   "metadata": {},
   "source": [
    "### Testing \n",
    "\n",
    "Everyone agrees testing is important.  But not all testing is equal.  The needs for unit testing the google code base are not the same as the needs a data scientist needs for building and deploying models, libraries, and most software.\n",
    "\n",
    "Fastcore is a great tool for most of my testing needs.  Fast and simple enough that I can add tests as I build and as I am exploring and building models.  I want testing to enhance my development workflow, not be something I have to painstakingly build at the end."
   ]
  },
  {
   "cell_type": "markdown",
   "id": "71b3bb03-8efe-4901-a279-3a9149b3d1c1",
   "metadata": {},
   "source": [
    "Sometimes simple assert statements are sufficient, but there's small annoyances.  For example, a small change in type can mean a failed test.  Sometimes that change in type should cause a failure, sometimes I'm ok if it's a different type if the values are the same"
   ]
  },
  {
   "cell_type": "code",
   "execution_count": null,
   "id": "8eaada80-0635-470b-a3c1-0f7fc1ffb757",
   "metadata": {},
   "outputs": [],
   "source": [
    "from fastcore.test import *"
   ]
  },
  {
   "cell_type": "code",
   "execution_count": null,
   "id": "1d825eb1-19d4-453e-bee6-4b0005e82f05",
   "metadata": {},
   "outputs": [],
   "source": [
    "test_eq([1,2],(1,2))"
   ]
  },
  {
   "cell_type": "markdown",
   "id": "054b53a2-5d3d-4cd3-b8a5-4371b2abf2e0",
   "metadata": {},
   "source": [
    "For floating points it has handy functionality for that, which is very common in data science.  For example, we may want `.1 + .1 + .1 == .3` to be true, because they are close enough based on floating point precision"
   ]
  },
  {
   "cell_type": "code",
   "execution_count": null,
   "id": "9513d738-9773-4d9a-9b8d-9e7f206391d4",
   "metadata": {},
   "outputs": [
    {
     "data": {
      "text/plain": [
       "False"
      ]
     },
     "execution_count": null,
     "metadata": {},
     "output_type": "execute_result"
    }
   ],
   "source": [
    ".1 + .1 + .1 == .3"
   ]
  },
  {
   "cell_type": "code",
   "execution_count": null,
   "id": "df75fbcd-22a3-479b-9a54-5e751d3f6d1a",
   "metadata": {},
   "outputs": [],
   "source": [
    "test_close(.1 + .1 + .1, .3)"
   ]
  },
  {
   "cell_type": "markdown",
   "id": "a71444e4-c4bb-41b9-912c-2c4450aff490",
   "metadata": {},
   "source": [
    "We can test that something fails, if there are particular situation we want to ensure raise errors."
   ]
  },
  {
   "cell_type": "code",
   "execution_count": null,
   "id": "123d25be-79e1-47f6-b285-80eccae4bb4b",
   "metadata": {},
   "outputs": [],
   "source": [
    "def _fail(): raise Exception(\"foobar\")\n",
    "test_fail(_fail)"
   ]
  },
  {
   "cell_type": "markdown",
   "id": "daccb8ad-3a24-4292-b985-c8afe8ee1152",
   "metadata": {},
   "source": [
    "We can test if 2 lists have the same values, just in different orders (convenient for testing some situations with random mini-batches)."
   ]
  },
  {
   "cell_type": "code",
   "execution_count": null,
   "id": "69613baf-ff3e-488e-a0ab-b87118eecee9",
   "metadata": {},
   "outputs": [],
   "source": [
    "a = list(range(5))\n",
    "b = a.copy()\n",
    "b.reverse()\n",
    "test_shuffled(a,b)"
   ]
  },
  {
   "cell_type": "markdown",
   "id": "34c3c876-6ce8-459e-b3cc-22a856717297",
   "metadata": {},
   "source": [
    "There's more of course, check out the [docs](fastcore.fast.ai)"
   ]
  },
  {
   "cell_type": "markdown",
   "id": "f12b32a8-769c-484a-a403-43ba7055b8ba",
   "metadata": {},
   "source": [
    "### L\n",
    "\n",
    "L is a replacement for a list, but with lots of adding functionality.  Some of it are functional programming concepts, some is numpy like stuff, and some is just niceities (like cleaner printing)."
   ]
  },
  {
   "cell_type": "code",
   "execution_count": null,
   "id": "e027a812-3a7b-45f1-a325-4583859b0460",
   "metadata": {},
   "outputs": [],
   "source": [
    "alist = L(1,2,3,4,3)"
   ]
  },
  {
   "cell_type": "code",
   "execution_count": null,
   "id": "29312748-81b0-4325-9415-38cc5dd69c9b",
   "metadata": {},
   "outputs": [
    {
     "data": {
      "text/plain": [
       "(#5) [1,2,3,3,4]"
      ]
     },
     "execution_count": null,
     "metadata": {},
     "output_type": "execute_result"
    }
   ],
   "source": [
    "alist.sort()\n",
    "alist.sorted()"
   ]
  },
  {
   "cell_type": "code",
   "execution_count": null,
   "id": "8eaa55a2-4e8a-4316-a48f-d9d8ba62ac7c",
   "metadata": {},
   "outputs": [
    {
     "data": {
      "text/plain": [
       "(#4) [1,2,3,4]"
      ]
     },
     "execution_count": null,
     "metadata": {},
     "output_type": "execute_result"
    }
   ],
   "source": [
    "alist.unique()"
   ]
  },
  {
   "cell_type": "code",
   "execution_count": null,
   "id": "22bcc1b8-1151-4dad-b802-ff57a6d7326d",
   "metadata": {},
   "outputs": [
    {
     "data": {
      "text/plain": [
       "(#2) [1,2]"
      ]
     },
     "execution_count": null,
     "metadata": {},
     "output_type": "execute_result"
    }
   ],
   "source": [
    "alist.filter(lambda x: x < 3)"
   ]
  },
  {
   "cell_type": "code",
   "execution_count": null,
   "id": "f7a566f5-768d-4deb-b587-b7092f9fc5c1",
   "metadata": {},
   "outputs": [
    {
     "data": {
      "text/plain": [
       "(#5) [2,4,6,8,6]"
      ]
     },
     "execution_count": null,
     "metadata": {},
     "output_type": "execute_result"
    }
   ],
   "source": [
    "alist.map(lambda x: x * 2)"
   ]
  },
  {
   "cell_type": "markdown",
   "id": "1dd03051-3c04-459c-8856-549e1d319ceb",
   "metadata": {},
   "source": [
    "### AttrDict\n",
    "\n",
    "`Attrdict` is another nice thing from fastcore, that makes dictionaries a bit nicer to use."
   ]
  },
  {
   "cell_type": "code",
   "execution_count": null,
   "id": "50614052-b1c4-4093-a7c1-8afd266003f4",
   "metadata": {},
   "outputs": [],
   "source": [
    "regdict = {'a':2,'b':3}\n",
    "adict = AttrDict({'a':2,'b':3})"
   ]
  },
  {
   "cell_type": "code",
   "execution_count": null,
   "id": "1ef70184-d4b0-4688-8d89-3c75c9557a64",
   "metadata": {},
   "outputs": [
    {
     "data": {
      "text/markdown": [
       "```json\n",
       "{'a': 2, 'b': 3}\n",
       "```"
      ],
      "text/plain": [
       "{'a': 2, 'b': 3}"
      ]
     },
     "execution_count": null,
     "metadata": {},
     "output_type": "execute_result"
    }
   ],
   "source": [
    "adict"
   ]
  },
  {
   "cell_type": "code",
   "execution_count": null,
   "id": "da3ae55b-9106-4a18-a817-a31bd2757b43",
   "metadata": {},
   "outputs": [
    {
     "data": {
      "text/plain": [
       "2"
      ]
     },
     "execution_count": null,
     "metadata": {},
     "output_type": "execute_result"
    }
   ],
   "source": [
    "adict.a"
   ]
  },
  {
   "cell_type": "code",
   "execution_count": null,
   "id": "35f2b253-e297-4d57-a520-99b6d9042d11",
   "metadata": {},
   "outputs": [],
   "source": [
    "def _fail(): return regdict.a\n",
    "test_fail(_fail)"
   ]
  },
  {
   "cell_type": "markdown",
   "id": "71d19b1e-8ec5-4028-898b-3a9bc4219c9d",
   "metadata": {},
   "source": [
    "# Logging"
   ]
  },
  {
   "cell_type": "markdown",
   "id": "dbc337a8-c22c-447b-8a65-a5f2de57cbbb",
   "metadata": {},
   "source": [
    "Logging is super important.  if you log stuff as you work properly you can always look back at what was done previously.  Sometimes it's hard to tell what's going on as you run and re-run different things.  Logging is handy not just in production for debugging, but also as a tool when you are developing.  There are many tools to help with logging and visualizing results (for example W&B or tensorboard for deep learning) - but the foundations are good to understand and use too!"
   ]
  },
  {
   "cell_type": "code",
   "execution_count": null,
   "id": "6a5048e8-8442-4a9e-bdcc-a4285f39fab3",
   "metadata": {},
   "outputs": [],
   "source": [
    "logging.basicConfig(filename=\"./mylog.log\")\n",
    "logger = logging.getLogger()\n",
    "logger.setLevel(logging.INFO)"
   ]
  },
  {
   "cell_type": "code",
   "execution_count": null,
   "id": "260f3c0c-7981-417d-8295-fba9fe69a3f3",
   "metadata": {},
   "outputs": [],
   "source": [
    "def get_current_time(): return datetime.now().strftime('%Y%m%d_%H%M%S')"
   ]
  },
  {
   "cell_type": "code",
   "execution_count": null,
   "id": "d5ab99c2-d9a6-43c1-ab9e-1a2c29a08930",
   "metadata": {},
   "outputs": [],
   "source": [
    "logger.info    (f'{get_current_time()}|This is an info message')"
   ]
  },
  {
   "cell_type": "code",
   "execution_count": null,
   "id": "7e23593b-1096-4799-847c-48035323fcf7",
   "metadata": {},
   "outputs": [
    {
     "name": "stdout",
     "output_type": "stream",
     "text": [
      "INFO:root:20221106_111500|This is an info message\n",
      "INFO:root:20221106_111521|Starting the model training process\n",
      "INFO:root:20221106_111521|Training set has 50 records\n",
      "INFO:root:20221106_111521|Validtion set has 70 records\n"
     ]
    }
   ],
   "source": [
    "!head -4 mylog.log"
   ]
  },
  {
   "cell_type": "code",
   "execution_count": null,
   "id": "4aa7ece6-6148-4be5-93fa-6a563c505459",
   "metadata": {},
   "outputs": [],
   "source": [
    "def log_stuff(msg,**kwargs): \n",
    "    dt = get_current_time()\n",
    "    logger.info(f\"{dt}|{msg}\")\n",
    "    for k,v in kwargs.items(): logger.info(f\"{dt}|{k}={v}\")"
   ]
  },
  {
   "cell_type": "code",
   "execution_count": null,
   "id": "ae6654e7-ec74-4256-a2d1-09aded86668a",
   "metadata": {},
   "outputs": [],
   "source": [
    "log_stuff('this is what I want to log',\n",
    "          trainig_set='50 records',\n",
    "          validation_set='70_records')"
   ]
  },
  {
   "cell_type": "markdown",
   "id": "64237e38-8cf5-418c-a799-5f51414c0b52",
   "metadata": {},
   "source": [
    "# Higher Order Functions & Callbacks"
   ]
  },
  {
   "cell_type": "markdown",
   "id": "b702524f-6daf-4642-92ed-5627d87742b2",
   "metadata": {},
   "source": [
    "This is a simple example of what these terms mean:\n",
    "\n",
    "+ A higher order function is a function that takes a function as an argument\n",
    "+ A callback is a function that is passed in as an argument to a higher order function"
   ]
  },
  {
   "cell_type": "code",
   "execution_count": null,
   "id": "ea38d828-2d2b-4679-8b92-e4e3a29439d1",
   "metadata": {},
   "outputs": [
    {
     "name": "stdout",
     "output_type": "stream",
     "text": [
      "Callback Function 1: Length of the text file is :  1130\n",
      "Callback Function 2: Length of the text file is :  1130\n"
     ]
    }
   ],
   "source": [
    "def callbackFunc1(s): print('Callback Function 1: Length of the text file is : ', s)\n",
    "def callbackFunc2(s): print('Callback Function 2: Length of the text file is : ', s)\n",
    "\n",
    "def HigherOrderFunction(path, callback):\n",
    "    with open(path, \"r\") as f: callback(len(f.read()))\n",
    "\n",
    "HigherOrderFunction(\"mylog.log\", callbackFunc1)\n",
    "HigherOrderFunction(\"mylog.log\", callbackFunc2)"
   ]
  },
  {
   "cell_type": "markdown",
   "id": "fe468975-a4f6-464f-a0a6-cc107b4eb88c",
   "metadata": {},
   "source": [
    "This is handy in a lot of situations.  \n",
    "\n",
    "## Filter \n",
    "\n",
    "Filter is a common higher order function."
   ]
  },
  {
   "cell_type": "code",
   "execution_count": null,
   "id": "6ca02855-f639-4c7f-b34f-a8cecd365141",
   "metadata": {},
   "outputs": [
    {
     "data": {
      "text/plain": [
       "(#2) [4,5]"
      ]
     },
     "execution_count": null,
     "metadata": {},
     "output_type": "execute_result"
    }
   ],
   "source": [
    "L(1,2,3,4,5).filter(lambda x: x>3)"
   ]
  },
  {
   "cell_type": "markdown",
   "id": "b0d51f5c-da7b-418f-aba1-be6a164c82b6",
   "metadata": {},
   "source": [
    "This is very flexible because we can put filtering logic of any complexity in a function and use that to filter a list of any type."
   ]
  },
  {
   "cell_type": "markdown",
   "id": "2da71c22-1a18-4a25-a146-d549804adca2",
   "metadata": {},
   "source": [
    "## Map \n",
    "\n",
    "Map is another very common higher order function."
   ]
  },
  {
   "cell_type": "code",
   "execution_count": null,
   "id": "fe41cdeb-c1d1-4b15-801e-2ca9148d0221",
   "metadata": {},
   "outputs": [
    {
     "data": {
      "text/plain": [
       "(#5) [1,4,9,16,25]"
      ]
     },
     "execution_count": null,
     "metadata": {},
     "output_type": "execute_result"
    }
   ],
   "source": [
    "L(1,2,3,4,5).map(lambda x: x**2)"
   ]
  },
  {
   "cell_type": "markdown",
   "id": "c9c6f828-0af3-46c0-a39b-33856399c268",
   "metadata": {},
   "source": [
    "It is again super flexible because we can apply a function of any complexity to have it be applied and modify each element of the list."
   ]
  },
  {
   "cell_type": "code",
   "execution_count": null,
   "id": "6ce780eb-c161-4221-ad49-0eeda4349616",
   "metadata": {},
   "outputs": [
    {
     "data": {
      "text/plain": [
       "(#5) ['b','c','d','e','f']"
      ]
     },
     "execution_count": null,
     "metadata": {},
     "output_type": "execute_result"
    }
   ],
   "source": [
    "L(1,2,3,4,5).map(lambda x: string.ascii_lowercase[x])"
   ]
  },
  {
   "cell_type": "markdown",
   "id": "81c0dbfa-060c-47a7-ab0c-4cf9f2a888fa",
   "metadata": {},
   "source": [
    "## Simple Logging"
   ]
  },
  {
   "cell_type": "markdown",
   "id": "53244acb-9ca6-4ea8-88a4-ac608f5a1368",
   "metadata": {},
   "source": [
    "We could make a function for logging, where we can pass a function in that we want to use for logging (ie info vs warning)."
   ]
  },
  {
   "cell_type": "code",
   "execution_count": null,
   "id": "4ae9decd-334f-4c3e-a766-ff0703f71817",
   "metadata": {},
   "outputs": [],
   "source": [
    "def log_stuff(msg,fn=logger.info,**kwargs): \n",
    "    dt = get_current_time()\n",
    "    fn(f\"{dt}|{msg}\")\n",
    "    for k,v in kwargs.items(): fn(f\"{dt}|{k}={v}\")"
   ]
  },
  {
   "cell_type": "code",
   "execution_count": null,
   "id": "6f3a3828-84b6-4412-ba93-f55e9a95412e",
   "metadata": {},
   "outputs": [],
   "source": [
    "log_stuff('abcd',a=1,b=55)"
   ]
  },
  {
   "cell_type": "code",
   "execution_count": null,
   "id": "41d6c211-9db9-433f-9320-4067ae6dac5f",
   "metadata": {},
   "outputs": [
    {
     "name": "stdout",
     "output_type": "stream",
     "text": [
      "INFO:root:20221106_193211|abcd\n",
      "INFO:root:20221106_193211|a=1\n",
      "INFO:root:20221106_193211|b=55\n"
     ]
    }
   ],
   "source": [
    "!tail -3 mylog.log"
   ]
  },
  {
   "cell_type": "code",
   "execution_count": null,
   "id": "683219f4-3483-419b-ad71-e2d2f39900b1",
   "metadata": {},
   "outputs": [],
   "source": [
    "log_stuff('something might be awry',fn=logger.critical,a=1,b=55)"
   ]
  },
  {
   "cell_type": "code",
   "execution_count": null,
   "id": "791ca832-2b13-4da0-ad89-d49aec20bf16",
   "metadata": {},
   "outputs": [
    {
     "name": "stdout",
     "output_type": "stream",
     "text": [
      "CRITICAL:root:20221106_193211|something might be awry\n",
      "CRITICAL:root:20221106_193211|a=1\n",
      "CRITICAL:root:20221106_193211|b=55\n"
     ]
    }
   ],
   "source": [
    "!tail -3 mylog.log"
   ]
  },
  {
   "cell_type": "markdown",
   "id": "87c54957-dd46-490d-ba4b-89290cfade36",
   "metadata": {},
   "source": [
    "## File Processor\n",
    "\n",
    "You can also make a generic file processor that you can pass callbacks to.  This file processor can include log statements to log what you're doing, so you can minimize repeating lots of code.  For now, we'll do a simple processor, and callbacks to clean and format a messy sql file."
   ]
  },
  {
   "cell_type": "code",
   "execution_count": null,
   "id": "0a99f020-08b4-45be-8e1b-4d1dc4f64b12",
   "metadata": {},
   "outputs": [],
   "source": [
    "def process_file(fpath,callbacks): \n",
    "    with open(fpath, \"r\") as f: contents = f.read()\n",
    "    for callback in callbacks: contents = callback(contents)\n",
    "    return contents   "
   ]
  },
  {
   "cell_type": "markdown",
   "id": "ebfa009a-4ec3-4fb5-ad3f-41499146a1fa",
   "metadata": {},
   "source": [
    "## Format and clean SQL file"
   ]
  },
  {
   "cell_type": "code",
   "execution_count": null,
   "id": "590cc01b-0546-4fa0-9b2f-70426dabe2a1",
   "metadata": {},
   "outputs": [],
   "source": [
    "sql_formatter_cb = partial(sqlparse.format,\n",
    "                strip_comments=True,comma_first=True,\n",
    "                keyword_case='upper', identifier_case='lower',\n",
    "                reindent=True, indent_width=4,)\n",
    "\n",
    "\n",
    "\n",
    "qrys = process_file('test.sql',[sql_formatter_cb,sqlparse.split])"
   ]
  },
  {
   "cell_type": "code",
   "execution_count": null,
   "id": "a1c2c3e0-0d2f-4a96-a755-43ffa3fcf996",
   "metadata": {},
   "outputs": [
    {
     "data": {
      "text/markdown": [
       "```sql\n",
       "\n",
       "SELECT top 25 *\n",
       "FROM some_table;\n",
       "\n",
       "```"
      ],
      "text/plain": [
       "<IPython.core.display.Markdown object>"
      ]
     },
     "metadata": {},
     "output_type": "display_data"
    },
    {
     "data": {
      "text/markdown": [
       "```sql\n",
       "\n",
       "SELECT count(1)\n",
       "FROM another TABLE ;\n",
       "\n",
       "```"
      ],
      "text/plain": [
       "<IPython.core.display.Markdown object>"
      ]
     },
     "metadata": {},
     "output_type": "display_data"
    },
    {
     "data": {
      "text/markdown": [
       "```sql\n",
       "\n",
       "SELECT date_time\n",
       "     , mbr_id\n",
       "     , transactions\n",
       "     , count(1)\n",
       "FROM table3\n",
       "WHERE date_time > '2021-02-02'\n",
       "GROUP BY 1\n",
       "       , 2\n",
       "       , 3;\n",
       "\n",
       "```"
      ],
      "text/plain": [
       "<IPython.core.display.Markdown object>"
      ]
     },
     "metadata": {},
     "output_type": "display_data"
    }
   ],
   "source": [
    "def sql_pprint(sql): display(Markdown(f\"```sql\\n\\n{sql}\\n\\n```\"))\n",
    "for qry in qrys: sql_pprint(qry)"
   ]
  },
  {
   "cell_type": "markdown",
   "id": "9939436f-0c22-476d-b375-157bed43a5ae",
   "metadata": {},
   "source": [
    "# Decorators"
   ]
  },
  {
   "cell_type": "markdown",
   "id": "2f58717b-9f47-4097-b521-d1ed84efe3f7",
   "metadata": {},
   "source": [
    "Decorators give you a way to add the same functionality to many functions (like inheritance does for classes).  You typically use decorator using the `@` syntax, which modified the function.\n",
    "\n",
    "## Silly Simple Example"
   ]
  },
  {
   "cell_type": "code",
   "execution_count": null,
   "id": "2db50544-9ea6-4825-aebd-ca49e4cf7eb1",
   "metadata": {},
   "outputs": [],
   "source": [
    "def add_another(func):\n",
    "    def wrapper(number):\n",
    "        print(f\"The decorator took over!\")\n",
    "        print(f\"I could log the original number ({number}) here!\")\n",
    "        print(f\"Or I could log the original answer ({func(number)}) here!\")\n",
    "        return func(number) + 1\n",
    "    return wrapper\n",
    "    \n",
    "@add_another\n",
    "def add_one(number): return number + 1"
   ]
  },
  {
   "cell_type": "markdown",
   "id": "1e7cd74e-61c7-40cb-8e56-697e689e00b9",
   "metadata": {},
   "source": [
    "So when we use a decorator, the code in the `wrapper` function is called instead of the original function.  Typically the `wrapper` function calls the original function (otherwise there would be no point in decorating it as you'd just have a new unrelated function)."
   ]
  },
  {
   "cell_type": "markdown",
   "id": "bb48bfd8-dd45-4fb9-8c89-805438d6173e",
   "metadata": {},
   "source": [
    "## Useful Example\n",
    "\n",
    "For example, maybe you want to print (or log) particular function call times and the args.  See this decorator that does just that (and can be used on methods too)"
   ]
  },
  {
   "cell_type": "code",
   "execution_count": null,
   "id": "979977b8-2b39-4a47-95bb-39340dc2ffee",
   "metadata": {},
   "outputs": [],
   "source": [
    "from datetime import datetime"
   ]
  },
  {
   "cell_type": "code",
   "execution_count": null,
   "id": "56cd849c-fd10-4c9c-bdc9-049a752619e5",
   "metadata": {},
   "outputs": [],
   "source": [
    "def print_decorator(func):\n",
    "    def wrapper(*args, **kwargs):\n",
    "        print(f\"{datetime.now()}:{func}:args={args}:kwargs={kwargs}\")\n",
    "        return func(*args, **kwargs)\n",
    "    return wrapper"
   ]
  },
  {
   "cell_type": "code",
   "execution_count": null,
   "id": "a594bd2c-efbb-4f33-82a1-9cd33cc840d4",
   "metadata": {},
   "outputs": [],
   "source": [
    "@print_decorator\n",
    "def simple_add(a,b): return a + b"
   ]
  },
  {
   "cell_type": "code",
   "execution_count": null,
   "id": "ca44eaa4-5ece-44fc-8662-7533221b3aac",
   "metadata": {},
   "outputs": [
    {
     "name": "stdout",
     "output_type": "stream",
     "text": [
      "2022-11-02 14:18:56.635936:<function simple_add>:args=(2, 4):kwargs={}\n"
     ]
    },
    {
     "data": {
      "text/plain": [
       "6"
      ]
     },
     "execution_count": null,
     "metadata": {},
     "output_type": "execute_result"
    }
   ],
   "source": [
    "simple_add(2,4)"
   ]
  },
  {
   "cell_type": "code",
   "execution_count": null,
   "id": "8f239c98-e90e-4727-ab19-2304ae6715cf",
   "metadata": {},
   "outputs": [],
   "source": [
    "@print_decorator\n",
    "def complex_add(a,b,*args,**kwargs): \n",
    "    out = a + b\n",
    "    for arg in args: out = out + arg\n",
    "    for kwarg in kwargs.values(): out = out + kwarg\n",
    "    return out"
   ]
  },
  {
   "cell_type": "code",
   "execution_count": null,
   "id": "5cbac337-e1ab-4e8e-9769-a207abec50cb",
   "metadata": {},
   "outputs": [
    {
     "name": "stdout",
     "output_type": "stream",
     "text": [
      "2022-11-02 14:18:57.716085:<function complex_add>:args=(5, 2, 3):kwargs={'foo': 6, 'bar': 10}\n"
     ]
    },
    {
     "data": {
      "text/plain": [
       "26"
      ]
     },
     "execution_count": null,
     "metadata": {},
     "output_type": "execute_result"
    }
   ],
   "source": [
    "complex_add(5,2,3,foo=6,bar=10)"
   ]
  },
  {
   "cell_type": "markdown",
   "id": "71d59e05-078e-4217-a03b-7ad0ac7cf6c5",
   "metadata": {},
   "source": [
    "## Use on Existing Functions"
   ]
  },
  {
   "cell_type": "markdown",
   "id": "bc61af2f-c97f-40ac-909e-d2f4e6b25a6a",
   "metadata": {},
   "source": [
    "What we have seen is applying a decorator to functions we fully define but we can also apply them to previously existing functions like ones we import from a library.  This is helpful not just in understanding one way you can extend an existing libraries functionality, but also in understanding what decorators are.  They aren't magical.\n",
    "\n",
    "Let's add logging to `pd.DataFrame` using our existing decorator so we can see when a dataframe is constructed."
   ]
  },
  {
   "cell_type": "code",
   "execution_count": null,
   "id": "66349453-afac-4ec0-8391-81f6cd88ac18",
   "metadata": {},
   "outputs": [
    {
     "name": "stdout",
     "output_type": "stream",
     "text": [
      "2022-11-02 14:53:16.323144:<class 'pandas.core.frame.DataFrame'>:args=([1, 2, 3],):kwargs={}\n"
     ]
    }
   ],
   "source": [
    "LoggingDataFrame = print_decorator(pd.DataFrame)\n",
    "df = LoggingDataFrame([1,2,3])"
   ]
  },
  {
   "cell_type": "code",
   "execution_count": null,
   "id": "aa35ec2b-66d6-4c97-ac06-2f9de4e9930a",
   "metadata": {},
   "outputs": [
    {
     "data": {
      "text/html": [
       "<div>\n",
       "<style scoped>\n",
       "    .dataframe tbody tr th:only-of-type {\n",
       "        vertical-align: middle;\n",
       "    }\n",
       "\n",
       "    .dataframe tbody tr th {\n",
       "        vertical-align: top;\n",
       "    }\n",
       "\n",
       "    .dataframe thead th {\n",
       "        text-align: right;\n",
       "    }\n",
       "</style>\n",
       "<table border=\"1\" class=\"dataframe\">\n",
       "  <thead>\n",
       "    <tr style=\"text-align: right;\">\n",
       "      <th></th>\n",
       "      <th>0</th>\n",
       "    </tr>\n",
       "  </thead>\n",
       "  <tbody>\n",
       "    <tr>\n",
       "      <th>0</th>\n",
       "      <td>1</td>\n",
       "    </tr>\n",
       "    <tr>\n",
       "      <th>1</th>\n",
       "      <td>2</td>\n",
       "    </tr>\n",
       "    <tr>\n",
       "      <th>2</th>\n",
       "      <td>3</td>\n",
       "    </tr>\n",
       "  </tbody>\n",
       "</table>\n",
       "</div>"
      ],
      "text/plain": [
       "   0\n",
       "0  1\n",
       "1  2\n",
       "2  3"
      ]
     },
     "execution_count": null,
     "metadata": {},
     "output_type": "execute_result"
    }
   ],
   "source": [
    "df.head()"
   ]
  },
  {
   "cell_type": "markdown",
   "id": "b3a00695-ddaf-4e9b-8f72-5bfd515bed83",
   "metadata": {},
   "source": [
    "The key thing to notice here is that the `@` syntax really isn't doing anything magical.  It's just passing the function into the decorator and using that as the function definition.  It's just syntactic sugar for a higher order function that takes a function and returns a function.\n",
    "\n",
    "To understand why this works, think through what our decorator is doing.\n",
    "1. It's a function that takes a function as an argument\n",
    "2. It creates a new function called `wrapper`.  This `wrapper` function called the argument passed into it, but also has other code.\n",
    "3. It returns that function as the output"
   ]
  },
  {
   "cell_type": "code",
   "execution_count": null,
   "id": "6e6cfe91-1622-45d1-8505-2115e35408ce",
   "metadata": {},
   "outputs": [
    {
     "data": {
      "text/html": [
       "<style type=\"text/css\">pre { line-height: 125%; }\n",
       "td.linenos .normal { color: inherit; background-color: transparent; padding-left: 5px; padding-right: 5px; }\n",
       "span.linenos { color: inherit; background-color: transparent; padding-left: 5px; padding-right: 5px; }\n",
       "td.linenos .special { color: #000000; background-color: #ffffc0; padding-left: 5px; padding-right: 5px; }\n",
       "span.linenos.special { color: #000000; background-color: #ffffc0; padding-left: 5px; padding-right: 5px; }\n",
       ".highlight .hll { background-color: #ffffcc }\n",
       ".highlight { background: #f8f8f8; }\n",
       ".highlight .c { color: #3D7B7B; font-style: italic } /* Comment */\n",
       ".highlight .err { border: 1px solid #FF0000 } /* Error */\n",
       ".highlight .k { color: #008000; font-weight: bold } /* Keyword */\n",
       ".highlight .o { color: #666666 } /* Operator */\n",
       ".highlight .ch { color: #3D7B7B; font-style: italic } /* Comment.Hashbang */\n",
       ".highlight .cm { color: #3D7B7B; font-style: italic } /* Comment.Multiline */\n",
       ".highlight .cp { color: #9C6500 } /* Comment.Preproc */\n",
       ".highlight .cpf { color: #3D7B7B; font-style: italic } /* Comment.PreprocFile */\n",
       ".highlight .c1 { color: #3D7B7B; font-style: italic } /* Comment.Single */\n",
       ".highlight .cs { color: #3D7B7B; font-style: italic } /* Comment.Special */\n",
       ".highlight .gd { color: #A00000 } /* Generic.Deleted */\n",
       ".highlight .ge { font-style: italic } /* Generic.Emph */\n",
       ".highlight .gr { color: #E40000 } /* Generic.Error */\n",
       ".highlight .gh { color: #000080; font-weight: bold } /* Generic.Heading */\n",
       ".highlight .gi { color: #008400 } /* Generic.Inserted */\n",
       ".highlight .go { color: #717171 } /* Generic.Output */\n",
       ".highlight .gp { color: #000080; font-weight: bold } /* Generic.Prompt */\n",
       ".highlight .gs { font-weight: bold } /* Generic.Strong */\n",
       ".highlight .gu { color: #800080; font-weight: bold } /* Generic.Subheading */\n",
       ".highlight .gt { color: #0044DD } /* Generic.Traceback */\n",
       ".highlight .kc { color: #008000; font-weight: bold } /* Keyword.Constant */\n",
       ".highlight .kd { color: #008000; font-weight: bold } /* Keyword.Declaration */\n",
       ".highlight .kn { color: #008000; font-weight: bold } /* Keyword.Namespace */\n",
       ".highlight .kp { color: #008000 } /* Keyword.Pseudo */\n",
       ".highlight .kr { color: #008000; font-weight: bold } /* Keyword.Reserved */\n",
       ".highlight .kt { color: #B00040 } /* Keyword.Type */\n",
       ".highlight .m { color: #666666 } /* Literal.Number */\n",
       ".highlight .s { color: #BA2121 } /* Literal.String */\n",
       ".highlight .na { color: #687822 } /* Name.Attribute */\n",
       ".highlight .nb { color: #008000 } /* Name.Builtin */\n",
       ".highlight .nc { color: #0000FF; font-weight: bold } /* Name.Class */\n",
       ".highlight .no { color: #880000 } /* Name.Constant */\n",
       ".highlight .nd { color: #AA22FF } /* Name.Decorator */\n",
       ".highlight .ni { color: #717171; font-weight: bold } /* Name.Entity */\n",
       ".highlight .ne { color: #CB3F38; font-weight: bold } /* Name.Exception */\n",
       ".highlight .nf { color: #0000FF } /* Name.Function */\n",
       ".highlight .nl { color: #767600 } /* Name.Label */\n",
       ".highlight .nn { color: #0000FF; font-weight: bold } /* Name.Namespace */\n",
       ".highlight .nt { color: #008000; font-weight: bold } /* Name.Tag */\n",
       ".highlight .nv { color: #19177C } /* Name.Variable */\n",
       ".highlight .ow { color: #AA22FF; font-weight: bold } /* Operator.Word */\n",
       ".highlight .w { color: #bbbbbb } /* Text.Whitespace */\n",
       ".highlight .mb { color: #666666 } /* Literal.Number.Bin */\n",
       ".highlight .mf { color: #666666 } /* Literal.Number.Float */\n",
       ".highlight .mh { color: #666666 } /* Literal.Number.Hex */\n",
       ".highlight .mi { color: #666666 } /* Literal.Number.Integer */\n",
       ".highlight .mo { color: #666666 } /* Literal.Number.Oct */\n",
       ".highlight .sa { color: #BA2121 } /* Literal.String.Affix */\n",
       ".highlight .sb { color: #BA2121 } /* Literal.String.Backtick */\n",
       ".highlight .sc { color: #BA2121 } /* Literal.String.Char */\n",
       ".highlight .dl { color: #BA2121 } /* Literal.String.Delimiter */\n",
       ".highlight .sd { color: #BA2121; font-style: italic } /* Literal.String.Doc */\n",
       ".highlight .s2 { color: #BA2121 } /* Literal.String.Double */\n",
       ".highlight .se { color: #AA5D1F; font-weight: bold } /* Literal.String.Escape */\n",
       ".highlight .sh { color: #BA2121 } /* Literal.String.Heredoc */\n",
       ".highlight .si { color: #A45A77; font-weight: bold } /* Literal.String.Interpol */\n",
       ".highlight .sx { color: #008000 } /* Literal.String.Other */\n",
       ".highlight .sr { color: #A45A77 } /* Literal.String.Regex */\n",
       ".highlight .s1 { color: #BA2121 } /* Literal.String.Single */\n",
       ".highlight .ss { color: #19177C } /* Literal.String.Symbol */\n",
       ".highlight .bp { color: #008000 } /* Name.Builtin.Pseudo */\n",
       ".highlight .fm { color: #0000FF } /* Name.Function.Magic */\n",
       ".highlight .vc { color: #19177C } /* Name.Variable.Class */\n",
       ".highlight .vg { color: #19177C } /* Name.Variable.Global */\n",
       ".highlight .vi { color: #19177C } /* Name.Variable.Instance */\n",
       ".highlight .vm { color: #19177C } /* Name.Variable.Magic */\n",
       ".highlight .il { color: #666666 } /* Literal.Number.Integer.Long */</style><div class=\"highlight\"><pre><span></span><span class=\"k\">def</span> <span class=\"nf\">print_decorator</span><span class=\"p\">(</span><span class=\"n\">func</span><span class=\"p\">):</span>\n",
       "    <span class=\"k\">def</span> <span class=\"nf\">wrapper</span><span class=\"p\">(</span><span class=\"o\">*</span><span class=\"n\">args</span><span class=\"p\">,</span> <span class=\"o\">**</span><span class=\"n\">kwargs</span><span class=\"p\">):</span>\n",
       "        <span class=\"nb\">print</span><span class=\"p\">(</span><span class=\"sa\">f</span><span class=\"s2\">&quot;</span><span class=\"si\">{</span><span class=\"n\">datetime</span><span class=\"o\">.</span><span class=\"n\">now</span><span class=\"p\">()</span><span class=\"si\">}</span><span class=\"s2\">:</span><span class=\"si\">{</span><span class=\"n\">func</span><span class=\"si\">}</span><span class=\"s2\">:args=</span><span class=\"si\">{</span><span class=\"n\">args</span><span class=\"si\">}</span><span class=\"s2\">:kwargs=</span><span class=\"si\">{</span><span class=\"n\">kwargs</span><span class=\"si\">}</span><span class=\"s2\">&quot;</span><span class=\"p\">)</span>\n",
       "        <span class=\"k\">return</span> <span class=\"n\">func</span><span class=\"p\">(</span><span class=\"o\">*</span><span class=\"n\">args</span><span class=\"p\">,</span> <span class=\"o\">**</span><span class=\"n\">kwargs</span><span class=\"p\">)</span>\n",
       "    <span class=\"k\">return</span> <span class=\"n\">wrapper</span>\n",
       "</pre></div>\n"
      ],
      "text/plain": [
       "<IPython.core.display.HTML object>"
      ]
     },
     "metadata": {},
     "output_type": "display_data"
    }
   ],
   "source": [
    "print_function_source(print_decorator)"
   ]
  },
  {
   "cell_type": "markdown",
   "id": "d6ec7671-772b-4050-8521-8776815a1b79",
   "metadata": {},
   "source": [
    "# Inheritance"
   ]
  },
  {
   "cell_type": "markdown",
   "id": "a4f88b1c-e2db-4a5d-9996-56bbe2ccf95f",
   "metadata": {},
   "source": [
    "Inheritance is the idea that you a class can \"Inherit\" attributes and methods from other classes.\n",
    "\n",
    "For example a class could have an attribute `a`, and it can be used to create a new class to give it that attribute without having to specify it."
   ]
  },
  {
   "cell_type": "markdown",
   "id": "bfbc01c3-0a5f-4f85-a807-00c9113e9644",
   "metadata": {},
   "source": [
    "## Silly Simple Example"
   ]
  },
  {
   "cell_type": "code",
   "execution_count": null,
   "id": "285f5808-77f6-4cd7-9546-ad5dd7728dda",
   "metadata": {},
   "outputs": [
    {
     "data": {
      "text/plain": [
       "True"
      ]
     },
     "execution_count": null,
     "metadata": {},
     "output_type": "execute_result"
    }
   ],
   "source": [
    "class aClass: a = 2\n",
    "    \n",
    "class bClass(aClass): pass\n",
    "    \n",
    "aClass.a == bClass.a"
   ]
  },
  {
   "cell_type": "markdown",
   "id": "a1774e8c-a9e6-4963-ae6c-b8312d908c83",
   "metadata": {},
   "source": [
    "## Useful Examples\n",
    "\n",
    "In many cases there are common things we want to inherit in lots of classes.  One example is having access to the date.  Often you want this for logging, or printing, or any number of things.  By subclassing you don't have to reformat the date each time in your classes."
   ]
  },
  {
   "cell_type": "code",
   "execution_count": null,
   "id": "851ffe78-6db6-4e1a-a133-e12b5e2d0dd1",
   "metadata": {},
   "outputs": [],
   "source": [
    "class DateMinuteMixin:\n",
    "    date_format='%Y%m%d_%H%M%S'\n",
    "    dte = datetime.now()\n",
    "\n",
    "    @property\n",
    "    def date_str(self): return self.dte.strftime(self.date_format)"
   ]
  },
  {
   "cell_type": "markdown",
   "id": "f96bbdf7-3635-4004-8b33-4d819d4bad45",
   "metadata": {},
   "source": [
    "Another handy use is to have generic behavior for handling different file types.  In this case, we have a mixin where it opens and reads a sql file.  Rather than rewriting this code for every class that needs to read a sql file, you can inherit from a class when you need that functionality.\n",
    "\n",
    ":::{.callout-tip}\n",
    "You can define an abstract property like below to let users know that after inheriting this class, they need to define that property.  In this case, they define the `sql_filepath`, and they get the contents of the file for free via the other methods.\n",
    ":::"
   ]
  },
  {
   "cell_type": "code",
   "execution_count": null,
   "id": "bc2bc9f9-e1b7-4479-9b35-35a4ab749b9c",
   "metadata": {},
   "outputs": [],
   "source": [
    "import abc\n",
    "\n",
    "class SqlFileMixin:\n",
    "    @abc.abstractproperty\n",
    "    def sql_filepath(self):\n",
    "        pass\n",
    "\n",
    "    @property\n",
    "    def sql_file(self):\n",
    "        return open(self.sql_filepath)\n",
    "\n",
    "    @property\n",
    "    def query(self):\n",
    "        return self.sql_file.read()"
   ]
  },
  {
   "cell_type": "markdown",
   "id": "1c99e732-52f6-4d2b-b4c4-d00ac532db67",
   "metadata": {},
   "source": [
    "# Dunders"
   ]
  },
  {
   "cell_type": "code",
   "execution_count": null,
   "id": "7f306240-2a27-4cfb-96f5-3afd97a438b4",
   "metadata": {},
   "outputs": [],
   "source": [
    "import numpy as np\n",
    "class someClass:\n",
    "    def __init__(self,a): self.a = a\n",
    "    def __str__(self): return f\"This object's a is : {self.a}\"\n",
    "    def __getitem__(self,idx): return self.a[idx-1]\n",
    "    def __add__(self,some_class): return list(map(lambda x,y: x + y, self.a, some_class.a))"
   ]
  },
  {
   "cell_type": "code",
   "execution_count": null,
   "id": "cd1bc1b9-fe90-4232-9a4b-f46015353ed8",
   "metadata": {},
   "outputs": [
    {
     "data": {
      "text/plain": [
       "[1, 2, 3, 4, 25]"
      ]
     },
     "execution_count": null,
     "metadata": {},
     "output_type": "execute_result"
    }
   ],
   "source": [
    "a = someClass(x)\n",
    "a.a"
   ]
  },
  {
   "cell_type": "code",
   "execution_count": null,
   "id": "f90a2d83-e980-4cfd-8508-b986380a3091",
   "metadata": {},
   "outputs": [
    {
     "data": {
      "text/plain": [
       "[2, 4, 6, 8, 50]"
      ]
     },
     "execution_count": null,
     "metadata": {},
     "output_type": "execute_result"
    }
   ],
   "source": [
    "a + a"
   ]
  },
  {
   "cell_type": "code",
   "execution_count": null,
   "id": "5e9680b2-d69d-421d-854b-839f7df84b0b",
   "metadata": {},
   "outputs": [
    {
     "data": {
      "text/plain": [
       "1"
      ]
     },
     "execution_count": null,
     "metadata": {},
     "output_type": "execute_result"
    }
   ],
   "source": [
    "a[1]"
   ]
  },
  {
   "cell_type": "code",
   "execution_count": null,
   "id": "846042ca-de91-4903-a8f2-d75c0b17d4d9",
   "metadata": {},
   "outputs": [
    {
     "data": {
      "text/plain": [
       "<__main__.someClass>"
      ]
     },
     "execution_count": null,
     "metadata": {},
     "output_type": "execute_result"
    }
   ],
   "source": [
    "a"
   ]
  },
  {
   "cell_type": "code",
   "execution_count": null,
   "id": "d8fd3843-478c-48b3-a969-c8cd0f4fe5e1",
   "metadata": {},
   "outputs": [
    {
     "name": "stdout",
     "output_type": "stream",
     "text": [
      "This object's a is : [1, 2, 3, 4, 25]\n"
     ]
    }
   ],
   "source": [
    "print(a)"
   ]
  },
  {
   "cell_type": "markdown",
   "id": "2e1ce587-04d6-4ce3-9019-4fc193b1fe7f",
   "metadata": {},
   "source": [
    "# Iterators/Data Streaming\n",
    "\n",
    "Iterators are useful when you don't want to just load all data in memory all at once.  They are often defined with `yield`, but there are other ways."
   ]
  },
  {
   "cell_type": "markdown",
   "id": "3b5bf426-9438-4f31-88ca-585bb83ee790",
   "metadata": {},
   "source": [
    "## Silly Simple Example"
   ]
  },
  {
   "cell_type": "code",
   "execution_count": null,
   "id": "38fa5e70-0067-40de-ac51-47ee464c1253",
   "metadata": {},
   "outputs": [],
   "source": [
    "def mapper(items,fn):\n",
    "    for item in items: yield item"
   ]
  },
  {
   "cell_type": "code",
   "execution_count": null,
   "id": "8726d50e-a1f3-4876-8ea6-7167a580ccae",
   "metadata": {},
   "outputs": [
    {
     "data": {
      "text/plain": [
       "<generator object mapper>"
      ]
     },
     "execution_count": null,
     "metadata": {},
     "output_type": "execute_result"
    }
   ],
   "source": [
    "it = mapper([2,4,6,8],square)\n",
    "it"
   ]
  },
  {
   "cell_type": "code",
   "execution_count": null,
   "id": "56276375-0dbb-4305-8851-2ddb56452d9a",
   "metadata": {},
   "outputs": [
    {
     "data": {
      "text/plain": [
       "(2, 4, 6)"
      ]
     },
     "execution_count": null,
     "metadata": {},
     "output_type": "execute_result"
    }
   ],
   "source": [
    "next(it), next(it), next(it)"
   ]
  },
  {
   "cell_type": "markdown",
   "id": "120938a4-a0b6-4953-9d52-97d3138e6b6e",
   "metadata": {},
   "source": [
    "You can also process it sequentially in a loop."
   ]
  },
  {
   "cell_type": "code",
   "execution_count": null,
   "id": "8a742483-1435-41ab-8e3d-5f261cadfb14",
   "metadata": {},
   "outputs": [
    {
     "name": "stdout",
     "output_type": "stream",
     "text": [
      "2\n",
      "4\n",
      "6\n",
      "8\n"
     ]
    }
   ],
   "source": [
    "for item in mapper([2,4,6,8],square): \n",
    "    print(item)"
   ]
  },
  {
   "cell_type": "markdown",
   "id": "3550d789-9cc9-4587-9a93-b5d750e343e6",
   "metadata": {},
   "source": [
    "## Useful Example"
   ]
  },
  {
   "cell_type": "markdown",
   "id": "096547bd-0ad3-49ad-9d9a-2a0eb4b9e449",
   "metadata": {},
   "source": [
    "### File Streaming"
   ]
  },
  {
   "cell_type": "code",
   "execution_count": null,
   "id": "6a1f58db-a55c-48ce-8d81-0e8349344549",
   "metadata": {},
   "outputs": [
    {
     "name": "stdout",
     "output_type": "stream",
     "text": [
      "<class 'callable_iterator'>\n",
      "++++++\n",
      "b'one\\ntwo\\nthree\\nfour\\nfive\\nsix\\nseven\\neight\\nnine\\nten\\neleven\\ntwelve\\nt'\n",
      "++++++\n",
      "b'hirteen\\nninety nine thousand nine hundred ninety\\nninety nine tho'\n",
      "++++++\n",
      "b'usand nine hundred ninety one\\nninety nine thousand nine hundred '\n",
      "++++++\n",
      "b'ninety two\\nninety nine thousand nine hundred ninety three\\nninety'\n",
      "++++++\n",
      "b' nine thousand nine hundred ninety four\\nninety nine thousand nin'\n",
      "++++++\n",
      "b'e hundred ninety five\\nninety nine thousand nine hundred ninety s'\n",
      "++++++\n",
      "b'ix\\nninety nine thousand nine hundred ninety seven\\nninety nine th'\n",
      "++++++\n",
      "b'ousand nine hundred ninety eight\\nninety nine thousand nine hundr'\n",
      "++++++\n",
      "b'ed ninety nine\\n'\n",
      "++++++\n"
     ]
    }
   ],
   "source": [
    "print_plus = partial(print,end='\\n++++++\\n')\n",
    "\n",
    "with open('test.txt', 'rb') as f:\n",
    "    iterator = iter(partial(f.read, 64), b'')\n",
    "    print_plus(type(iterator))\n",
    "    for block in iterator: print_plus(block)"
   ]
  }
 ],
 "metadata": {
  "kernelspec": {
   "display_name": "Python 3 (ipykernel)",
   "language": "python",
   "name": "python3"
  }
 },
 "nbformat": 4,
 "nbformat_minor": 5
}
