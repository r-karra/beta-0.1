{
 "cells": [
  {
   "cell_type": "raw",
   "id": "fc0516b8-9d49-4752-be82-e381acd9d372",
   "metadata": {},
   "source": [
    "---\n",
    "title: \"Testimonials and Other Kind Words\"\n",
    "page-layout: full\n",
    "title-block-banner: true\n",
    "---"
   ]
  },
  {
   "cell_type": "markdown",
   "id": "52daafa8-2107-45e0-83cb-1874eefde80e",
   "metadata": {},
   "source": [
    "# Testimonials 😊"
   ]
  },
  {
   "cell_type": "markdown",
   "id": "3aca071d-15df-444c-9000-dba21d26503b",
   "metadata": {},
   "source": [
    "::: {.columns}\n",
    "\n",
    "::: {.column width=\"42%\"}"
   ]
  },
  {
   "cell_type": "markdown",
   "id": "8b50485b-956b-4d70-a04d-8dfc5cfb77aa",
   "metadata": {},
   "source": [
    ":::{.callout-note}\n",
    "### Mike Phenow<br>Mike was CTO @ Linkup\n",
    "<i>\n",
    "Isaac was a pleasure to work with. Beyond being skilled and knowledgeable in data science, he was friendly and genuinely cared about both the work and those he worked with.\n",
    "</i>\n",
    ":::"
   ]
  },
  {
   "cell_type": "markdown",
   "id": "2648ee2e-080c-418b-91ba-9e1dc3471718",
   "metadata": {},
   "source": [
    ":::{.callout-note}\n",
    "### Jake Selvey<br>Director of Analytics & Data Science, Centriam\n",
    "<i>\n",
    "I have been fortunate to benefit from Isaac’s contributions to our team for several years now. His passion for knowledge and practical skills across many aspects of the data/analytics/data sciences realm has made him one of the most well-rounded data practitioners I have worked with. He brings a perspective that continuously feels unique yet is grounded in a practicality that always yields results. There are many aspects of his skill, knowledge, and personality I could speak highly of, but feel I can summarize it best by saying if I had to pick one individual to assist me in tackling an unknown data-related problem/engagement, large or small, it would probably be Isaac.\n",
    "</i>\n",
    ":::"
   ]
  },
  {
   "cell_type": "markdown",
   "id": "6b5920c4-83fd-47b4-87d8-307e510c3545",
   "metadata": {},
   "source": [
    ":::{.callout-note}\n",
    "### John Romans<br>CEO, Biomedix\n",
    "<i>\n",
    "I have had the distinct pleasure of working directly with Isaac Flath as well as observing Isaac’s performance in working with others on team projects as well as individual assignments. What makes Isaac exceptional is his genuine interest and curiosity in understanding the “why” behind each project. This voluntary effort enables Isaac to bring innovative ideas and approaches to each initiative that routinely enable outcomes to be better than originally imagined. Isaac is also a joy to work with which is critically important for those working in remote or hybrid environments.  \n",
    "</i>\n",
    ":::"
   ]
  },
  {
   "cell_type": "markdown",
   "id": "e6c3427b-250d-4c83-8d55-712a228e1a38",
   "metadata": {},
   "source": [
    ":::{.callout-note}\n",
    "### Dr. Sheyi Ojofeitimi, PT, DPT, OCS, CFMT<br>CEO, Synthesis Physical Therapy<br>Co-Founder, Dance Ready Project\n",
    "<i>\n",
    "Isaac Flath is gem!  He listened to our vision, developed a plan to implement it, and guided our interns through the creation and delivery of the final product.  He offers clear and concise solutions for technical problems that arise. Under his guidance, a project we had been struggling with for a year was cleaned up and completed in 2 months!  His ability to easily translate our \"dance speak\" to tech speak was phenomenal. Words are not enough to express how much we cherish his guidance.  \n",
    "</i>\n",
    ":::"
   ]
  },
  {
   "cell_type": "markdown",
   "id": "41411833-9380-4e2c-8fd0-943bdf8e466e",
   "metadata": {},
   "source": [
    ":::{.callout-note}\n",
    "### Michael Sto. Niño<br>Developer\n",
    "<i>\n",
    "Isaac is a well-rounded technical person and excellent at product development. He is really good with data analysis, using this skill to formulate a winning product development strategy. I look forward to working with Isaac again in the future.\n",
    "</i>\n",
    "\n",
    "[Link to Original](https://www.linkedin.com/in/isaacflath/#recommendations)\n",
    ":::"
   ]
  },
  {
   "cell_type": "markdown",
   "id": "240c15be-9d90-46d2-8b19-34f3a87d2817",
   "metadata": {},
   "source": [
    ":::\n",
    "\n",
    "::: {.column width=\"6%\"}\n",
    "<!-- empty column to create gap -->\n",
    ":::\n",
    "\n",
    "::: {.column width=\"42%\"}"
   ]
  },
  {
   "cell_type": "markdown",
   "id": "ae23c45d-1d1e-447e-8f44-e458dec98bb6",
   "metadata": {},
   "source": [
    ":::{.callout-note}\n",
    "### Hamel Husain<br>fastai open source\n",
    "<i>\n",
    "Two underrated @fastdotai people I have met recently:\n",
    "\n",
    "- @isaac_flath\n",
    "- @wasimlorgat \n",
    "\n",
    "Both are super thoughtful, talented, proactive, detailed oriented, and use excellent engineering practices.  \n",
    "\n",
    "Highly recommend supporting, funding, hiring etc. these people ✨\n",
    "\n",
    "I don't even know if they are looking for support.  Just spreading the 😍\n",
    "\n",
    "Sometimes you find hidden gems of people in open source that really impress you\n",
    "</i>\n",
    "\n",
    "[Link to Original](https://twitter.com/HamelHusain/status/1544726786507821057)\n",
    ":::"
   ]
  },
  {
   "cell_type": "markdown",
   "id": "56d0eb16-230d-4fb1-867d-3c99aefd6225",
   "metadata": {},
   "source": [
    ":::{.callout-note}\n",
    "### Greg Gonsior<br>VP Analytics & Co-Founder, Centriam\n",
    "<i>\n",
    "Isaac is a rock star. Having had the privilege of working with him in a day-to-day capacity for several years, I can say that he is among the best and brightest individuals I have ever worked with. His analytics and data sciences chops are top notch, but his ability to combine technical expertise with a deep understanding of people and process to prescribe - and build - the optimal full stack solution is where he stands heads and shoulders above the rest of the pack. His work for Centriam's clients has moved the needle time and again to drive real world business results!\n",
    "</i>\n",
    ":::"
   ]
  },
  {
   "cell_type": "markdown",
   "id": "55071a8d-e009-46cc-b7f5-baf16bedbbc1",
   "metadata": {},
   "source": [
    ":::{.callout-note}\n",
    "### Logan Larson<br>I mentored and managed Logan\n",
    "<i>\n",
    "Isaac was a godsend in helping me find my way and grow as a data scientist while navigating the (frustrating) early-career Data Scientist landscape. He is able to walk me through things I don’t understand and explain them in effective way, while also showing me the path to go above and beyond.  Often these new directions are ones I never would have discovered myself.  This has been true while working under him in a professional setting as well as when discussing ideas and techniques while working alongside him on personal projects. The selfless support he shows his friends may is as impressive as the initiative and drive he shows in his own work.  I am truly excited to see what Isaac achieves in the future!\n",
    "</i>\n",
    ":::"
   ]
  },
  {
   "cell_type": "markdown",
   "id": "6ecf912d-cdab-413d-93d8-b4b2c0a62d2c",
   "metadata": {},
   "source": [
    ":::{.callout-note}\n",
    "### Dr. Danelle Dickson PT, DPT, OCS<br>Owner, Performance Plus Physical Therapy<br>Co-Founder, Dance Ready Project\n",
    "<i>\n",
    "Isaac is really a rare find!  My co-founder and I really hit the jackpot in discovering his skill in creating solutions that work. He is patient, a good listener and intuitive problem solver. These things are key when dealing with technical challenges, and in my world, bridging the gap of applying his skillset to building tools in the performance rehab world has been invaluable. He is able to get to the pertinent details of a project in a professional and timely manner, and reliably delivers quality results. It's a continued pleasure to work with him and I truly treasure his expertise!\n",
    "</i>\n",
    ":::"
   ]
  },
  {
   "cell_type": "raw",
   "id": "97c829be",
   "metadata": {},
   "source": [
    ":::\n",
    ":::"
   ]
  }
 ],
 "metadata": {
  "kernelspec": {
   "display_name": "Python 3 (ipykernel)",
   "language": "python",
   "name": "python3"
  }
 },
 "nbformat": 4,
 "nbformat_minor": 5
}
