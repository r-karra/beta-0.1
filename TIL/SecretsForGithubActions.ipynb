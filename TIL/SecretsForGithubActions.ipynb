{
 "cells": [
  {
   "cell_type": "raw",
   "id": "dbb3d359-7d9b-4f68-a53b-79018e9146f9",
   "metadata": {},
   "source": [
    "---\n",
    "title: \"Secrets for Github Actions\"\n",
    "author: \"Isaac Flath\"\n",
    "date: \"2020-12-6\"\n",
    "description: \"Add secrets to a Github repository and access them for testing and CI/CD in Github Actions\"\n",
    "categories: [Github]\n",
    "---"
   ]
  },
  {
   "cell_type": "markdown",
   "id": "b84e09db-1330-46a8-9e6b-de9fd57f8cc2",
   "metadata": {},
   "source": [
    "# Today I Learned\n",
    "\n",
    "I always assumed it was possible to pass secrets github actions, but I never really dove into it until now.  So today I learned how to add secrets to github for use in the CI/CD for testing.  I'm using it with [nbdev](nbdev.fast.ai)\n",
    "\n",
    "# How to\n",
    "\n",
    "1. In your repository go to Settings -> Secrets -> Add New Secret and add your secret\n",
    "2. Add to your `workflow.yml` file\n",
    "\n",
    "```yaml\n",
    "    env:\n",
    "        key: ${{ secrets.your_secret_key }}\n",
    "```\n",
    "3. Access in code as a normal environment variable\n",
    "\n",
    "```python\n",
    "    import os\n",
    "    your_secret_key = os.environ['your_secret_key']\n",
    "```"
   ]
  },
  {
   "cell_type": "code",
   "execution_count": null,
   "id": "678f01f6-f554-4af2-9c09-698d47786792",
   "metadata": {},
   "outputs": [],
   "source": []
  }
 ],
 "metadata": {
  "kernelspec": {
   "display_name": "Python 3 (ipykernel)",
   "language": "python",
   "name": "python3"
  }
 },
 "nbformat": 4,
 "nbformat_minor": 5
}
