{
 "cells": [
  {
   "cell_type": "raw",
   "id": "89d63deb-c0c1-4d4e-b1ca-99f7dc6bc952",
   "metadata": {},
   "source": [
    "---\n",
    "title: \"Jupyter is JSON\"\n",
    "author: \"Isaac Flath\"\n",
    "date: \"2020-1-15\"\n",
    "description: \"Jupyter notebooks are JSON files that can be manipulated easily\"\n",
    "categories: [Python]\n",
    "---"
   ]
  },
  {
   "cell_type": "markdown",
   "id": "45e983c8-66b8-4d8a-9f87-251e3209a88f",
   "metadata": {},
   "source": [
    "# Today I Learned\n",
    "\n",
    "Jupyter notebooks are JSON files that can be manipulated easily.\n",
    "\n",
    "To read them:\n",
    "\n",
    "```python\n",
    "import json\n",
    "nb = json.load(open(fpath))\n",
    "```\n",
    "\n",
    "To clear outputs\n",
    "\n",
    "```python\n",
    "for cell in nb['cell']:\n",
    "    if cell.cell_type=='code': cell['outputs']=[]\n",
    "```\n",
    "\n",
    "All normal json and easy to work with when needed.  [nbdev](nbdev.fast.ai) has lots of functions and tools to make most of this easier too."
   ]
  }
 ],
 "metadata": {
  "kernelspec": {
   "display_name": "Python 3 (ipykernel)",
   "language": "python",
   "name": "python3"
  }
 },
 "nbformat": 4,
 "nbformat_minor": 5
}
