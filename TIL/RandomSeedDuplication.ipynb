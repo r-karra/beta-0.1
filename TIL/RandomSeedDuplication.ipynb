{
 "cells": [
  {
   "cell_type": "raw",
   "id": "89d63deb-c0c1-4d4e-b1ca-99f7dc6bc952",
   "metadata": {},
   "source": [
    "---\n",
    "title: \"Random State Duplication\"\n",
    "author: \"Isaac Flath\"\n",
    "date: \"2022-11-05\"\n",
    "description: \"Random states can easily be duplicated when parallel processing causing duplicate number generation\"\n",
    "categories: [Python]\n",
    "---"
   ]
  },
  {
   "cell_type": "markdown",
   "id": "45e983c8-66b8-4d8a-9f87-251e3209a88f",
   "metadata": {},
   "source": [
    "# Today I Learned\n",
    "\n",
    "You should be really careful about random state when parallel processing.  If you aren't careful, the random seed will be copied over to other processes and each process will generate the same random numbers!  I learned this from a [fastai](fast.ai) lecture in the 2022 part 2 course.\n",
    "\n",
    "![Image showing duplicate random numbers being creating on separate processes due to random seeds being accidentally duplicated to multiple processes](./imgs/RandomNumberForkDuplicate.png)"
   ]
  },
  {
   "cell_type": "code",
   "execution_count": null,
   "id": "ec3e49a3-df01-4690-8ae9-3cffce263aa0",
   "metadata": {},
   "outputs": [],
   "source": []
  }
 ],
 "metadata": {
  "kernelspec": {
   "display_name": "Python 3 (ipykernel)",
   "language": "python",
   "name": "python3"
  }
 },
 "nbformat": 4,
 "nbformat_minor": 5
}
