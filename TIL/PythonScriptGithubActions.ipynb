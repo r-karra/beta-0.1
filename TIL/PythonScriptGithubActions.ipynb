{
 "cells": [
  {
   "cell_type": "raw",
   "id": "89d63deb-c0c1-4d4e-b1ca-99f7dc6bc952",
   "metadata": {},
   "source": [
    "---\n",
    "title: \"Run Python on Github Actions\"\n",
    "author: \"Isaac Flath\"\n",
    "date: \"2022-8-10\"\n",
    "description: \"How to run a python script on Github Actions on a cron or on pusn\"\n",
    "categories: [Python, Github]\n",
    "---"
   ]
  },
  {
   "cell_type": "markdown",
   "id": "45e983c8-66b8-4d8a-9f87-251e3209a88f",
   "metadata": {},
   "source": [
    "# Today I Learned\n",
    "\n",
    "How to run a python script on a cron using github actions, or on push of a branch.\n",
    "\n",
    "Key parts of `workflow.yaml`\n",
    "\n",
    "Define the how the job runs and what the triggers are\n",
    "\n",
    "```yaml\n",
    "name: myWorkflow\n",
    "on:\n",
    "   push:\n",
    "      branches: [main]\n",
    "    schedule:\n",
    "      - cron: \"0 0 * * *\" \n",
    "```\n",
    "\n",
    "Define system to run on.\n",
    "\n",
    "```yaml\n",
    "jobs:\n",
    "  build:\n",
    "    runs-on: ubuntu-latest\n",
    "    steps:\n",
    "```\n",
    "\n",
    "Checkout the github repo you are in (so you can access the files)\n",
    "\n",
    "```yaml\n",
    "      - name: checkout repo content\n",
    "        uses: actions/checkout@v2\n",
    "```\n",
    "\n",
    "Setup Python 3\n",
    "\n",
    "```yaml\n",
    "      - uses: actions/setup-python@v3\n",
    "        with:\n",
    "          python-version: \"3.9\"\n",
    "          architecture: \"x64\"\n",
    "```\n",
    "\n",
    "Install dependencies as needed and run a python script in the repository\n",
    "\n",
    "```yaml\n",
    "      - name: Install Dependencies\n",
    "        run: |\n",
    "          python -m pip install --upgrade pip\n",
    "          pip install -Uq git+https://github.com/fastai/fastcore.git\n",
    "      - name: execute py script\n",
    "        run: |\n",
    "          python run.py\n",
    "```"
   ]
  },
  {
   "cell_type": "code",
   "execution_count": null,
   "id": "9ab2caf2-18be-4ff0-8850-875b8ddfd902",
   "metadata": {},
   "outputs": [],
   "source": []
  }
 ],
 "metadata": {
  "kernelspec": {
   "display_name": "Python 3 (ipykernel)",
   "language": "python",
   "name": "python3"
  }
 },
 "nbformat": 4,
 "nbformat_minor": 5
}
