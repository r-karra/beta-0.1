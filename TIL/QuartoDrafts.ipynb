{
 "cells": [
  {
   "cell_type": "raw",
   "id": "89d63deb-c0c1-4d4e-b1ca-99f7dc6bc952",
   "metadata": {},
   "source": [
    "---\n",
    "title: \"Finding All Quarto Drafts\"\n",
    "author: \"Isaac Flath\"\n",
    "date: \"2023-01-21\"\n",
    "description: \"Use bash to find all your draft quarto files\"\n",
    "categories: [Quarto, Bash]\n",
    "---"
   ]
  },
  {
   "attachments": {},
   "cell_type": "markdown",
   "id": "45e983c8-66b8-4d8a-9f87-251e3209a88f",
   "metadata": {},
   "source": [
    "# Today I Learned\n",
    "\n",
    "I needed find all the draft blog posts I had.  My draft blog posts were mixed in with real blog posts, and after not looking at the blog for a while I did not remember what posts I had started.\n",
    "\n",
    "With a bash command I can search for all files recursively that contain \"draft: true\".  THis gives me all my drafts, and I don't have to worry about losing them or keeping them in a separate place.\n",
    "\n",
    "# How to\n",
    "\n",
    "`grep -rl \"draft: true\"`\n",
    "\n",
    "**How it works:**\n",
    "\n",
    "+ `grep` : Searches for substrings and filters contents\n",
    "+ `-rl`\n",
    "\n",
    "  + `r` : Searches recursively\n",
    "  + `l` : Return file name assiciated with the match\n",
    "\n",
    ":::{.callout-tip}\n",
    "### Excluding Files\n",
    "If you're getting some files you don't want, you can add exclusion criteria.  For example if you add `| grep -v \".ipynb_checkpoints\"` to the end, it will exclude notebook checkpoints that you almost certainly don't want to see!\n",
    ":::"
   ]
  },
  {
   "cell_type": "markdown",
   "id": "f1855927",
   "metadata": {},
   "source": []
  }
 ],
 "metadata": {
  "kernelspec": {
   "display_name": "Python 3",
   "language": "python",
   "name": "python3"
  },
  "language_info": {
   "name": "python",
   "version": "3.10.8 (main, Oct 13 2022, 09:48:40) [Clang 14.0.0 (clang-1400.0.29.102)]"
  },
  "vscode": {
   "interpreter": {
    "hash": "b0fa6594d8f4cbf19f97940f81e996739fb7646882a419484c72d19e05852a7e"
   }
  }
 },
 "nbformat": 4,
 "nbformat_minor": 5
}
