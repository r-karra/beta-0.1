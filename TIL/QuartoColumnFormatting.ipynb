{
 "cells": [
  {
   "cell_type": "raw",
   "id": "d6925690-dfa9-4abd-a4e7-d035f4799678",
   "metadata": {},
   "source": [
    "---\n",
    "title: \"Quarto Column Formatting\"\n",
    "author: \"Isaac Flath\"\n",
    "date: \"2022-11-14\"\n",
    "description: \"Quarto column formatting is easy and intuitive!\"\n",
    "categories: [Quarto]\n",
    "---"
   ]
  },
  {
   "cell_type": "markdown",
   "id": "b22bda59-6ead-4b3a-ac66-1b7a48d5b53d",
   "metadata": {},
   "source": [
    "# Today I Learned\n",
    "\n",
    "Today I learned that it's very easy to make multi-column layouts in [quarto](https://quarto.org).\n",
    "\n",
    "By having this ability to easily create and control the width of columns in different sections of markdown I can do a lot of nice things.  For example, I combined this concept with my favorite quarto feature (callout blocks) to create my [testimonials page](../testimonials.ipynb)!\n",
    "\n",
    "```\n",
    "::: {.columns}\n",
    "\n",
    "::: {.column width=\"42%\"}\n",
    "Column on the Left\n",
    ":::\n",
    "\n",
    "::: {.column width=\"6%\"}\n",
    "<!-- empty column to create gap -->\n",
    ":::\n",
    "\n",
    "::: {.column width=\"42%\"}\n",
    "Column on the right\n",
    ":::\n",
    "\n",
    ":::\n",
    "```"
   ]
  },
  {
   "cell_type": "code",
   "execution_count": null,
   "id": "257c0933-6d9d-4d3d-be76-6dbda14aa900",
   "metadata": {},
   "outputs": [],
   "source": []
  }
 ],
 "metadata": {
  "kernelspec": {
   "display_name": "Python 3 (ipykernel)",
   "language": "python",
   "name": "python3"
  }
 },
 "nbformat": 4,
 "nbformat_minor": 5
}
