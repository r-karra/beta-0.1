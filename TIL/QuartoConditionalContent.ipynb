{
 "cells": [
  {
   "cell_type": "raw",
   "id": "ef51c65e-e376-471f-8e29-625c929abf82",
   "metadata": {},
   "source": [
    "---\n",
    "title: \"Quarto Conditional Content\"\n",
    "author: \"Isaac Flath\"\n",
    "date: \"2022-11-10\"\n",
    "description: \"Controlling what markdown is visible by output type in Quarto\"\n",
    "categories: [Quarto]\n",
    "---"
   ]
  },
  {
   "cell_type": "markdown",
   "id": "0d7c5b8d-a519-465b-a1e3-f8df24a1f350",
   "metadata": {},
   "source": [
    "# Today I Learned\n",
    "\n",
    "Today I learned that you can control what markdown renders.  This is called [conditional content in the Quarto docs](https://quarto.org/docs/authoring/conditional.html).\n",
    "\n",
    "When I create a quarto notebook I can add full markdown note for myself or other contributors that do not render to the output format, whether that output is a html, pdf, python library, or website.  Yoformats it will render to and which it will not.u can control which \n",
    "\n",
    "## Ways I will use this\n",
    "\n",
    "### HTML Reports\n",
    "\n",
    "Now-a-days all my presentations are really Quarto html outputs that I walk through with clients.  I can now add sections of notes for myself that I don't want the client to see.   Lots of things I will use this for such as:\n",
    "\n",
    "+ Documenting some nuance about why I did something that isn't relevant to business users\n",
    "+ Notes to look into some data issue if the project gets approved\n",
    "+ Markdown to break my setup into sections (imports, UDF, db connections, etc.)\n",
    "\n",
    "And much more\n",
    "\n",
    "### NBdev\n",
    "\n",
    "[nbdev](nbdev.fast.ai) is a tool to write, test, document, and distribute software packages and technical articles — all in one place, your notebook.  It takes notebooks and outputs documentation and a python library.  This is great because now in the same place I can write development notes or to-do's right in the place where the code/tests/docs are sourced from.  Maybe a note for myself or for other developers in full markdown that won't get rendered to the user documentation.\n",
    "\n",
    "### Website/Blogs\n",
    "\n",
    "I think it'll be really nice to have notes on blogs.  Sometimes I go back and improve old blogs, or add sections.  I try not to let not being \"finished\" prevent me from posting.  Once I have something I think is good it ships, even if there's more I could do.  Because there's always more I can do.  Being able to add the to-do's to myself for when I come back later will be fantastic!"
   ]
  }
 ],
 "metadata": {
  "kernelspec": {
   "display_name": "Python 3 (ipykernel)",
   "language": "python",
   "name": "python3"
  }
 },
 "nbformat": 4,
 "nbformat_minor": 5
}
