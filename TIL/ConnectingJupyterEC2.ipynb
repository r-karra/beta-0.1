{
 "cells": [
  {
   "cell_type": "raw",
   "id": "89d63deb-c0c1-4d4e-b1ca-99f7dc6bc952",
   "metadata": {},
   "source": [
    "---\n",
    "title: \"Connecting Jupyter to EC2\"\n",
    "author: \"Isaac Flath\"\n",
    "date: \"2020-6-25\"\n",
    "description: \"Use port forwarding to use EC2 for jupyterlab\"\n",
    "categories: [Cloud]\n",
    "---"
   ]
  },
  {
   "cell_type": "markdown",
   "id": "45e983c8-66b8-4d8a-9f87-251e3209a88f",
   "metadata": {},
   "source": [
    "# Today I Learned\n",
    "\n",
    "I needed to use an EC2 instance to run a jupyter notebook.  Here's the steps it took to set do it.\n",
    "\n",
    "# How to\n",
    "\n",
    "1. Launch EC2 instance\n",
    "1. SSH into instance\n",
    "1. Run JupyterLab in EC2 `jupyter-lab --no-browser --port=8889`\n",
    "1. Use ssh for port forwarding `-L 8000:localhost:8889 `\n",
    "1. Open jupyter on your local browser at `localhost:8000`\n"
   ]
  }
 ],
 "metadata": {
  "kernelspec": {
   "display_name": "Python 3 (ipykernel)",
   "language": "python",
   "name": "python3"
  }
 },
 "nbformat": 4,
 "nbformat_minor": 5
}
