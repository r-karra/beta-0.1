{
 "cells": [
  {
   "cell_type": "raw",
   "id": "89d63deb-c0c1-4d4e-b1ca-99f7dc6bc952",
   "metadata": {},
   "source": [
    "---\n",
    "title: \"Shelve Python Database\"\n",
    "author: \"Isaac Flath\"\n",
    "date: \"2021-5-15\"\n",
    "description: \"Shelve is a dictionary database - It's like sqlite for nosql\"\n",
    "categories: [Python]\n",
    "---"
   ]
  },
  {
   "cell_type": "markdown",
   "id": "45e983c8-66b8-4d8a-9f87-251e3209a88f",
   "metadata": {},
   "source": [
    "# Today I Learned\n",
    "\n",
    "`Shelve` is dictionary database that stored in a single file without installation needed.  It's like a nosql version of sqlite.\n",
    "\n",
    "There's some really cool things about shelve:\n",
    "\n",
    "+ You can add to it with the same syntax as dictionaries, so not much new syntax or api to learn or thing about\n",
    "+ It's stored in a file but it's all pickled so read/write pretty fast and is stored on disk\n",
    "+ Anything that can be pickled can be stored as a value. In python, that is most things.\n",
    "+ It's nosql and you don't need to have a set schema."
   ]
  }
 ],
 "metadata": {
  "kernelspec": {
   "display_name": "Python 3 (ipykernel)",
   "language": "python",
   "name": "python3"
  }
 },
 "nbformat": 4,
 "nbformat_minor": 5
}
